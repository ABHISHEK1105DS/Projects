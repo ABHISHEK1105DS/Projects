{
 "cells": [
  {
   "cell_type": "code",
   "execution_count": 1,
   "metadata": {
    "_cell_guid": "b1076dfc-b9ad-4769-8c92-a6c4dae69d19",
    "_uuid": "8f2839f25d086af736a60e9eeb907d3b93b6e0e5",
    "execution": {
     "iopub.execute_input": "2021-01-21T15:03:05.319780Z",
     "iopub.status.busy": "2021-01-21T15:03:05.319094Z",
     "iopub.status.idle": "2021-01-21T15:03:05.326253Z",
     "shell.execute_reply": "2021-01-21T15:03:05.325671Z"
    },
    "papermill": {
     "duration": 0.118447,
     "end_time": "2021-01-21T15:03:05.326400",
     "exception": false,
     "start_time": "2021-01-21T15:03:05.207953",
     "status": "completed"
    },
    "tags": []
   },
   "outputs": [
    {
     "name": "stdout",
     "output_type": "stream",
     "text": [
      "/kaggle/input/house-prices-advanced-regression-techniques/sample_submission.csv\n",
      "/kaggle/input/house-prices-advanced-regression-techniques/data_description.txt\n",
      "/kaggle/input/house-prices-advanced-regression-techniques/train.csv\n",
      "/kaggle/input/house-prices-advanced-regression-techniques/test.csv\n"
     ]
    }
   ],
   "source": [
    "# This Python 3 environment comes with many helpful analytics libraries installed\n",
    "# It is defined by the kaggle/python Docker image: https://github.com/kaggle/docker-python\n",
    "# For example, here's several helpful packages to load\n",
    "\n",
    "import numpy as np # linear algebra\n",
    "import pandas as pd # data processing, CSV file I/O (e.g. pd.read_csv)\n",
    "\n",
    "# Input data files are available in the read-only \"../input/\" directory\n",
    "# For example, running this (by clicking run or pressing Shift+Enter) will list all files under the input directory\n",
    "\n",
    "import os\n",
    "for dirname, _, filenames in os.walk('/kaggle/input'):\n",
    "    for filename in filenames:\n",
    "        print(os.path.join(dirname, filename))\n",
    "\n",
    "# You can write up to 5GB to the current directory (/kaggle/working/) that gets preserved as output when you create a version using \"Save & Run All\" \n",
    "# You can also write temporary files to /kaggle/temp/, but they won't be saved outside of the current session"
   ]
  },
  {
   "cell_type": "code",
   "execution_count": 2,
   "metadata": {
    "execution": {
     "iopub.execute_input": "2021-01-21T15:03:05.545922Z",
     "iopub.status.busy": "2021-01-21T15:03:05.545192Z",
     "iopub.status.idle": "2021-01-21T15:03:05.549273Z",
     "shell.execute_reply": "2021-01-21T15:03:05.548657Z"
    },
    "papermill": {
     "duration": 0.116335,
     "end_time": "2021-01-21T15:03:05.549407",
     "exception": false,
     "start_time": "2021-01-21T15:03:05.433072",
     "status": "completed"
    },
    "tags": []
   },
   "outputs": [],
   "source": [
    "from matplotlib import pyplot as plt"
   ]
  },
  {
   "cell_type": "code",
   "execution_count": 3,
   "metadata": {
    "_cell_guid": "79c7e3d0-c299-4dcb-8224-4455121ee9b0",
    "_uuid": "d629ff2d2480ee46fbb7e2d37f6b5fab8052498a",
    "execution": {
     "iopub.execute_input": "2021-01-21T15:03:05.767315Z",
     "iopub.status.busy": "2021-01-21T15:03:05.766688Z",
     "iopub.status.idle": "2021-01-21T15:03:05.848181Z",
     "shell.execute_reply": "2021-01-21T15:03:05.847515Z"
    },
    "papermill": {
     "duration": 0.193679,
     "end_time": "2021-01-21T15:03:05.848302",
     "exception": false,
     "start_time": "2021-01-21T15:03:05.654623",
     "status": "completed"
    },
    "tags": []
   },
   "outputs": [],
   "source": [
    "train = pd.read_csv('../input/house-prices-advanced-regression-techniques/train.csv')\n",
    "test = pd.read_csv('../input/house-prices-advanced-regression-techniques/test.csv')"
   ]
  },
  {
   "cell_type": "code",
   "execution_count": 4,
   "metadata": {
    "execution": {
     "iopub.execute_input": "2021-01-21T15:03:06.071450Z",
     "iopub.status.busy": "2021-01-21T15:03:06.068472Z",
     "iopub.status.idle": "2021-01-21T15:03:06.075398Z",
     "shell.execute_reply": "2021-01-21T15:03:06.074836Z"
    },
    "papermill": {
     "duration": 0.121359,
     "end_time": "2021-01-21T15:03:06.075519",
     "exception": false,
     "start_time": "2021-01-21T15:03:05.954160",
     "status": "completed"
    },
    "tags": []
   },
   "outputs": [],
   "source": [
    "train_ID = train['Id']\n",
    "test_ID = test['Id']"
   ]
  },
  {
   "cell_type": "code",
   "execution_count": 5,
   "metadata": {
    "execution": {
     "iopub.execute_input": "2021-01-21T15:03:06.302384Z",
     "iopub.status.busy": "2021-01-21T15:03:06.301507Z",
     "iopub.status.idle": "2021-01-21T15:03:06.307949Z",
     "shell.execute_reply": "2021-01-21T15:03:06.307251Z"
    },
    "papermill": {
     "duration": 0.125561,
     "end_time": "2021-01-21T15:03:06.308061",
     "exception": false,
     "start_time": "2021-01-21T15:03:06.182500",
     "status": "completed"
    },
    "tags": []
   },
   "outputs": [
    {
     "data": {
      "text/plain": [
       "0        856\n",
       "1       1262\n",
       "2        920\n",
       "3        756\n",
       "4       1145\n",
       "        ... \n",
       "1455     953\n",
       "1456    1542\n",
       "1457    1152\n",
       "1458    1078\n",
       "1459    1256\n",
       "Name: TotalBsmtSF, Length: 1460, dtype: int64"
      ]
     },
     "execution_count": 5,
     "metadata": {},
     "output_type": "execute_result"
    }
   ],
   "source": [
    "train['TotalBsmtSF']"
   ]
  },
  {
   "cell_type": "code",
   "execution_count": 6,
   "metadata": {
    "execution": {
     "iopub.execute_input": "2021-01-21T15:03:06.529051Z",
     "iopub.status.busy": "2021-01-21T15:03:06.528137Z",
     "iopub.status.idle": "2021-01-21T15:03:06.535439Z",
     "shell.execute_reply": "2021-01-21T15:03:06.534729Z"
    },
    "papermill": {
     "duration": 0.120238,
     "end_time": "2021-01-21T15:03:06.535555",
     "exception": false,
     "start_time": "2021-01-21T15:03:06.415317",
     "status": "completed"
    },
    "tags": []
   },
   "outputs": [
    {
     "data": {
      "text/plain": [
       "0        882.0\n",
       "1       1329.0\n",
       "2        928.0\n",
       "3        926.0\n",
       "4       1280.0\n",
       "         ...  \n",
       "1454     546.0\n",
       "1455     546.0\n",
       "1456    1224.0\n",
       "1457     912.0\n",
       "1458     996.0\n",
       "Name: TotalBsmtSF, Length: 1459, dtype: float64"
      ]
     },
     "execution_count": 6,
     "metadata": {},
     "output_type": "execute_result"
    }
   ],
   "source": [
    "test['TotalBsmtSF']"
   ]
  },
  {
   "cell_type": "code",
   "execution_count": 7,
   "metadata": {
    "execution": {
     "iopub.execute_input": "2021-01-21T15:03:06.765665Z",
     "iopub.status.busy": "2021-01-21T15:03:06.764741Z",
     "iopub.status.idle": "2021-01-21T15:03:06.772097Z",
     "shell.execute_reply": "2021-01-21T15:03:06.770878Z"
    },
    "papermill": {
     "duration": 0.130372,
     "end_time": "2021-01-21T15:03:06.772204",
     "exception": false,
     "start_time": "2021-01-21T15:03:06.641832",
     "status": "completed"
    },
    "tags": []
   },
   "outputs": [
    {
     "name": "stdout",
     "output_type": "stream",
     "text": [
      "The train data size before dropping Id feature is : (1460, 81) \n",
      "The test data size before dropping Id feature is : (1459, 80) \n",
      "\n",
      "The train data size after dropping Id feature is : (1460, 80) \n",
      "The test data size after dropping Id feature is : (1459, 79) \n"
     ]
    }
   ],
   "source": [
    "print(\"The train data size before dropping Id feature is : {} \".format(train.shape))\n",
    "print(\"The test data size before dropping Id feature is : {} \".format(test.shape))\n",
    "\n",
    "#Now drop the  'Id' colum since it's unnecessary for  the prediction process.\n",
    "\n",
    "train.drop(\"Id\", axis = 1, inplace = True)\n",
    "test.drop(\"Id\", axis = 1, inplace = True)\n",
    "print(\"\\nThe train data size after dropping Id feature is : {} \".format(train.shape)) \n",
    "print(\"The test data size after dropping Id feature is : {} \".format(test.shape))"
   ]
  },
  {
   "cell_type": "code",
   "execution_count": 8,
   "metadata": {
    "execution": {
     "iopub.execute_input": "2021-01-21T15:03:06.988049Z",
     "iopub.status.busy": "2021-01-21T15:03:06.987176Z",
     "iopub.status.idle": "2021-01-21T15:03:06.989831Z",
     "shell.execute_reply": "2021-01-21T15:03:06.990525Z"
    },
    "papermill": {
     "duration": 0.112608,
     "end_time": "2021-01-21T15:03:06.990707",
     "exception": false,
     "start_time": "2021-01-21T15:03:06.878099",
     "status": "completed"
    },
    "tags": []
   },
   "outputs": [],
   "source": [
    "#Data Processing"
   ]
  },
  {
   "cell_type": "code",
   "execution_count": 9,
   "metadata": {
    "execution": {
     "iopub.execute_input": "2021-01-21T15:03:07.323991Z",
     "iopub.status.busy": "2021-01-21T15:03:07.323075Z",
     "iopub.status.idle": "2021-01-21T15:03:07.326098Z",
     "shell.execute_reply": "2021-01-21T15:03:07.326955Z"
    },
    "papermill": {
     "duration": 0.170672,
     "end_time": "2021-01-21T15:03:07.327108",
     "exception": false,
     "start_time": "2021-01-21T15:03:07.156436",
     "status": "completed"
    },
    "tags": []
   },
   "outputs": [],
   "source": [
    "##Outliers"
   ]
  },
  {
   "cell_type": "code",
   "execution_count": 10,
   "metadata": {
    "execution": {
     "iopub.execute_input": "2021-01-21T15:03:07.657756Z",
     "iopub.status.busy": "2021-01-21T15:03:07.656881Z",
     "iopub.status.idle": "2021-01-21T15:03:07.659894Z",
     "shell.execute_reply": "2021-01-21T15:03:07.659063Z"
    },
    "papermill": {
     "duration": 0.170763,
     "end_time": "2021-01-21T15:03:07.660020",
     "exception": false,
     "start_time": "2021-01-21T15:03:07.489257",
     "status": "completed"
    },
    "tags": []
   },
   "outputs": [],
   "source": [
    "# feature engineering"
   ]
  },
  {
   "cell_type": "code",
   "execution_count": 11,
   "metadata": {
    "execution": {
     "iopub.execute_input": "2021-01-21T15:03:07.996024Z",
     "iopub.status.busy": "2021-01-21T15:03:07.992719Z",
     "iopub.status.idle": "2021-01-21T15:03:08.022592Z",
     "shell.execute_reply": "2021-01-21T15:03:08.021853Z"
    },
    "papermill": {
     "duration": 0.20262,
     "end_time": "2021-01-21T15:03:08.022707",
     "exception": false,
     "start_time": "2021-01-21T15:03:07.820087",
     "status": "completed"
    },
    "tags": []
   },
   "outputs": [
    {
     "name": "stdout",
     "output_type": "stream",
     "text": [
      "all_data size is : (2919, 79)\n"
     ]
    }
   ],
   "source": [
    "ntrain = train.shape[0]\n",
    "ntest = test.shape[0]\n",
    "y_train = train.SalePrice.values\n",
    "df_train = pd.concat((train, test)).reset_index(drop=True)\n",
    "df_train.drop(['SalePrice'], axis=1, inplace=True)\n",
    "print(\"all_data size is : {}\".format(df_train.shape))\n",
    "\n",
    "\n",
    "\n"
   ]
  },
  {
   "cell_type": "code",
   "execution_count": 12,
   "metadata": {
    "execution": {
     "iopub.execute_input": "2021-01-21T15:03:08.251238Z",
     "iopub.status.busy": "2021-01-21T15:03:08.250554Z",
     "iopub.status.idle": "2021-01-21T15:03:08.324449Z",
     "shell.execute_reply": "2021-01-21T15:03:08.325104Z"
    },
    "papermill": {
     "duration": 0.19647,
     "end_time": "2021-01-21T15:03:08.325245",
     "exception": false,
     "start_time": "2021-01-21T15:03:08.128775",
     "status": "completed"
    },
    "tags": []
   },
   "outputs": [
    {
     "data": {
      "text/html": [
       "<div>\n",
       "<style scoped>\n",
       "    .dataframe tbody tr th:only-of-type {\n",
       "        vertical-align: middle;\n",
       "    }\n",
       "\n",
       "    .dataframe tbody tr th {\n",
       "        vertical-align: top;\n",
       "    }\n",
       "\n",
       "    .dataframe thead th {\n",
       "        text-align: right;\n",
       "    }\n",
       "</style>\n",
       "<table border=\"1\" class=\"dataframe\">\n",
       "  <thead>\n",
       "    <tr style=\"text-align: right;\">\n",
       "      <th></th>\n",
       "      <th>MSSubClass</th>\n",
       "      <th>MSZoning</th>\n",
       "      <th>LotFrontage</th>\n",
       "      <th>LotArea</th>\n",
       "      <th>Street</th>\n",
       "      <th>Alley</th>\n",
       "      <th>LotShape</th>\n",
       "      <th>LandContour</th>\n",
       "      <th>Utilities</th>\n",
       "      <th>LotConfig</th>\n",
       "      <th>...</th>\n",
       "      <th>PoolArea</th>\n",
       "      <th>PoolQC</th>\n",
       "      <th>Fence</th>\n",
       "      <th>MiscFeature</th>\n",
       "      <th>MiscVal</th>\n",
       "      <th>MoSold</th>\n",
       "      <th>YrSold</th>\n",
       "      <th>SaleType</th>\n",
       "      <th>SaleCondition</th>\n",
       "      <th>SalePrice</th>\n",
       "    </tr>\n",
       "  </thead>\n",
       "  <tbody>\n",
       "    <tr>\n",
       "      <th>0</th>\n",
       "      <td>60</td>\n",
       "      <td>RL</td>\n",
       "      <td>65.0</td>\n",
       "      <td>8450</td>\n",
       "      <td>Pave</td>\n",
       "      <td>NaN</td>\n",
       "      <td>Reg</td>\n",
       "      <td>Lvl</td>\n",
       "      <td>AllPub</td>\n",
       "      <td>Inside</td>\n",
       "      <td>...</td>\n",
       "      <td>0</td>\n",
       "      <td>NaN</td>\n",
       "      <td>NaN</td>\n",
       "      <td>NaN</td>\n",
       "      <td>0</td>\n",
       "      <td>2</td>\n",
       "      <td>2008</td>\n",
       "      <td>WD</td>\n",
       "      <td>Normal</td>\n",
       "      <td>208500</td>\n",
       "    </tr>\n",
       "    <tr>\n",
       "      <th>1</th>\n",
       "      <td>20</td>\n",
       "      <td>RL</td>\n",
       "      <td>80.0</td>\n",
       "      <td>9600</td>\n",
       "      <td>Pave</td>\n",
       "      <td>NaN</td>\n",
       "      <td>Reg</td>\n",
       "      <td>Lvl</td>\n",
       "      <td>AllPub</td>\n",
       "      <td>FR2</td>\n",
       "      <td>...</td>\n",
       "      <td>0</td>\n",
       "      <td>NaN</td>\n",
       "      <td>NaN</td>\n",
       "      <td>NaN</td>\n",
       "      <td>0</td>\n",
       "      <td>5</td>\n",
       "      <td>2007</td>\n",
       "      <td>WD</td>\n",
       "      <td>Normal</td>\n",
       "      <td>181500</td>\n",
       "    </tr>\n",
       "    <tr>\n",
       "      <th>2</th>\n",
       "      <td>60</td>\n",
       "      <td>RL</td>\n",
       "      <td>68.0</td>\n",
       "      <td>11250</td>\n",
       "      <td>Pave</td>\n",
       "      <td>NaN</td>\n",
       "      <td>IR1</td>\n",
       "      <td>Lvl</td>\n",
       "      <td>AllPub</td>\n",
       "      <td>Inside</td>\n",
       "      <td>...</td>\n",
       "      <td>0</td>\n",
       "      <td>NaN</td>\n",
       "      <td>NaN</td>\n",
       "      <td>NaN</td>\n",
       "      <td>0</td>\n",
       "      <td>9</td>\n",
       "      <td>2008</td>\n",
       "      <td>WD</td>\n",
       "      <td>Normal</td>\n",
       "      <td>223500</td>\n",
       "    </tr>\n",
       "    <tr>\n",
       "      <th>3</th>\n",
       "      <td>70</td>\n",
       "      <td>RL</td>\n",
       "      <td>60.0</td>\n",
       "      <td>9550</td>\n",
       "      <td>Pave</td>\n",
       "      <td>NaN</td>\n",
       "      <td>IR1</td>\n",
       "      <td>Lvl</td>\n",
       "      <td>AllPub</td>\n",
       "      <td>Corner</td>\n",
       "      <td>...</td>\n",
       "      <td>0</td>\n",
       "      <td>NaN</td>\n",
       "      <td>NaN</td>\n",
       "      <td>NaN</td>\n",
       "      <td>0</td>\n",
       "      <td>2</td>\n",
       "      <td>2006</td>\n",
       "      <td>WD</td>\n",
       "      <td>Abnorml</td>\n",
       "      <td>140000</td>\n",
       "    </tr>\n",
       "    <tr>\n",
       "      <th>4</th>\n",
       "      <td>60</td>\n",
       "      <td>RL</td>\n",
       "      <td>84.0</td>\n",
       "      <td>14260</td>\n",
       "      <td>Pave</td>\n",
       "      <td>NaN</td>\n",
       "      <td>IR1</td>\n",
       "      <td>Lvl</td>\n",
       "      <td>AllPub</td>\n",
       "      <td>FR2</td>\n",
       "      <td>...</td>\n",
       "      <td>0</td>\n",
       "      <td>NaN</td>\n",
       "      <td>NaN</td>\n",
       "      <td>NaN</td>\n",
       "      <td>0</td>\n",
       "      <td>12</td>\n",
       "      <td>2008</td>\n",
       "      <td>WD</td>\n",
       "      <td>Normal</td>\n",
       "      <td>250000</td>\n",
       "    </tr>\n",
       "    <tr>\n",
       "      <th>...</th>\n",
       "      <td>...</td>\n",
       "      <td>...</td>\n",
       "      <td>...</td>\n",
       "      <td>...</td>\n",
       "      <td>...</td>\n",
       "      <td>...</td>\n",
       "      <td>...</td>\n",
       "      <td>...</td>\n",
       "      <td>...</td>\n",
       "      <td>...</td>\n",
       "      <td>...</td>\n",
       "      <td>...</td>\n",
       "      <td>...</td>\n",
       "      <td>...</td>\n",
       "      <td>...</td>\n",
       "      <td>...</td>\n",
       "      <td>...</td>\n",
       "      <td>...</td>\n",
       "      <td>...</td>\n",
       "      <td>...</td>\n",
       "      <td>...</td>\n",
       "    </tr>\n",
       "    <tr>\n",
       "      <th>1455</th>\n",
       "      <td>60</td>\n",
       "      <td>RL</td>\n",
       "      <td>62.0</td>\n",
       "      <td>7917</td>\n",
       "      <td>Pave</td>\n",
       "      <td>NaN</td>\n",
       "      <td>Reg</td>\n",
       "      <td>Lvl</td>\n",
       "      <td>AllPub</td>\n",
       "      <td>Inside</td>\n",
       "      <td>...</td>\n",
       "      <td>0</td>\n",
       "      <td>NaN</td>\n",
       "      <td>NaN</td>\n",
       "      <td>NaN</td>\n",
       "      <td>0</td>\n",
       "      <td>8</td>\n",
       "      <td>2007</td>\n",
       "      <td>WD</td>\n",
       "      <td>Normal</td>\n",
       "      <td>175000</td>\n",
       "    </tr>\n",
       "    <tr>\n",
       "      <th>1456</th>\n",
       "      <td>20</td>\n",
       "      <td>RL</td>\n",
       "      <td>85.0</td>\n",
       "      <td>13175</td>\n",
       "      <td>Pave</td>\n",
       "      <td>NaN</td>\n",
       "      <td>Reg</td>\n",
       "      <td>Lvl</td>\n",
       "      <td>AllPub</td>\n",
       "      <td>Inside</td>\n",
       "      <td>...</td>\n",
       "      <td>0</td>\n",
       "      <td>NaN</td>\n",
       "      <td>MnPrv</td>\n",
       "      <td>NaN</td>\n",
       "      <td>0</td>\n",
       "      <td>2</td>\n",
       "      <td>2010</td>\n",
       "      <td>WD</td>\n",
       "      <td>Normal</td>\n",
       "      <td>210000</td>\n",
       "    </tr>\n",
       "    <tr>\n",
       "      <th>1457</th>\n",
       "      <td>70</td>\n",
       "      <td>RL</td>\n",
       "      <td>66.0</td>\n",
       "      <td>9042</td>\n",
       "      <td>Pave</td>\n",
       "      <td>NaN</td>\n",
       "      <td>Reg</td>\n",
       "      <td>Lvl</td>\n",
       "      <td>AllPub</td>\n",
       "      <td>Inside</td>\n",
       "      <td>...</td>\n",
       "      <td>0</td>\n",
       "      <td>NaN</td>\n",
       "      <td>GdPrv</td>\n",
       "      <td>Shed</td>\n",
       "      <td>2500</td>\n",
       "      <td>5</td>\n",
       "      <td>2010</td>\n",
       "      <td>WD</td>\n",
       "      <td>Normal</td>\n",
       "      <td>266500</td>\n",
       "    </tr>\n",
       "    <tr>\n",
       "      <th>1458</th>\n",
       "      <td>20</td>\n",
       "      <td>RL</td>\n",
       "      <td>68.0</td>\n",
       "      <td>9717</td>\n",
       "      <td>Pave</td>\n",
       "      <td>NaN</td>\n",
       "      <td>Reg</td>\n",
       "      <td>Lvl</td>\n",
       "      <td>AllPub</td>\n",
       "      <td>Inside</td>\n",
       "      <td>...</td>\n",
       "      <td>0</td>\n",
       "      <td>NaN</td>\n",
       "      <td>NaN</td>\n",
       "      <td>NaN</td>\n",
       "      <td>0</td>\n",
       "      <td>4</td>\n",
       "      <td>2010</td>\n",
       "      <td>WD</td>\n",
       "      <td>Normal</td>\n",
       "      <td>142125</td>\n",
       "    </tr>\n",
       "    <tr>\n",
       "      <th>1459</th>\n",
       "      <td>20</td>\n",
       "      <td>RL</td>\n",
       "      <td>75.0</td>\n",
       "      <td>9937</td>\n",
       "      <td>Pave</td>\n",
       "      <td>NaN</td>\n",
       "      <td>Reg</td>\n",
       "      <td>Lvl</td>\n",
       "      <td>AllPub</td>\n",
       "      <td>Inside</td>\n",
       "      <td>...</td>\n",
       "      <td>0</td>\n",
       "      <td>NaN</td>\n",
       "      <td>NaN</td>\n",
       "      <td>NaN</td>\n",
       "      <td>0</td>\n",
       "      <td>6</td>\n",
       "      <td>2008</td>\n",
       "      <td>WD</td>\n",
       "      <td>Normal</td>\n",
       "      <td>147500</td>\n",
       "    </tr>\n",
       "  </tbody>\n",
       "</table>\n",
       "<p>1460 rows × 80 columns</p>\n",
       "</div>"
      ],
      "text/plain": [
       "      MSSubClass MSZoning  LotFrontage  LotArea Street Alley LotShape  \\\n",
       "0             60       RL         65.0     8450   Pave   NaN      Reg   \n",
       "1             20       RL         80.0     9600   Pave   NaN      Reg   \n",
       "2             60       RL         68.0    11250   Pave   NaN      IR1   \n",
       "3             70       RL         60.0     9550   Pave   NaN      IR1   \n",
       "4             60       RL         84.0    14260   Pave   NaN      IR1   \n",
       "...          ...      ...          ...      ...    ...   ...      ...   \n",
       "1455          60       RL         62.0     7917   Pave   NaN      Reg   \n",
       "1456          20       RL         85.0    13175   Pave   NaN      Reg   \n",
       "1457          70       RL         66.0     9042   Pave   NaN      Reg   \n",
       "1458          20       RL         68.0     9717   Pave   NaN      Reg   \n",
       "1459          20       RL         75.0     9937   Pave   NaN      Reg   \n",
       "\n",
       "     LandContour Utilities LotConfig  ... PoolArea PoolQC  Fence MiscFeature  \\\n",
       "0            Lvl    AllPub    Inside  ...        0    NaN    NaN         NaN   \n",
       "1            Lvl    AllPub       FR2  ...        0    NaN    NaN         NaN   \n",
       "2            Lvl    AllPub    Inside  ...        0    NaN    NaN         NaN   \n",
       "3            Lvl    AllPub    Corner  ...        0    NaN    NaN         NaN   \n",
       "4            Lvl    AllPub       FR2  ...        0    NaN    NaN         NaN   \n",
       "...          ...       ...       ...  ...      ...    ...    ...         ...   \n",
       "1455         Lvl    AllPub    Inside  ...        0    NaN    NaN         NaN   \n",
       "1456         Lvl    AllPub    Inside  ...        0    NaN  MnPrv         NaN   \n",
       "1457         Lvl    AllPub    Inside  ...        0    NaN  GdPrv        Shed   \n",
       "1458         Lvl    AllPub    Inside  ...        0    NaN    NaN         NaN   \n",
       "1459         Lvl    AllPub    Inside  ...        0    NaN    NaN         NaN   \n",
       "\n",
       "     MiscVal MoSold  YrSold  SaleType  SaleCondition  SalePrice  \n",
       "0          0      2    2008        WD         Normal     208500  \n",
       "1          0      5    2007        WD         Normal     181500  \n",
       "2          0      9    2008        WD         Normal     223500  \n",
       "3          0      2    2006        WD        Abnorml     140000  \n",
       "4          0     12    2008        WD         Normal     250000  \n",
       "...      ...    ...     ...       ...            ...        ...  \n",
       "1455       0      8    2007        WD         Normal     175000  \n",
       "1456       0      2    2010        WD         Normal     210000  \n",
       "1457    2500      5    2010        WD         Normal     266500  \n",
       "1458       0      4    2010        WD         Normal     142125  \n",
       "1459       0      6    2008        WD         Normal     147500  \n",
       "\n",
       "[1460 rows x 80 columns]"
      ]
     },
     "execution_count": 12,
     "metadata": {},
     "output_type": "execute_result"
    }
   ],
   "source": [
    "train"
   ]
  },
  {
   "cell_type": "code",
   "execution_count": 13,
   "metadata": {
    "execution": {
     "iopub.execute_input": "2021-01-21T15:03:08.559698Z",
     "iopub.status.busy": "2021-01-21T15:03:08.556763Z",
     "iopub.status.idle": "2021-01-21T15:03:08.773855Z",
     "shell.execute_reply": "2021-01-21T15:03:08.774399Z"
    },
    "papermill": {
     "duration": 0.329369,
     "end_time": "2021-01-21T15:03:08.774530",
     "exception": false,
     "start_time": "2021-01-21T15:03:08.445161",
     "status": "completed"
    },
    "tags": []
   },
   "outputs": [
    {
     "data": {
      "image/png": "[encoded data removed]",
      "text/plain": [
       "<Figure size 432x288 with 1 Axes>"
      ]
     },
     "metadata": {
      "needs_background": "light"
     },
     "output_type": "display_data"
    }
   ],
   "source": [
    "fig, ax = plt.subplots()\n",
    "ax.scatter(train['GrLivArea'], train['SalePrice'])\n",
    "plt.ylabel('SalePrice', fontsize=13)\n",
    "plt.xlabel('GrLivArea', fontsize=13)\n",
    "plt.show()"
   ]
  },
  {
   "cell_type": "markdown",
   "metadata": {
    "papermill": {
     "duration": 0.11028,
     "end_time": "2021-01-21T15:03:08.993906",
     "exception": false,
     "start_time": "2021-01-21T15:03:08.883626",
     "status": "completed"
    },
    "tags": []
   },
   "source": [
    "***Removing outliers***"
   ]
  },
  {
   "cell_type": "code",
   "execution_count": 14,
   "metadata": {
    "execution": {
     "iopub.execute_input": "2021-01-21T15:03:09.221416Z",
     "iopub.status.busy": "2021-01-21T15:03:09.220754Z",
     "iopub.status.idle": "2021-01-21T15:03:09.311222Z",
     "shell.execute_reply": "2021-01-21T15:03:09.310657Z"
    },
    "papermill": {
     "duration": 0.206324,
     "end_time": "2021-01-21T15:03:09.311355",
     "exception": false,
     "start_time": "2021-01-21T15:03:09.105031",
     "status": "completed"
    },
    "tags": []
   },
   "outputs": [],
   "source": [
    "train.drop(train[(train['GrLivArea']>4500) & (train['SalePrice']<300000)].index, inplace=True)"
   ]
  },
  {
   "cell_type": "code",
   "execution_count": 15,
   "metadata": {
    "execution": {
     "iopub.execute_input": "2021-01-21T15:03:09.573269Z",
     "iopub.status.busy": "2021-01-21T15:03:09.572629Z",
     "iopub.status.idle": "2021-01-21T15:03:10.524820Z",
     "shell.execute_reply": "2021-01-21T15:03:10.524136Z"
    },
    "papermill": {
     "duration": 1.104193,
     "end_time": "2021-01-21T15:03:10.524933",
     "exception": false,
     "start_time": "2021-01-21T15:03:09.420740",
     "status": "completed"
    },
    "tags": []
   },
   "outputs": [],
   "source": [
    "import seaborn as sns"
   ]
  },
  {
   "cell_type": "code",
   "execution_count": 16,
   "metadata": {
    "execution": {
     "iopub.execute_input": "2021-01-21T15:03:10.757298Z",
     "iopub.status.busy": "2021-01-21T15:03:10.750988Z",
     "iopub.status.idle": "2021-01-21T15:03:11.028385Z",
     "shell.execute_reply": "2021-01-21T15:03:11.027593Z"
    },
    "papermill": {
     "duration": 0.392975,
     "end_time": "2021-01-21T15:03:11.028576",
     "exception": false,
     "start_time": "2021-01-21T15:03:10.635601",
     "status": "completed"
    },
    "tags": []
   },
   "outputs": [
    {
     "data": {
      "image/png": "[encoded data removed]",
      "text/plain": [
       "<Figure size 576x432 with 1 Axes>"
      ]
     },
     "metadata": {
      "needs_background": "light"
     },
     "output_type": "display_data"
    }
   ],
   "source": [
    "f, ax = plt.subplots(figsize=(8, 6))\n",
    "sns.boxplot(train['OverallQual'], train['SalePrice'])\n",
    "plt.ylabel('SalePrice', fontsize=13)\n",
    "plt.xlabel('OverallQual', fontsize=13)\n",
    "plt.show()"
   ]
  },
  {
   "cell_type": "code",
   "execution_count": 17,
   "metadata": {
    "execution": {
     "iopub.execute_input": "2021-01-21T15:03:11.254246Z",
     "iopub.status.busy": "2021-01-21T15:03:11.253201Z",
     "iopub.status.idle": "2021-01-21T15:03:13.541684Z",
     "shell.execute_reply": "2021-01-21T15:03:13.540997Z"
    },
    "papermill": {
     "duration": 2.404104,
     "end_time": "2021-01-21T15:03:13.541808",
     "exception": false,
     "start_time": "2021-01-21T15:03:11.137704",
     "status": "completed"
    },
    "tags": []
   },
   "outputs": [
    {
     "data": {
      "image/png": "[encoded data removed]",
      "text/plain": [
       "<Figure size 1080x504 with 1 Axes>"
      ]
     },
     "metadata": {
      "needs_background": "light"
     },
     "output_type": "display_data"
    }
   ],
   "source": [
    "f, ax = plt.subplots(figsize=(15, 7))\n",
    "sns.boxplot(train['YearBuilt'], train['SalePrice'])\n",
    "plt.ylabel('SalePrice', fontsize=13)\n",
    "plt.xlabel('YearBuilt ', fontsize=19)\n",
    "plt.show()"
   ]
  },
  {
   "cell_type": "code",
   "execution_count": 18,
   "metadata": {
    "execution": {
     "iopub.execute_input": "2021-01-21T15:03:13.796994Z",
     "iopub.status.busy": "2021-01-21T15:03:13.796113Z",
     "iopub.status.idle": "2021-01-21T15:03:14.007582Z",
     "shell.execute_reply": "2021-01-21T15:03:14.006915Z"
    },
    "papermill": {
     "duration": 0.351903,
     "end_time": "2021-01-21T15:03:14.007689",
     "exception": false,
     "start_time": "2021-01-21T15:03:13.655786",
     "status": "completed"
    },
    "tags": []
   },
   "outputs": [
    {
     "data": {
      "image/png": "[encoded data removed]",
      "text/plain": [
       "<Figure size 1080x504 with 1 Axes>"
      ]
     },
     "metadata": {
      "needs_background": "light"
     },
     "output_type": "display_data"
    }
   ],
   "source": [
    "fig, ax = plt.subplots(figsize=(15, 7))\n",
    "ax.scatter(train['TotalBsmtSF'], train['SalePrice'])\n",
    "plt.ylabel('SalePrice', fontsize=13)\n",
    "plt.xlabel('TotalBsmtSF', fontsize=13)\n",
    "plt.show()"
   ]
  },
  {
   "cell_type": "markdown",
   "metadata": {
    "papermill": {
     "duration": 0.112836,
     "end_time": "2021-01-21T15:03:14.232440",
     "exception": false,
     "start_time": "2021-01-21T15:03:14.119604",
     "status": "completed"
    },
    "tags": []
   },
   "source": [
    " ***Removing outliers***"
   ]
  },
  {
   "cell_type": "code",
   "execution_count": 19,
   "metadata": {
    "execution": {
     "iopub.execute_input": "2021-01-21T15:03:14.467909Z",
     "iopub.status.busy": "2021-01-21T15:03:14.467215Z",
     "iopub.status.idle": "2021-01-21T15:03:14.471185Z",
     "shell.execute_reply": "2021-01-21T15:03:14.471686Z"
    },
    "papermill": {
     "duration": 0.126313,
     "end_time": "2021-01-21T15:03:14.471840",
     "exception": false,
     "start_time": "2021-01-21T15:03:14.345527",
     "status": "completed"
    },
    "tags": []
   },
   "outputs": [],
   "source": [
    "train.drop(train[(train['TotalBsmtSF']>5700)].index, inplace=True)"
   ]
  },
  {
   "cell_type": "code",
   "execution_count": 20,
   "metadata": {
    "execution": {
     "iopub.execute_input": "2021-01-21T15:03:14.708872Z",
     "iopub.status.busy": "2021-01-21T15:03:14.707867Z",
     "iopub.status.idle": "2021-01-21T15:03:14.928051Z",
     "shell.execute_reply": "2021-01-21T15:03:14.927498Z"
    },
    "papermill": {
     "duration": 0.34182,
     "end_time": "2021-01-21T15:03:14.928170",
     "exception": false,
     "start_time": "2021-01-21T15:03:14.586350",
     "status": "completed"
    },
    "tags": []
   },
   "outputs": [
    {
     "data": {
      "image/png": "[encoded data removed]",
      "text/plain": [
       "<Figure size 1080x504 with 1 Axes>"
      ]
     },
     "metadata": {
      "needs_background": "light"
     },
     "output_type": "display_data"
    }
   ],
   "source": [
    "fig, ax = plt.subplots(figsize=(15, 7))\n",
    "ax.scatter(train['LotArea'], train['SalePrice'])\n",
    "plt.ylabel('SalePrice', fontsize=13)\n",
    "plt.xlabel('LotArea', fontsize=13)\n",
    "plt.show()"
   ]
  },
  {
   "cell_type": "markdown",
   "metadata": {
    "papermill": {
     "duration": 0.113411,
     "end_time": "2021-01-21T15:03:15.156886",
     "exception": false,
     "start_time": "2021-01-21T15:03:15.043475",
     "status": "completed"
    },
    "tags": []
   },
   "source": [
    "***Removing outliers***"
   ]
  },
  {
   "cell_type": "code",
   "execution_count": 21,
   "metadata": {
    "execution": {
     "iopub.execute_input": "2021-01-21T15:03:15.392360Z",
     "iopub.status.busy": "2021-01-21T15:03:15.391665Z",
     "iopub.status.idle": "2021-01-21T15:03:15.397367Z",
     "shell.execute_reply": "2021-01-21T15:03:15.396790Z"
    },
    "papermill": {
     "duration": 0.126594,
     "end_time": "2021-01-21T15:03:15.397477",
     "exception": false,
     "start_time": "2021-01-21T15:03:15.270883",
     "status": "completed"
    },
    "tags": []
   },
   "outputs": [],
   "source": [
    "train.drop(train[(train['LotArea']>150000)].index, inplace=True)"
   ]
  },
  {
   "cell_type": "code",
   "execution_count": 22,
   "metadata": {
    "execution": {
     "iopub.execute_input": "2021-01-21T15:03:15.642504Z",
     "iopub.status.busy": "2021-01-21T15:03:15.638575Z",
     "iopub.status.idle": "2021-01-21T15:03:15.846100Z",
     "shell.execute_reply": "2021-01-21T15:03:15.845453Z"
    },
    "papermill": {
     "duration": 0.334886,
     "end_time": "2021-01-21T15:03:15.846206",
     "exception": false,
     "start_time": "2021-01-21T15:03:15.511320",
     "status": "completed"
    },
    "tags": []
   },
   "outputs": [
    {
     "data": {
      "image/png": "[encoded data removed]",
      "text/plain": [
       "<Figure size 1080x504 with 1 Axes>"
      ]
     },
     "metadata": {
      "needs_background": "light"
     },
     "output_type": "display_data"
    }
   ],
   "source": [
    "fig, ax = plt.subplots(figsize=(15, 7))\n",
    "ax.scatter(train['GrLivArea'], train['SalePrice'])\n",
    "plt.ylabel('SalePrice', fontsize=13)\n",
    "plt.xlabel('GrLivArea', fontsize=13)\n",
    "plt.show()"
   ]
  },
  {
   "cell_type": "markdown",
   "metadata": {
    "papermill": {
     "duration": 0.11676,
     "end_time": "2021-01-21T15:03:16.079126",
     "exception": false,
     "start_time": "2021-01-21T15:03:15.962366",
     "status": "completed"
    },
    "tags": []
   },
   "source": [
    "***Removing outliers***"
   ]
  },
  {
   "cell_type": "code",
   "execution_count": 23,
   "metadata": {
    "execution": {
     "iopub.execute_input": "2021-01-21T15:03:16.331039Z",
     "iopub.status.busy": "2021-01-21T15:03:16.330162Z",
     "iopub.status.idle": "2021-01-21T15:03:16.335007Z",
     "shell.execute_reply": "2021-01-21T15:03:16.334422Z"
    },
    "papermill": {
     "duration": 0.139566,
     "end_time": "2021-01-21T15:03:16.335118",
     "exception": false,
     "start_time": "2021-01-21T15:03:16.195552",
     "status": "completed"
    },
    "tags": []
   },
   "outputs": [],
   "source": [
    "train.drop(train[(train['GrLivArea']>5700)].index, inplace=True)"
   ]
  },
  {
   "cell_type": "code",
   "execution_count": 24,
   "metadata": {
    "execution": {
     "iopub.execute_input": "2021-01-21T15:03:17.914692Z",
     "iopub.status.busy": "2021-01-21T15:03:17.906516Z",
     "iopub.status.idle": "2021-01-21T15:03:19.042917Z",
     "shell.execute_reply": "2021-01-21T15:03:19.041995Z"
    },
    "papermill": {
     "duration": 1.357805,
     "end_time": "2021-01-21T15:03:19.043058",
     "exception": false,
     "start_time": "2021-01-21T15:03:17.685253",
     "status": "completed"
    },
    "tags": []
   },
   "outputs": [
    {
     "name": "stdout",
     "output_type": "stream",
     "text": [
      "\n",
      " mu = 180700.51 and sigma = 79336.53\n",
      "\n"
     ]
    },
    {
     "data": {
      "image/png": "[encoded data removed]",
      "text/plain": [
       "<Figure size 432x288 with 1 Axes>"
      ]
     },
     "metadata": {
      "needs_background": "light"
     },
     "output_type": "display_data"
    },
    {
     "data": {
      "image/png": "[encoded data removed]",
      "text/plain": [
       "<Figure size 432x288 with 1 Axes>"
      ]
     },
     "metadata": {
      "needs_background": "light"
     },
     "output_type": "display_data"
    },
    {
     "name": "stdout",
     "output_type": "stream",
     "text": [
      "\n",
      " mu = 12.02 and sigma = 0.40\n",
      "\n"
     ]
    },
    {
     "data": {
      "image/png": "[encoded data removed]",
      "text/plain": [
       "<Figure size 432x288 with 1 Axes>"
      ]
     },
     "metadata": {
      "needs_background": "light"
     },
     "output_type": "display_data"
    },
    {
     "data": {
      "image/png": "[encoded data removed]",
      "text/plain": [
       "<Figure size 432x288 with 1 Axes>"
      ]
     },
     "metadata": {
      "needs_background": "light"
     },
     "output_type": "display_data"
    }
   ],
   "source": [
    "import matplotlib.pyplot as plt  \n",
    "import seaborn as sns\n",
    "from scipy.stats import norm\n",
    "from scipy import stats\n",
    "sns.distplot(train['SalePrice'] , fit=norm);\n",
    "\n",
    "# Get the fitted parameters used by the function\n",
    "(mu, sigma) = norm.fit(train['SalePrice'])\n",
    "print( '\\n mu = {:.2f} and sigma = {:.2f}\\n'.format(mu, sigma))\n",
    "\n",
    "#Now plot the distribution\n",
    "plt.legend(['Normal dist. ($\\mu=$ {:.2f} and $\\sigma=$ {:.2f} )'.format(mu, sigma)],\n",
    "            loc='best')\n",
    "plt.ylabel('Frequency')\n",
    "plt.title('SalePrice distribution')\n",
    "\n",
    "#Get also the QQ-plot\n",
    "fig = plt.figure()\n",
    "res = stats.probplot(train['SalePrice'], plot=plt)\n",
    "plt.show()\n",
    "\n",
    "# right screwed\n",
    "# log transformation of target variable\n",
    "#We use the numpy fuction log1p which  applies log(1+x) to all elements of the column\n",
    "\n",
    "train['SalePrice']=np.log1p(train['SalePrice'])\n",
    "sns.distplot(train['SalePrice'],fit=norm)\n",
    "(mu, sigma) = norm.fit(train['SalePrice'])\n",
    "print( '\\n mu = {:.2f} and sigma = {:.2f}\\n'.format(mu, sigma))\n",
    "\n",
    "\n",
    "#Now plot the distribution\n",
    "plt.legend(['Normal dist. ($\\mu=$ {:.2f} and $\\sigma=$ {:.2f} )'.format(mu, sigma)],\n",
    "            loc='best')\n",
    "plt.ylabel('Frequency')\n",
    "plt.title('SalePrice distribution')\n",
    "\n",
    "#Get also the QQ-plot\n",
    "fig = plt.figure()\n",
    "res = stats.probplot(train['SalePrice'], plot=plt)\n",
    "plt.show()\n"
   ]
  },
  {
   "cell_type": "code",
   "execution_count": 25,
   "metadata": {
    "execution": {
     "iopub.execute_input": "2021-01-21T15:03:22.669851Z",
     "iopub.status.busy": "2021-01-21T15:03:22.668805Z",
     "iopub.status.idle": "2021-01-21T15:03:22.673193Z",
     "shell.execute_reply": "2021-01-21T15:03:22.672310Z"
    },
    "papermill": {
     "duration": 0.189407,
     "end_time": "2021-01-21T15:03:22.673353",
     "exception": false,
     "start_time": "2021-01-21T15:03:22.483946",
     "status": "completed"
    },
    "tags": []
   },
   "outputs": [],
   "source": [
    "# y_train = train.SalePrice\n",
    "# df_train = train.drop(columns='SalePrice')\n",
    "\n",
    "# print(\"Numeric Data Columns :\",+len(df_train._get_numeric_data().columns))\n",
    "# print(\"Object Data columns :\",+len(df_train.select_dtypes(include='object').columns))\n",
    "\n"
   ]
  },
  {
   "cell_type": "code",
   "execution_count": 26,
   "metadata": {
    "execution": {
     "iopub.execute_input": "2021-01-21T15:03:23.046238Z",
     "iopub.status.busy": "2021-01-21T15:03:23.045564Z",
     "iopub.status.idle": "2021-01-21T15:03:23.053695Z",
     "shell.execute_reply": "2021-01-21T15:03:23.052450Z"
    },
    "papermill": {
     "duration": 0.200049,
     "end_time": "2021-01-21T15:03:23.053817",
     "exception": false,
     "start_time": "2021-01-21T15:03:22.853768",
     "status": "completed"
    },
    "tags": []
   },
   "outputs": [],
   "source": [
    "miss=df_train.isnull().sum()\n",
    "miss=miss[miss>0].sort_values(ascending = False) "
   ]
  },
  {
   "cell_type": "code",
   "execution_count": 27,
   "metadata": {
    "execution": {
     "iopub.execute_input": "2021-01-21T15:03:23.303105Z",
     "iopub.status.busy": "2021-01-21T15:03:23.302061Z",
     "iopub.status.idle": "2021-01-21T15:03:23.309293Z",
     "shell.execute_reply": "2021-01-21T15:03:23.308703Z"
    },
    "papermill": {
     "duration": 0.13496,
     "end_time": "2021-01-21T15:03:23.309437",
     "exception": false,
     "start_time": "2021-01-21T15:03:23.174477",
     "status": "completed"
    },
    "tags": []
   },
   "outputs": [
    {
     "data": {
      "text/plain": [
       "PoolQC          2909\n",
       "MiscFeature     2814\n",
       "Alley           2721\n",
       "Fence           2348\n",
       "FireplaceQu     1420\n",
       "LotFrontage      486\n",
       "GarageFinish     159\n",
       "GarageYrBlt      159\n",
       "GarageQual       159\n",
       "GarageCond       159\n",
       "GarageType       157\n",
       "BsmtExposure      82\n",
       "BsmtCond          82\n",
       "BsmtQual          81\n",
       "BsmtFinType2      80\n",
       "BsmtFinType1      79\n",
       "MasVnrType        24\n",
       "MasVnrArea        23\n",
       "MSZoning           4\n",
       "BsmtFullBath       2\n",
       "BsmtHalfBath       2\n",
       "Utilities          2\n",
       "Functional         2\n",
       "Exterior2nd        1\n",
       "Exterior1st        1\n",
       "SaleType           1\n",
       "BsmtFinSF1         1\n",
       "BsmtFinSF2         1\n",
       "BsmtUnfSF          1\n",
       "Electrical         1\n",
       "KitchenQual        1\n",
       "GarageCars         1\n",
       "GarageArea         1\n",
       "TotalBsmtSF        1\n",
       "dtype: int64"
      ]
     },
     "execution_count": 27,
     "metadata": {},
     "output_type": "execute_result"
    }
   ],
   "source": [
    "miss"
   ]
  },
  {
   "cell_type": "code",
   "execution_count": 28,
   "metadata": {
    "execution": {
     "iopub.execute_input": "2021-01-21T15:03:23.557416Z",
     "iopub.status.busy": "2021-01-21T15:03:23.556615Z",
     "iopub.status.idle": "2021-01-21T15:03:23.867398Z",
     "shell.execute_reply": "2021-01-21T15:03:23.868651Z"
    },
    "papermill": {
     "duration": 0.438137,
     "end_time": "2021-01-21T15:03:23.868823",
     "exception": false,
     "start_time": "2021-01-21T15:03:23.430686",
     "status": "completed"
    },
    "tags": []
   },
   "outputs": [
    {
     "data": {
      "text/plain": [
       "<matplotlib.axes._subplots.AxesSubplot at 0x7f4de7732f50>"
      ]
     },
     "execution_count": 28,
     "metadata": {},
     "output_type": "execute_result"
    },
    {
     "data": {
      "image/png": "[encoded data removed]",
      "text/plain": [
       "<Figure size 432x288 with 1 Axes>"
      ]
     },
     "metadata": {
      "needs_background": "light"
     },
     "output_type": "display_data"
    }
   ],
   "source": [
    "miss.plot.bar()"
   ]
  },
  {
   "cell_type": "code",
   "execution_count": 29,
   "metadata": {
    "execution": {
     "iopub.execute_input": "2021-01-21T15:03:24.134820Z",
     "iopub.status.busy": "2021-01-21T15:03:24.132671Z",
     "iopub.status.idle": "2021-01-21T15:03:24.525005Z",
     "shell.execute_reply": "2021-01-21T15:03:24.525706Z"
    },
    "papermill": {
     "duration": 0.533662,
     "end_time": "2021-01-21T15:03:24.525897",
     "exception": false,
     "start_time": "2021-01-21T15:03:23.992235",
     "status": "completed"
    },
    "tags": []
   },
   "outputs": [
    {
     "data": {
      "text/plain": [
       "Text(0.5, 1.0, 'Percent missing data by feature')"
      ]
     },
     "execution_count": 29,
     "metadata": {},
     "output_type": "execute_result"
    },
    {
     "data": {
      "image/png": "[encoded data removed]",
      "text/plain": [
       "<Figure size 720x720 with 1 Axes>"
      ]
     },
     "metadata": {
      "needs_background": "light"
     },
     "output_type": "display_data"
    }
   ],
   "source": [
    "f, ax = plt.subplots(figsize=(10, 10))\n",
    "plt.xticks(rotation='90')\n",
    "sns.barplot(x=miss.index, y=miss)\n",
    "plt.xlabel('Features', fontsize=15)\n",
    "plt.ylabel('Percent of missing values', fontsize=15)\n",
    "plt.title('Percent missing data by feature', fontsize=15)"
   ]
  },
  {
   "cell_type": "code",
   "execution_count": 30,
   "metadata": {
    "execution": {
     "iopub.execute_input": "2021-01-21T15:03:24.825467Z",
     "iopub.status.busy": "2021-01-21T15:03:24.824777Z",
     "iopub.status.idle": "2021-01-21T15:03:25.511148Z",
     "shell.execute_reply": "2021-01-21T15:03:25.510537Z"
    },
    "papermill": {
     "duration": 0.81979,
     "end_time": "2021-01-21T15:03:25.511254",
     "exception": false,
     "start_time": "2021-01-21T15:03:24.691464",
     "status": "completed"
    },
    "tags": []
   },
   "outputs": [
    {
     "data": {
      "text/plain": [
       "<matplotlib.axes._subplots.AxesSubplot at 0x7f4de7473350>"
      ]
     },
     "execution_count": 30,
     "metadata": {},
     "output_type": "execute_result"
    },
    {
     "data": {
      "image/png": "[encoded data removed]",
      "text/plain": [
       "<Figure size 864x648 with 2 Axes>"
      ]
     },
     "metadata": {
      "needs_background": "light"
     },
     "output_type": "display_data"
    }
   ],
   "source": [
    "# data correlation\n",
    "corrmat = train.corr()\n",
    "plt.subplots(figsize=(12,9))\n",
    "sns.heatmap(corrmat, vmax=0.9, square=True)\n"
   ]
  },
  {
   "cell_type": "code",
   "execution_count": 31,
   "metadata": {
    "execution": {
     "iopub.execute_input": "2021-01-21T15:03:25.773808Z",
     "iopub.status.busy": "2021-01-21T15:03:25.772897Z",
     "iopub.status.idle": "2021-01-21T15:03:25.778402Z",
     "shell.execute_reply": "2021-01-21T15:03:25.777629Z"
    },
    "papermill": {
     "duration": 0.140446,
     "end_time": "2021-01-21T15:03:25.778521",
     "exception": false,
     "start_time": "2021-01-21T15:03:25.638075",
     "status": "completed"
    },
    "tags": []
   },
   "outputs": [],
   "source": [
    "def desc(df):\n",
    "    summary=pd.DataFrame(df.dtypes,columns=['dtypes'])\n",
    "    summary=summary.reset_index()\n",
    "    summary['Name']=summary['index']\n",
    "    summary=summary[['Name','dtypes']]\n",
    "    summary['Missing']=df.isnull().sum().values\n",
    "    summary['Unique']=df.nunique().values\n",
    "    summary['First Value'] = df.iloc[0].values\n",
    "    summary['Second Value'] = df.iloc[1].values\n",
    "    summary['Third Value'] = df.iloc[2].values\n",
    "    return summary"
   ]
  },
  {
   "cell_type": "code",
   "execution_count": 32,
   "metadata": {
    "execution": {
     "iopub.execute_input": "2021-01-21T15:03:26.052897Z",
     "iopub.status.busy": "2021-01-21T15:03:26.051287Z",
     "iopub.status.idle": "2021-01-21T15:03:26.098151Z",
     "shell.execute_reply": "2021-01-21T15:03:26.097533Z"
    },
    "papermill": {
     "duration": 0.1918,
     "end_time": "2021-01-21T15:03:26.098351",
     "exception": false,
     "start_time": "2021-01-21T15:03:25.906551",
     "status": "completed"
    },
    "tags": []
   },
   "outputs": [
    {
     "data": {
      "text/html": [
       "<div>\n",
       "<style scoped>\n",
       "    .dataframe tbody tr th:only-of-type {\n",
       "        vertical-align: middle;\n",
       "    }\n",
       "\n",
       "    .dataframe tbody tr th {\n",
       "        vertical-align: top;\n",
       "    }\n",
       "\n",
       "    .dataframe thead th {\n",
       "        text-align: right;\n",
       "    }\n",
       "</style>\n",
       "<table border=\"1\" class=\"dataframe\">\n",
       "  <thead>\n",
       "    <tr style=\"text-align: right;\">\n",
       "      <th></th>\n",
       "      <th>Name</th>\n",
       "      <th>dtypes</th>\n",
       "      <th>Missing</th>\n",
       "      <th>Unique</th>\n",
       "      <th>First Value</th>\n",
       "      <th>Second Value</th>\n",
       "      <th>Third Value</th>\n",
       "    </tr>\n",
       "  </thead>\n",
       "  <tbody>\n",
       "    <tr>\n",
       "      <th>0</th>\n",
       "      <td>MSSubClass</td>\n",
       "      <td>int64</td>\n",
       "      <td>0</td>\n",
       "      <td>16</td>\n",
       "      <td>60</td>\n",
       "      <td>20</td>\n",
       "      <td>60</td>\n",
       "    </tr>\n",
       "    <tr>\n",
       "      <th>1</th>\n",
       "      <td>MSZoning</td>\n",
       "      <td>object</td>\n",
       "      <td>4</td>\n",
       "      <td>5</td>\n",
       "      <td>RL</td>\n",
       "      <td>RL</td>\n",
       "      <td>RL</td>\n",
       "    </tr>\n",
       "    <tr>\n",
       "      <th>2</th>\n",
       "      <td>LotFrontage</td>\n",
       "      <td>float64</td>\n",
       "      <td>486</td>\n",
       "      <td>128</td>\n",
       "      <td>65</td>\n",
       "      <td>80</td>\n",
       "      <td>68</td>\n",
       "    </tr>\n",
       "    <tr>\n",
       "      <th>3</th>\n",
       "      <td>LotArea</td>\n",
       "      <td>int64</td>\n",
       "      <td>0</td>\n",
       "      <td>1951</td>\n",
       "      <td>8450</td>\n",
       "      <td>9600</td>\n",
       "      <td>11250</td>\n",
       "    </tr>\n",
       "    <tr>\n",
       "      <th>4</th>\n",
       "      <td>Street</td>\n",
       "      <td>object</td>\n",
       "      <td>0</td>\n",
       "      <td>2</td>\n",
       "      <td>Pave</td>\n",
       "      <td>Pave</td>\n",
       "      <td>Pave</td>\n",
       "    </tr>\n",
       "    <tr>\n",
       "      <th>...</th>\n",
       "      <td>...</td>\n",
       "      <td>...</td>\n",
       "      <td>...</td>\n",
       "      <td>...</td>\n",
       "      <td>...</td>\n",
       "      <td>...</td>\n",
       "      <td>...</td>\n",
       "    </tr>\n",
       "    <tr>\n",
       "      <th>74</th>\n",
       "      <td>MiscVal</td>\n",
       "      <td>int64</td>\n",
       "      <td>0</td>\n",
       "      <td>38</td>\n",
       "      <td>0</td>\n",
       "      <td>0</td>\n",
       "      <td>0</td>\n",
       "    </tr>\n",
       "    <tr>\n",
       "      <th>75</th>\n",
       "      <td>MoSold</td>\n",
       "      <td>int64</td>\n",
       "      <td>0</td>\n",
       "      <td>12</td>\n",
       "      <td>2</td>\n",
       "      <td>5</td>\n",
       "      <td>9</td>\n",
       "    </tr>\n",
       "    <tr>\n",
       "      <th>76</th>\n",
       "      <td>YrSold</td>\n",
       "      <td>int64</td>\n",
       "      <td>0</td>\n",
       "      <td>5</td>\n",
       "      <td>2008</td>\n",
       "      <td>2007</td>\n",
       "      <td>2008</td>\n",
       "    </tr>\n",
       "    <tr>\n",
       "      <th>77</th>\n",
       "      <td>SaleType</td>\n",
       "      <td>object</td>\n",
       "      <td>1</td>\n",
       "      <td>9</td>\n",
       "      <td>WD</td>\n",
       "      <td>WD</td>\n",
       "      <td>WD</td>\n",
       "    </tr>\n",
       "    <tr>\n",
       "      <th>78</th>\n",
       "      <td>SaleCondition</td>\n",
       "      <td>object</td>\n",
       "      <td>0</td>\n",
       "      <td>6</td>\n",
       "      <td>Normal</td>\n",
       "      <td>Normal</td>\n",
       "      <td>Normal</td>\n",
       "    </tr>\n",
       "  </tbody>\n",
       "</table>\n",
       "<p>79 rows × 7 columns</p>\n",
       "</div>"
      ],
      "text/plain": [
       "             Name   dtypes  Missing  Unique First Value Second Value  \\\n",
       "0      MSSubClass    int64        0      16          60           20   \n",
       "1        MSZoning   object        4       5          RL           RL   \n",
       "2     LotFrontage  float64      486     128          65           80   \n",
       "3         LotArea    int64        0    1951        8450         9600   \n",
       "4          Street   object        0       2        Pave         Pave   \n",
       "..            ...      ...      ...     ...         ...          ...   \n",
       "74        MiscVal    int64        0      38           0            0   \n",
       "75         MoSold    int64        0      12           2            5   \n",
       "76         YrSold    int64        0       5        2008         2007   \n",
       "77       SaleType   object        1       9          WD           WD   \n",
       "78  SaleCondition   object        0       6      Normal       Normal   \n",
       "\n",
       "   Third Value  \n",
       "0           60  \n",
       "1           RL  \n",
       "2           68  \n",
       "3        11250  \n",
       "4         Pave  \n",
       "..         ...  \n",
       "74           0  \n",
       "75           9  \n",
       "76        2008  \n",
       "77          WD  \n",
       "78      Normal  \n",
       "\n",
       "[79 rows x 7 columns]"
      ]
     },
     "execution_count": 32,
     "metadata": {},
     "output_type": "execute_result"
    }
   ],
   "source": [
    "desc(df_train)"
   ]
  },
  {
   "cell_type": "code",
   "execution_count": 33,
   "metadata": {
    "execution": {
     "iopub.execute_input": "2021-01-21T15:03:26.389751Z",
     "iopub.status.busy": "2021-01-21T15:03:26.385761Z",
     "iopub.status.idle": "2021-01-21T15:03:26.412584Z",
     "shell.execute_reply": "2021-01-21T15:03:26.411927Z"
    },
    "papermill": {
     "duration": 0.181605,
     "end_time": "2021-01-21T15:03:26.412690",
     "exception": false,
     "start_time": "2021-01-21T15:03:26.231085",
     "status": "completed"
    },
    "tags": []
   },
   "outputs": [
    {
     "data": {
      "text/html": [
       "<div>\n",
       "<style scoped>\n",
       "    .dataframe tbody tr th:only-of-type {\n",
       "        vertical-align: middle;\n",
       "    }\n",
       "\n",
       "    .dataframe tbody tr th {\n",
       "        vertical-align: top;\n",
       "    }\n",
       "\n",
       "    .dataframe thead th {\n",
       "        text-align: right;\n",
       "    }\n",
       "</style>\n",
       "<table border=\"1\" class=\"dataframe\">\n",
       "  <thead>\n",
       "    <tr style=\"text-align: right;\">\n",
       "      <th></th>\n",
       "      <th>MSSubClass</th>\n",
       "      <th>MSZoning</th>\n",
       "      <th>LotFrontage</th>\n",
       "      <th>LotArea</th>\n",
       "      <th>Street</th>\n",
       "      <th>Alley</th>\n",
       "      <th>LotShape</th>\n",
       "      <th>LandContour</th>\n",
       "      <th>Utilities</th>\n",
       "      <th>LotConfig</th>\n",
       "      <th>...</th>\n",
       "      <th>ScreenPorch</th>\n",
       "      <th>PoolArea</th>\n",
       "      <th>PoolQC</th>\n",
       "      <th>Fence</th>\n",
       "      <th>MiscFeature</th>\n",
       "      <th>MiscVal</th>\n",
       "      <th>MoSold</th>\n",
       "      <th>YrSold</th>\n",
       "      <th>SaleType</th>\n",
       "      <th>SaleCondition</th>\n",
       "    </tr>\n",
       "  </thead>\n",
       "  <tbody>\n",
       "    <tr>\n",
       "      <th>0</th>\n",
       "      <td>60</td>\n",
       "      <td>RL</td>\n",
       "      <td>65.0</td>\n",
       "      <td>8450</td>\n",
       "      <td>Pave</td>\n",
       "      <td>NaN</td>\n",
       "      <td>Reg</td>\n",
       "      <td>Lvl</td>\n",
       "      <td>AllPub</td>\n",
       "      <td>Inside</td>\n",
       "      <td>...</td>\n",
       "      <td>0</td>\n",
       "      <td>0</td>\n",
       "      <td>NaN</td>\n",
       "      <td>NaN</td>\n",
       "      <td>NaN</td>\n",
       "      <td>0</td>\n",
       "      <td>2</td>\n",
       "      <td>2008</td>\n",
       "      <td>WD</td>\n",
       "      <td>Normal</td>\n",
       "    </tr>\n",
       "    <tr>\n",
       "      <th>1</th>\n",
       "      <td>20</td>\n",
       "      <td>RL</td>\n",
       "      <td>80.0</td>\n",
       "      <td>9600</td>\n",
       "      <td>Pave</td>\n",
       "      <td>NaN</td>\n",
       "      <td>Reg</td>\n",
       "      <td>Lvl</td>\n",
       "      <td>AllPub</td>\n",
       "      <td>FR2</td>\n",
       "      <td>...</td>\n",
       "      <td>0</td>\n",
       "      <td>0</td>\n",
       "      <td>NaN</td>\n",
       "      <td>NaN</td>\n",
       "      <td>NaN</td>\n",
       "      <td>0</td>\n",
       "      <td>5</td>\n",
       "      <td>2007</td>\n",
       "      <td>WD</td>\n",
       "      <td>Normal</td>\n",
       "    </tr>\n",
       "    <tr>\n",
       "      <th>2</th>\n",
       "      <td>60</td>\n",
       "      <td>RL</td>\n",
       "      <td>68.0</td>\n",
       "      <td>11250</td>\n",
       "      <td>Pave</td>\n",
       "      <td>NaN</td>\n",
       "      <td>IR1</td>\n",
       "      <td>Lvl</td>\n",
       "      <td>AllPub</td>\n",
       "      <td>Inside</td>\n",
       "      <td>...</td>\n",
       "      <td>0</td>\n",
       "      <td>0</td>\n",
       "      <td>NaN</td>\n",
       "      <td>NaN</td>\n",
       "      <td>NaN</td>\n",
       "      <td>0</td>\n",
       "      <td>9</td>\n",
       "      <td>2008</td>\n",
       "      <td>WD</td>\n",
       "      <td>Normal</td>\n",
       "    </tr>\n",
       "    <tr>\n",
       "      <th>3</th>\n",
       "      <td>70</td>\n",
       "      <td>RL</td>\n",
       "      <td>60.0</td>\n",
       "      <td>9550</td>\n",
       "      <td>Pave</td>\n",
       "      <td>NaN</td>\n",
       "      <td>IR1</td>\n",
       "      <td>Lvl</td>\n",
       "      <td>AllPub</td>\n",
       "      <td>Corner</td>\n",
       "      <td>...</td>\n",
       "      <td>0</td>\n",
       "      <td>0</td>\n",
       "      <td>NaN</td>\n",
       "      <td>NaN</td>\n",
       "      <td>NaN</td>\n",
       "      <td>0</td>\n",
       "      <td>2</td>\n",
       "      <td>2006</td>\n",
       "      <td>WD</td>\n",
       "      <td>Abnorml</td>\n",
       "    </tr>\n",
       "    <tr>\n",
       "      <th>4</th>\n",
       "      <td>60</td>\n",
       "      <td>RL</td>\n",
       "      <td>84.0</td>\n",
       "      <td>14260</td>\n",
       "      <td>Pave</td>\n",
       "      <td>NaN</td>\n",
       "      <td>IR1</td>\n",
       "      <td>Lvl</td>\n",
       "      <td>AllPub</td>\n",
       "      <td>FR2</td>\n",
       "      <td>...</td>\n",
       "      <td>0</td>\n",
       "      <td>0</td>\n",
       "      <td>NaN</td>\n",
       "      <td>NaN</td>\n",
       "      <td>NaN</td>\n",
       "      <td>0</td>\n",
       "      <td>12</td>\n",
       "      <td>2008</td>\n",
       "      <td>WD</td>\n",
       "      <td>Normal</td>\n",
       "    </tr>\n",
       "    <tr>\n",
       "      <th>...</th>\n",
       "      <td>...</td>\n",
       "      <td>...</td>\n",
       "      <td>...</td>\n",
       "      <td>...</td>\n",
       "      <td>...</td>\n",
       "      <td>...</td>\n",
       "      <td>...</td>\n",
       "      <td>...</td>\n",
       "      <td>...</td>\n",
       "      <td>...</td>\n",
       "      <td>...</td>\n",
       "      <td>...</td>\n",
       "      <td>...</td>\n",
       "      <td>...</td>\n",
       "      <td>...</td>\n",
       "      <td>...</td>\n",
       "      <td>...</td>\n",
       "      <td>...</td>\n",
       "      <td>...</td>\n",
       "      <td>...</td>\n",
       "      <td>...</td>\n",
       "    </tr>\n",
       "    <tr>\n",
       "      <th>2914</th>\n",
       "      <td>160</td>\n",
       "      <td>RM</td>\n",
       "      <td>21.0</td>\n",
       "      <td>1936</td>\n",
       "      <td>Pave</td>\n",
       "      <td>NaN</td>\n",
       "      <td>Reg</td>\n",
       "      <td>Lvl</td>\n",
       "      <td>AllPub</td>\n",
       "      <td>Inside</td>\n",
       "      <td>...</td>\n",
       "      <td>0</td>\n",
       "      <td>0</td>\n",
       "      <td>NaN</td>\n",
       "      <td>NaN</td>\n",
       "      <td>NaN</td>\n",
       "      <td>0</td>\n",
       "      <td>6</td>\n",
       "      <td>2006</td>\n",
       "      <td>WD</td>\n",
       "      <td>Normal</td>\n",
       "    </tr>\n",
       "    <tr>\n",
       "      <th>2915</th>\n",
       "      <td>160</td>\n",
       "      <td>RM</td>\n",
       "      <td>21.0</td>\n",
       "      <td>1894</td>\n",
       "      <td>Pave</td>\n",
       "      <td>NaN</td>\n",
       "      <td>Reg</td>\n",
       "      <td>Lvl</td>\n",
       "      <td>AllPub</td>\n",
       "      <td>Inside</td>\n",
       "      <td>...</td>\n",
       "      <td>0</td>\n",
       "      <td>0</td>\n",
       "      <td>NaN</td>\n",
       "      <td>NaN</td>\n",
       "      <td>NaN</td>\n",
       "      <td>0</td>\n",
       "      <td>4</td>\n",
       "      <td>2006</td>\n",
       "      <td>WD</td>\n",
       "      <td>Abnorml</td>\n",
       "    </tr>\n",
       "    <tr>\n",
       "      <th>2916</th>\n",
       "      <td>20</td>\n",
       "      <td>RL</td>\n",
       "      <td>160.0</td>\n",
       "      <td>20000</td>\n",
       "      <td>Pave</td>\n",
       "      <td>NaN</td>\n",
       "      <td>Reg</td>\n",
       "      <td>Lvl</td>\n",
       "      <td>AllPub</td>\n",
       "      <td>Inside</td>\n",
       "      <td>...</td>\n",
       "      <td>0</td>\n",
       "      <td>0</td>\n",
       "      <td>NaN</td>\n",
       "      <td>NaN</td>\n",
       "      <td>NaN</td>\n",
       "      <td>0</td>\n",
       "      <td>9</td>\n",
       "      <td>2006</td>\n",
       "      <td>WD</td>\n",
       "      <td>Abnorml</td>\n",
       "    </tr>\n",
       "    <tr>\n",
       "      <th>2917</th>\n",
       "      <td>85</td>\n",
       "      <td>RL</td>\n",
       "      <td>62.0</td>\n",
       "      <td>10441</td>\n",
       "      <td>Pave</td>\n",
       "      <td>NaN</td>\n",
       "      <td>Reg</td>\n",
       "      <td>Lvl</td>\n",
       "      <td>AllPub</td>\n",
       "      <td>Inside</td>\n",
       "      <td>...</td>\n",
       "      <td>0</td>\n",
       "      <td>0</td>\n",
       "      <td>NaN</td>\n",
       "      <td>MnPrv</td>\n",
       "      <td>Shed</td>\n",
       "      <td>700</td>\n",
       "      <td>7</td>\n",
       "      <td>2006</td>\n",
       "      <td>WD</td>\n",
       "      <td>Normal</td>\n",
       "    </tr>\n",
       "    <tr>\n",
       "      <th>2918</th>\n",
       "      <td>60</td>\n",
       "      <td>RL</td>\n",
       "      <td>74.0</td>\n",
       "      <td>9627</td>\n",
       "      <td>Pave</td>\n",
       "      <td>NaN</td>\n",
       "      <td>Reg</td>\n",
       "      <td>Lvl</td>\n",
       "      <td>AllPub</td>\n",
       "      <td>Inside</td>\n",
       "      <td>...</td>\n",
       "      <td>0</td>\n",
       "      <td>0</td>\n",
       "      <td>NaN</td>\n",
       "      <td>NaN</td>\n",
       "      <td>NaN</td>\n",
       "      <td>0</td>\n",
       "      <td>11</td>\n",
       "      <td>2006</td>\n",
       "      <td>WD</td>\n",
       "      <td>Normal</td>\n",
       "    </tr>\n",
       "  </tbody>\n",
       "</table>\n",
       "<p>2919 rows × 79 columns</p>\n",
       "</div>"
      ],
      "text/plain": [
       "      MSSubClass MSZoning  LotFrontage  LotArea Street Alley LotShape  \\\n",
       "0             60       RL         65.0     8450   Pave   NaN      Reg   \n",
       "1             20       RL         80.0     9600   Pave   NaN      Reg   \n",
       "2             60       RL         68.0    11250   Pave   NaN      IR1   \n",
       "3             70       RL         60.0     9550   Pave   NaN      IR1   \n",
       "4             60       RL         84.0    14260   Pave   NaN      IR1   \n",
       "...          ...      ...          ...      ...    ...   ...      ...   \n",
       "2914         160       RM         21.0     1936   Pave   NaN      Reg   \n",
       "2915         160       RM         21.0     1894   Pave   NaN      Reg   \n",
       "2916          20       RL        160.0    20000   Pave   NaN      Reg   \n",
       "2917          85       RL         62.0    10441   Pave   NaN      Reg   \n",
       "2918          60       RL         74.0     9627   Pave   NaN      Reg   \n",
       "\n",
       "     LandContour Utilities LotConfig  ... ScreenPorch PoolArea PoolQC  Fence  \\\n",
       "0            Lvl    AllPub    Inside  ...           0        0    NaN    NaN   \n",
       "1            Lvl    AllPub       FR2  ...           0        0    NaN    NaN   \n",
       "2            Lvl    AllPub    Inside  ...           0        0    NaN    NaN   \n",
       "3            Lvl    AllPub    Corner  ...           0        0    NaN    NaN   \n",
       "4            Lvl    AllPub       FR2  ...           0        0    NaN    NaN   \n",
       "...          ...       ...       ...  ...         ...      ...    ...    ...   \n",
       "2914         Lvl    AllPub    Inside  ...           0        0    NaN    NaN   \n",
       "2915         Lvl    AllPub    Inside  ...           0        0    NaN    NaN   \n",
       "2916         Lvl    AllPub    Inside  ...           0        0    NaN    NaN   \n",
       "2917         Lvl    AllPub    Inside  ...           0        0    NaN  MnPrv   \n",
       "2918         Lvl    AllPub    Inside  ...           0        0    NaN    NaN   \n",
       "\n",
       "     MiscFeature MiscVal  MoSold  YrSold  SaleType  SaleCondition  \n",
       "0            NaN       0       2    2008        WD         Normal  \n",
       "1            NaN       0       5    2007        WD         Normal  \n",
       "2            NaN       0       9    2008        WD         Normal  \n",
       "3            NaN       0       2    2006        WD        Abnorml  \n",
       "4            NaN       0      12    2008        WD         Normal  \n",
       "...          ...     ...     ...     ...       ...            ...  \n",
       "2914         NaN       0       6    2006        WD         Normal  \n",
       "2915         NaN       0       4    2006        WD        Abnorml  \n",
       "2916         NaN       0       9    2006        WD        Abnorml  \n",
       "2917        Shed     700       7    2006        WD         Normal  \n",
       "2918         NaN       0      11    2006        WD         Normal  \n",
       "\n",
       "[2919 rows x 79 columns]"
      ]
     },
     "execution_count": 33,
     "metadata": {},
     "output_type": "execute_result"
    }
   ],
   "source": [
    "df_train"
   ]
  },
  {
   "cell_type": "code",
   "execution_count": 34,
   "metadata": {
    "execution": {
     "iopub.execute_input": "2021-01-21T15:03:26.710597Z",
     "iopub.status.busy": "2021-01-21T15:03:26.698256Z",
     "iopub.status.idle": "2021-01-21T15:03:26.717116Z",
     "shell.execute_reply": "2021-01-21T15:03:26.716613Z"
    },
    "papermill": {
     "duration": 0.176031,
     "end_time": "2021-01-21T15:03:26.717292",
     "exception": false,
     "start_time": "2021-01-21T15:03:26.541261",
     "status": "completed"
    },
    "tags": []
   },
   "outputs": [
    {
     "data": {
      "text/html": [
       "<div>\n",
       "<style scoped>\n",
       "    .dataframe tbody tr th:only-of-type {\n",
       "        vertical-align: middle;\n",
       "    }\n",
       "\n",
       "    .dataframe tbody tr th {\n",
       "        vertical-align: top;\n",
       "    }\n",
       "\n",
       "    .dataframe thead th {\n",
       "        text-align: right;\n",
       "    }\n",
       "</style>\n",
       "<table border=\"1\" class=\"dataframe\">\n",
       "  <thead>\n",
       "    <tr style=\"text-align: right;\">\n",
       "      <th></th>\n",
       "      <th>MSSubClass</th>\n",
       "      <th>MSZoning</th>\n",
       "      <th>LotFrontage</th>\n",
       "      <th>LotArea</th>\n",
       "      <th>Street</th>\n",
       "      <th>Alley</th>\n",
       "      <th>LotShape</th>\n",
       "      <th>LandContour</th>\n",
       "      <th>Utilities</th>\n",
       "      <th>LotConfig</th>\n",
       "      <th>...</th>\n",
       "      <th>PoolArea</th>\n",
       "      <th>PoolQC</th>\n",
       "      <th>Fence</th>\n",
       "      <th>MiscFeature</th>\n",
       "      <th>MiscVal</th>\n",
       "      <th>MoSold</th>\n",
       "      <th>YrSold</th>\n",
       "      <th>SaleType</th>\n",
       "      <th>SaleCondition</th>\n",
       "      <th>SalePrice</th>\n",
       "    </tr>\n",
       "  </thead>\n",
       "  <tbody>\n",
       "    <tr>\n",
       "      <th>0</th>\n",
       "      <td>60</td>\n",
       "      <td>RL</td>\n",
       "      <td>65.0</td>\n",
       "      <td>8450</td>\n",
       "      <td>Pave</td>\n",
       "      <td>NaN</td>\n",
       "      <td>Reg</td>\n",
       "      <td>Lvl</td>\n",
       "      <td>AllPub</td>\n",
       "      <td>Inside</td>\n",
       "      <td>...</td>\n",
       "      <td>0</td>\n",
       "      <td>NaN</td>\n",
       "      <td>NaN</td>\n",
       "      <td>NaN</td>\n",
       "      <td>0</td>\n",
       "      <td>2</td>\n",
       "      <td>2008</td>\n",
       "      <td>WD</td>\n",
       "      <td>Normal</td>\n",
       "      <td>12.247699</td>\n",
       "    </tr>\n",
       "    <tr>\n",
       "      <th>1</th>\n",
       "      <td>20</td>\n",
       "      <td>RL</td>\n",
       "      <td>80.0</td>\n",
       "      <td>9600</td>\n",
       "      <td>Pave</td>\n",
       "      <td>NaN</td>\n",
       "      <td>Reg</td>\n",
       "      <td>Lvl</td>\n",
       "      <td>AllPub</td>\n",
       "      <td>FR2</td>\n",
       "      <td>...</td>\n",
       "      <td>0</td>\n",
       "      <td>NaN</td>\n",
       "      <td>NaN</td>\n",
       "      <td>NaN</td>\n",
       "      <td>0</td>\n",
       "      <td>5</td>\n",
       "      <td>2007</td>\n",
       "      <td>WD</td>\n",
       "      <td>Normal</td>\n",
       "      <td>12.109016</td>\n",
       "    </tr>\n",
       "    <tr>\n",
       "      <th>2</th>\n",
       "      <td>60</td>\n",
       "      <td>RL</td>\n",
       "      <td>68.0</td>\n",
       "      <td>11250</td>\n",
       "      <td>Pave</td>\n",
       "      <td>NaN</td>\n",
       "      <td>IR1</td>\n",
       "      <td>Lvl</td>\n",
       "      <td>AllPub</td>\n",
       "      <td>Inside</td>\n",
       "      <td>...</td>\n",
       "      <td>0</td>\n",
       "      <td>NaN</td>\n",
       "      <td>NaN</td>\n",
       "      <td>NaN</td>\n",
       "      <td>0</td>\n",
       "      <td>9</td>\n",
       "      <td>2008</td>\n",
       "      <td>WD</td>\n",
       "      <td>Normal</td>\n",
       "      <td>12.317171</td>\n",
       "    </tr>\n",
       "    <tr>\n",
       "      <th>3</th>\n",
       "      <td>70</td>\n",
       "      <td>RL</td>\n",
       "      <td>60.0</td>\n",
       "      <td>9550</td>\n",
       "      <td>Pave</td>\n",
       "      <td>NaN</td>\n",
       "      <td>IR1</td>\n",
       "      <td>Lvl</td>\n",
       "      <td>AllPub</td>\n",
       "      <td>Corner</td>\n",
       "      <td>...</td>\n",
       "      <td>0</td>\n",
       "      <td>NaN</td>\n",
       "      <td>NaN</td>\n",
       "      <td>NaN</td>\n",
       "      <td>0</td>\n",
       "      <td>2</td>\n",
       "      <td>2006</td>\n",
       "      <td>WD</td>\n",
       "      <td>Abnorml</td>\n",
       "      <td>11.849405</td>\n",
       "    </tr>\n",
       "    <tr>\n",
       "      <th>4</th>\n",
       "      <td>60</td>\n",
       "      <td>RL</td>\n",
       "      <td>84.0</td>\n",
       "      <td>14260</td>\n",
       "      <td>Pave</td>\n",
       "      <td>NaN</td>\n",
       "      <td>IR1</td>\n",
       "      <td>Lvl</td>\n",
       "      <td>AllPub</td>\n",
       "      <td>FR2</td>\n",
       "      <td>...</td>\n",
       "      <td>0</td>\n",
       "      <td>NaN</td>\n",
       "      <td>NaN</td>\n",
       "      <td>NaN</td>\n",
       "      <td>0</td>\n",
       "      <td>12</td>\n",
       "      <td>2008</td>\n",
       "      <td>WD</td>\n",
       "      <td>Normal</td>\n",
       "      <td>12.429220</td>\n",
       "    </tr>\n",
       "  </tbody>\n",
       "</table>\n",
       "<p>5 rows × 80 columns</p>\n",
       "</div>"
      ],
      "text/plain": [
       "   MSSubClass MSZoning  LotFrontage  LotArea Street Alley LotShape  \\\n",
       "0          60       RL         65.0     8450   Pave   NaN      Reg   \n",
       "1          20       RL         80.0     9600   Pave   NaN      Reg   \n",
       "2          60       RL         68.0    11250   Pave   NaN      IR1   \n",
       "3          70       RL         60.0     9550   Pave   NaN      IR1   \n",
       "4          60       RL         84.0    14260   Pave   NaN      IR1   \n",
       "\n",
       "  LandContour Utilities LotConfig  ... PoolArea PoolQC Fence MiscFeature  \\\n",
       "0         Lvl    AllPub    Inside  ...        0    NaN   NaN         NaN   \n",
       "1         Lvl    AllPub       FR2  ...        0    NaN   NaN         NaN   \n",
       "2         Lvl    AllPub    Inside  ...        0    NaN   NaN         NaN   \n",
       "3         Lvl    AllPub    Corner  ...        0    NaN   NaN         NaN   \n",
       "4         Lvl    AllPub       FR2  ...        0    NaN   NaN         NaN   \n",
       "\n",
       "  MiscVal MoSold  YrSold  SaleType  SaleCondition  SalePrice  \n",
       "0       0      2    2008        WD         Normal  12.247699  \n",
       "1       0      5    2007        WD         Normal  12.109016  \n",
       "2       0      9    2008        WD         Normal  12.317171  \n",
       "3       0      2    2006        WD        Abnorml  11.849405  \n",
       "4       0     12    2008        WD         Normal  12.429220  \n",
       "\n",
       "[5 rows x 80 columns]"
      ]
     },
     "execution_count": 34,
     "metadata": {},
     "output_type": "execute_result"
    }
   ],
   "source": [
    "train.head()"
   ]
  },
  {
   "cell_type": "code",
   "execution_count": 35,
   "metadata": {
    "execution": {
     "iopub.execute_input": "2021-01-21T15:03:26.996242Z",
     "iopub.status.busy": "2021-01-21T15:03:26.989571Z",
     "iopub.status.idle": "2021-01-21T15:03:27.418984Z",
     "shell.execute_reply": "2021-01-21T15:03:27.418379Z"
    },
    "papermill": {
     "duration": 0.573252,
     "end_time": "2021-01-21T15:03:27.419089",
     "exception": false,
     "start_time": "2021-01-21T15:03:26.845837",
     "status": "completed"
    },
    "tags": []
   },
   "outputs": [
    {
     "data": {
      "text/plain": [
       "(-0.5, 9.5, 0.0, 800000.0)"
      ]
     },
     "execution_count": 35,
     "metadata": {},
     "output_type": "execute_result"
    },
    {
     "data": {
      "image/png": "[encoded data removed]",
      "text/plain": [
       "<Figure size 576x432 with 1 Axes>"
      ]
     },
     "metadata": {
      "needs_background": "light"
     },
     "output_type": "display_data"
    }
   ],
   "source": [
    "data = pd.concat([train['SalePrice'], train['OverallQual']], axis=1)\n",
    "f, ax = plt.subplots(figsize=(8, 6))\n",
    "fig = sns.boxplot(x=train['OverallQual'], y=\"SalePrice\", data=data)\n",
    "fig.axis(ymin=0, ymax=800000)"
   ]
  },
  {
   "cell_type": "code",
   "execution_count": 36,
   "metadata": {
    "execution": {
     "iopub.execute_input": "2021-01-21T15:03:27.952406Z",
     "iopub.status.busy": "2021-01-21T15:03:27.946992Z",
     "iopub.status.idle": "2021-01-21T15:03:28.234756Z",
     "shell.execute_reply": "2021-01-21T15:03:28.233961Z"
    },
    "papermill": {
     "duration": 0.425293,
     "end_time": "2021-01-21T15:03:28.234886",
     "exception": false,
     "start_time": "2021-01-21T15:03:27.809593",
     "status": "completed"
    },
    "tags": []
   },
   "outputs": [
    {
     "data": {
      "image/png": "[encoded data removed]",
      "text/plain": [
       "<Figure size 576x432 with 1 Axes>"
      ]
     },
     "metadata": {
      "needs_background": "light"
     },
     "output_type": "display_data"
    }
   ],
   "source": [
    "f, ax = plt.subplots(figsize=(8, 6))\n",
    "fig = sns.boxplot(x=train['OverallQual'], y=train[\"SalePrice\"], data=train)\n",
    "fig.axis(ymin=0, ymax=800000);"
   ]
  },
  {
   "cell_type": "code",
   "execution_count": 37,
   "metadata": {
    "execution": {
     "iopub.execute_input": "2021-01-21T15:03:29.410852Z",
     "iopub.status.busy": "2021-01-21T15:03:29.409215Z",
     "iopub.status.idle": "2021-01-21T15:03:29.416425Z",
     "shell.execute_reply": "2021-01-21T15:03:29.415856Z"
    },
    "papermill": {
     "duration": 0.214543,
     "end_time": "2021-01-21T15:03:29.416543",
     "exception": false,
     "start_time": "2021-01-21T15:03:29.202000",
     "status": "completed"
    },
    "tags": []
   },
   "outputs": [],
   "source": [
    "miss1=df_train.isnull().sum()/len(df_train)"
   ]
  },
  {
   "cell_type": "code",
   "execution_count": 38,
   "metadata": {
    "execution": {
     "iopub.execute_input": "2021-01-21T15:03:29.688271Z",
     "iopub.status.busy": "2021-01-21T15:03:29.687635Z",
     "iopub.status.idle": "2021-01-21T15:03:29.691858Z",
     "shell.execute_reply": "2021-01-21T15:03:29.691185Z"
    },
    "papermill": {
     "duration": 0.143826,
     "end_time": "2021-01-21T15:03:29.691963",
     "exception": false,
     "start_time": "2021-01-21T15:03:29.548137",
     "status": "completed"
    },
    "tags": []
   },
   "outputs": [],
   "source": [
    "miss2=miss1[miss1>0]"
   ]
  },
  {
   "cell_type": "code",
   "execution_count": 39,
   "metadata": {
    "execution": {
     "iopub.execute_input": "2021-01-21T15:03:29.966402Z",
     "iopub.status.busy": "2021-01-21T15:03:29.965664Z",
     "iopub.status.idle": "2021-01-21T15:03:29.970451Z",
     "shell.execute_reply": "2021-01-21T15:03:29.969829Z"
    },
    "papermill": {
     "duration": 0.147133,
     "end_time": "2021-01-21T15:03:29.970559",
     "exception": false,
     "start_time": "2021-01-21T15:03:29.823426",
     "status": "completed"
    },
    "tags": []
   },
   "outputs": [
    {
     "data": {
      "text/plain": [
       "PoolQC          0.996574\n",
       "MiscFeature     0.964029\n",
       "Alley           0.932169\n",
       "Fence           0.804385\n",
       "FireplaceQu     0.486468\n",
       "LotFrontage     0.166495\n",
       "GarageFinish    0.054471\n",
       "GarageYrBlt     0.054471\n",
       "GarageQual      0.054471\n",
       "GarageCond      0.054471\n",
       "GarageType      0.053786\n",
       "BsmtExposure    0.028092\n",
       "BsmtCond        0.028092\n",
       "BsmtQual        0.027749\n",
       "BsmtFinType2    0.027407\n",
       "BsmtFinType1    0.027064\n",
       "MasVnrType      0.008222\n",
       "MasVnrArea      0.007879\n",
       "MSZoning        0.001370\n",
       "BsmtFullBath    0.000685\n",
       "BsmtHalfBath    0.000685\n",
       "Utilities       0.000685\n",
       "Functional      0.000685\n",
       "Exterior2nd     0.000343\n",
       "Exterior1st     0.000343\n",
       "SaleType        0.000343\n",
       "BsmtFinSF1      0.000343\n",
       "BsmtFinSF2      0.000343\n",
       "BsmtUnfSF       0.000343\n",
       "Electrical      0.000343\n",
       "KitchenQual     0.000343\n",
       "GarageCars      0.000343\n",
       "GarageArea      0.000343\n",
       "TotalBsmtSF     0.000343\n",
       "dtype: float64"
      ]
     },
     "execution_count": 39,
     "metadata": {},
     "output_type": "execute_result"
    }
   ],
   "source": [
    "miss2.sort_values(ascending = False)"
   ]
  },
  {
   "cell_type": "code",
   "execution_count": 40,
   "metadata": {
    "execution": {
     "iopub.execute_input": "2021-01-21T15:03:30.248751Z",
     "iopub.status.busy": "2021-01-21T15:03:30.247842Z",
     "iopub.status.idle": "2021-01-21T15:03:30.252622Z",
     "shell.execute_reply": "2021-01-21T15:03:30.251366Z"
    },
    "papermill": {
     "duration": 0.148872,
     "end_time": "2021-01-21T15:03:30.252788",
     "exception": false,
     "start_time": "2021-01-21T15:03:30.103916",
     "status": "completed"
    },
    "tags": []
   },
   "outputs": [],
   "source": [
    "###Imputing missing values "
   ]
  },
  {
   "cell_type": "code",
   "execution_count": 41,
   "metadata": {
    "execution": {
     "iopub.execute_input": "2021-01-21T15:03:30.550820Z",
     "iopub.status.busy": "2021-01-21T15:03:30.549866Z",
     "iopub.status.idle": "2021-01-21T15:03:30.553379Z",
     "shell.execute_reply": "2021-01-21T15:03:30.552725Z"
    },
    "papermill": {
     "duration": 0.142533,
     "end_time": "2021-01-21T15:03:30.553504",
     "exception": false,
     "start_time": "2021-01-21T15:03:30.410971",
     "status": "completed"
    },
    "tags": []
   },
   "outputs": [],
   "source": [
    "#  since pool qc means = many no of the house has no feature pool inbuilt so this many values are missing so use none to replace"
   ]
  },
  {
   "cell_type": "code",
   "execution_count": 42,
   "metadata": {
    "execution": {
     "iopub.execute_input": "2021-01-21T15:03:30.829407Z",
     "iopub.status.busy": "2021-01-21T15:03:30.828685Z",
     "iopub.status.idle": "2021-01-21T15:03:30.832785Z",
     "shell.execute_reply": "2021-01-21T15:03:30.832167Z"
    },
    "papermill": {
     "duration": 0.145486,
     "end_time": "2021-01-21T15:03:30.832900",
     "exception": false,
     "start_time": "2021-01-21T15:03:30.687414",
     "status": "completed"
    },
    "tags": []
   },
   "outputs": [],
   "source": [
    "df_train[\"PoolQC\"]=df_train[\"PoolQC\"].fillna(\"None\")"
   ]
  },
  {
   "cell_type": "code",
   "execution_count": 43,
   "metadata": {
    "execution": {
     "iopub.execute_input": "2021-01-21T15:03:31.106508Z",
     "iopub.status.busy": "2021-01-21T15:03:31.105826Z",
     "iopub.status.idle": "2021-01-21T15:03:31.109436Z",
     "shell.execute_reply": "2021-01-21T15:03:31.109911Z"
    },
    "papermill": {
     "duration": 0.142477,
     "end_time": "2021-01-21T15:03:31.110057",
     "exception": false,
     "start_time": "2021-01-21T15:03:30.967580",
     "status": "completed"
    },
    "tags": []
   },
   "outputs": [],
   "source": [
    "# misc missing value due to no misc feature available"
   ]
  },
  {
   "cell_type": "code",
   "execution_count": 44,
   "metadata": {
    "execution": {
     "iopub.execute_input": "2021-01-21T15:03:31.390638Z",
     "iopub.status.busy": "2021-01-21T15:03:31.389824Z",
     "iopub.status.idle": "2021-01-21T15:03:31.395272Z",
     "shell.execute_reply": "2021-01-21T15:03:31.394601Z"
    },
    "papermill": {
     "duration": 0.151153,
     "end_time": "2021-01-21T15:03:31.395408",
     "exception": false,
     "start_time": "2021-01-21T15:03:31.244255",
     "status": "completed"
    },
    "tags": []
   },
   "outputs": [],
   "source": [
    "df_train[\"MiscFeature\"]=df_train[\"MiscFeature\"].fillna(\"None\")"
   ]
  },
  {
   "cell_type": "code",
   "execution_count": 45,
   "metadata": {
    "execution": {
     "iopub.execute_input": "2021-01-21T15:03:31.672933Z",
     "iopub.status.busy": "2021-01-21T15:03:31.672263Z",
     "iopub.status.idle": "2021-01-21T15:03:31.676040Z",
     "shell.execute_reply": "2021-01-21T15:03:31.675431Z"
    },
    "papermill": {
     "duration": 0.145442,
     "end_time": "2021-01-21T15:03:31.676142",
     "exception": false,
     "start_time": "2021-01-21T15:03:31.530700",
     "status": "completed"
    },
    "tags": []
   },
   "outputs": [],
   "source": [
    "# no fence \n",
    "df_train[\"Fence\"]=df_train[\"Fence\"].fillna(\"None\")"
   ]
  },
  {
   "cell_type": "code",
   "execution_count": 46,
   "metadata": {
    "execution": {
     "iopub.execute_input": "2021-01-21T15:03:31.953763Z",
     "iopub.status.busy": "2021-01-21T15:03:31.952309Z",
     "iopub.status.idle": "2021-01-21T15:03:31.957935Z",
     "shell.execute_reply": "2021-01-21T15:03:31.957315Z"
    },
    "papermill": {
     "duration": 0.145812,
     "end_time": "2021-01-21T15:03:31.958048",
     "exception": false,
     "start_time": "2021-01-21T15:03:31.812236",
     "status": "completed"
    },
    "tags": []
   },
   "outputs": [],
   "source": [
    "# Alley -no alley access\n",
    "df_train[\"Alley\"]=df_train[\"Alley\"].fillna(\"None\")"
   ]
  },
  {
   "cell_type": "code",
   "execution_count": 47,
   "metadata": {
    "execution": {
     "iopub.execute_input": "2021-01-21T15:03:32.233738Z",
     "iopub.status.busy": "2021-01-21T15:03:32.233032Z",
     "iopub.status.idle": "2021-01-21T15:03:32.237031Z",
     "shell.execute_reply": "2021-01-21T15:03:32.237765Z"
    },
    "papermill": {
     "duration": 0.146979,
     "end_time": "2021-01-21T15:03:32.237940",
     "exception": false,
     "start_time": "2021-01-21T15:03:32.090961",
     "status": "completed"
    },
    "tags": []
   },
   "outputs": [],
   "source": [
    "# no fireplace quaity=no fireplace\n",
    "df_train[\"FireplaceQu\"]=df_train[\"FireplaceQu\"].fillna(\"None\")\n",
    "\n"
   ]
  },
  {
   "cell_type": "code",
   "execution_count": 48,
   "metadata": {
    "execution": {
     "iopub.execute_input": "2021-01-21T15:03:32.644737Z",
     "iopub.status.busy": "2021-01-21T15:03:32.643915Z",
     "iopub.status.idle": "2021-01-21T15:03:32.662144Z",
     "shell.execute_reply": "2021-01-21T15:03:32.661554Z"
    },
    "papermill": {
     "duration": 0.222307,
     "end_time": "2021-01-21T15:03:32.662285",
     "exception": false,
     "start_time": "2021-01-21T15:03:32.439978",
     "status": "completed"
    },
    "tags": []
   },
   "outputs": [],
   "source": [
    "# LotFrontage: Linear feet of street connected to property\n",
    "# Since the area of each street connected to the house property most likely have a similar area to other houses in its neighborhood , we can fill in missing values by the median LotFrontage of the neighborhood.\n",
    "df_train[\"LotFrontage\"]=df_train.groupby(\"Neighborhood\")[\"LotFrontage\"].transform(lambda x: x.fillna(x.median()))"
   ]
  },
  {
   "cell_type": "code",
   "execution_count": 49,
   "metadata": {
    "execution": {
     "iopub.execute_input": "2021-01-21T15:03:32.938096Z",
     "iopub.status.busy": "2021-01-21T15:03:32.937128Z",
     "iopub.status.idle": "2021-01-21T15:03:32.940945Z",
     "shell.execute_reply": "2021-01-21T15:03:32.940080Z"
    },
    "papermill": {
     "duration": 0.143121,
     "end_time": "2021-01-21T15:03:32.941079",
     "exception": false,
     "start_time": "2021-01-21T15:03:32.797958",
     "status": "completed"
    },
    "tags": []
   },
   "outputs": [],
   "source": [
    "# GarageCond: Garage condition no garrage"
   ]
  },
  {
   "cell_type": "code",
   "execution_count": 50,
   "metadata": {
    "execution": {
     "iopub.execute_input": "2021-01-21T15:03:33.351256Z",
     "iopub.status.busy": "2021-01-21T15:03:33.350308Z",
     "iopub.status.idle": "2021-01-21T15:03:33.361271Z",
     "shell.execute_reply": "2021-01-21T15:03:33.360742Z"
    },
    "papermill": {
     "duration": 0.221674,
     "end_time": "2021-01-21T15:03:33.361415",
     "exception": false,
     "start_time": "2021-01-21T15:03:33.139741",
     "status": "completed"
    },
    "tags": []
   },
   "outputs": [
    {
     "data": {
      "text/plain": [
       "GarageQual      0.054471\n",
       "GarageFinish    0.054471\n",
       "GarageYrBlt     0.054471\n",
       "GarageCond      0.054471\n",
       "GarageType      0.053786\n",
       "BsmtCond        0.028092\n",
       "BsmtExposure    0.028092\n",
       "BsmtQual        0.027749\n",
       "BsmtFinType2    0.027407\n",
       "BsmtFinType1    0.027064\n",
       "MasVnrType      0.008222\n",
       "MasVnrArea      0.007879\n",
       "MSZoning        0.001370\n",
       "BsmtFullBath    0.000685\n",
       "BsmtHalfBath    0.000685\n",
       "Functional      0.000685\n",
       "Utilities       0.000685\n",
       "Exterior1st     0.000343\n",
       "Exterior2nd     0.000343\n",
       "SaleType        0.000343\n",
       "BsmtFinSF1      0.000343\n",
       "BsmtFinSF2      0.000343\n",
       "TotalBsmtSF     0.000343\n",
       "Electrical      0.000343\n",
       "KitchenQual     0.000343\n",
       "GarageCars      0.000343\n",
       "GarageArea      0.000343\n",
       "BsmtUnfSF       0.000343\n",
       "dtype: float64"
      ]
     },
     "execution_count": 50,
     "metadata": {},
     "output_type": "execute_result"
    }
   ],
   "source": [
    "miss1=df_train.isnull().sum()/len(df_train)\n",
    "\n",
    "miss2=miss1[miss1>0]\n",
    "\n",
    "miss2.sort_values(ascending = False)"
   ]
  },
  {
   "cell_type": "code",
   "execution_count": 51,
   "metadata": {
    "execution": {
     "iopub.execute_input": "2021-01-21T15:03:33.643832Z",
     "iopub.status.busy": "2021-01-21T15:03:33.642974Z",
     "iopub.status.idle": "2021-01-21T15:03:33.646473Z",
     "shell.execute_reply": "2021-01-21T15:03:33.645774Z"
    },
    "papermill": {
     "duration": 0.148851,
     "end_time": "2021-01-21T15:03:33.646584",
     "exception": false,
     "start_time": "2021-01-21T15:03:33.497733",
     "status": "completed"
    },
    "tags": []
   },
   "outputs": [],
   "source": [
    "# GarageType, GarageFinish, GarageQual and GarageCond : None feature mean no value\n",
    "for col in ('GarageType', 'GarageFinish', 'GarageQual', 'GarageCond'):\n",
    "    df_train[col] = df_train[col].fillna('None')"
   ]
  },
  {
   "cell_type": "code",
   "execution_count": 52,
   "metadata": {
    "execution": {
     "iopub.execute_input": "2021-01-21T15:03:33.923928Z",
     "iopub.status.busy": "2021-01-21T15:03:33.923253Z",
     "iopub.status.idle": "2021-01-21T15:03:33.926977Z",
     "shell.execute_reply": "2021-01-21T15:03:33.926402Z"
    },
    "papermill": {
     "duration": 0.144691,
     "end_time": "2021-01-21T15:03:33.927084",
     "exception": false,
     "start_time": "2021-01-21T15:03:33.782393",
     "status": "completed"
    },
    "tags": []
   },
   "outputs": [],
   "source": [
    "# GarageYrBlt, GarageArea and GarageCars : Replacing missing data with 0 (Since No garage = no cars in such garage.)\n",
    "for col in ('GarageYrBlt', 'GarageArea', 'GarageCars'):\n",
    "    df_train[col] = df_train[col].fillna(0)"
   ]
  },
  {
   "cell_type": "code",
   "execution_count": 53,
   "metadata": {
    "execution": {
     "iopub.execute_input": "2021-01-21T15:03:34.204731Z",
     "iopub.status.busy": "2021-01-21T15:03:34.204015Z",
     "iopub.status.idle": "2021-01-21T15:03:34.206792Z",
     "shell.execute_reply": "2021-01-21T15:03:34.205964Z"
    },
    "papermill": {
     "duration": 0.145444,
     "end_time": "2021-01-21T15:03:34.206913",
     "exception": false,
     "start_time": "2021-01-21T15:03:34.061469",
     "status": "completed"
    },
    "tags": []
   },
   "outputs": [],
   "source": [
    "# BsmtFinSF1, BsmtFinSF2, BsmtUnfSF, TotalBsmtSF, BsmtFullBath and BsmtHalfBath : missing values are likely zero for having no basement\n",
    "for col in ('BsmtQual', 'BsmtCond', 'BsmtExposure', 'BsmtFinType1', 'BsmtFinType2'):\n",
    "    df_train[col] = df_train[col].fillna(0)"
   ]
  },
  {
   "cell_type": "code",
   "execution_count": 54,
   "metadata": {
    "execution": {
     "iopub.execute_input": "2021-01-21T15:03:34.491898Z",
     "iopub.status.busy": "2021-01-21T15:03:34.490967Z",
     "iopub.status.idle": "2021-01-21T15:03:34.497324Z",
     "shell.execute_reply": "2021-01-21T15:03:34.496652Z"
    },
    "papermill": {
     "duration": 0.152713,
     "end_time": "2021-01-21T15:03:34.497461",
     "exception": false,
     "start_time": "2021-01-21T15:03:34.344748",
     "status": "completed"
    },
    "tags": []
   },
   "outputs": [],
   "source": [
    "# 'BsmtFinSF1', 'BsmtFinSF2', 'BsmtUnfSF','TotalBsmtSF', 'BsmtFullBath', 'BsmtHalfBath'\n",
    "for col in ('BsmtFinSF1', 'BsmtFinSF2', 'BsmtUnfSF','TotalBsmtSF', 'BsmtFullBath', 'BsmtHalfBath'):\n",
    "    df_train[col] = df_train[col].fillna(0)"
   ]
  },
  {
   "cell_type": "code",
   "execution_count": 55,
   "metadata": {
    "execution": {
     "iopub.execute_input": "2021-01-21T15:03:34.773063Z",
     "iopub.status.busy": "2021-01-21T15:03:34.772455Z",
     "iopub.status.idle": "2021-01-21T15:03:34.779571Z",
     "shell.execute_reply": "2021-01-21T15:03:34.780070Z"
    },
    "papermill": {
     "duration": 0.14723,
     "end_time": "2021-01-21T15:03:34.780209",
     "exception": false,
     "start_time": "2021-01-21T15:03:34.632979",
     "status": "completed"
    },
    "tags": []
   },
   "outputs": [],
   "source": [
    "# MasVnrArea and MasVnrType : NA most likely means no masonry veneer for these houses. We can fill 0 for the area and None for the type. \n",
    "df_train[\"MasVnrType\"] = df_train[\"MasVnrType\"].fillna(\"None\")\n",
    "df_train[\"MasVnrArea\"] = df_train[\"MasVnrArea\"].fillna(0)"
   ]
  },
  {
   "cell_type": "code",
   "execution_count": 56,
   "metadata": {
    "execution": {
     "iopub.execute_input": "2021-01-21T15:03:35.055171Z",
     "iopub.status.busy": "2021-01-21T15:03:35.054557Z",
     "iopub.status.idle": "2021-01-21T15:03:35.083523Z",
     "shell.execute_reply": "2021-01-21T15:03:35.084050Z"
    },
    "papermill": {
     "duration": 0.167922,
     "end_time": "2021-01-21T15:03:35.084198",
     "exception": false,
     "start_time": "2021-01-21T15:03:34.916276",
     "status": "completed"
    },
    "tags": []
   },
   "outputs": [
    {
     "data": {
      "text/plain": [
       "MSZoning       0.001370\n",
       "Functional     0.000685\n",
       "Utilities      0.000685\n",
       "SaleType       0.000343\n",
       "KitchenQual    0.000343\n",
       "Electrical     0.000343\n",
       "Exterior2nd    0.000343\n",
       "Exterior1st    0.000343\n",
       "dtype: float64"
      ]
     },
     "execution_count": 56,
     "metadata": {},
     "output_type": "execute_result"
    }
   ],
   "source": [
    "miss1=df_train.isnull().sum()/len(df_train)\n",
    "\n",
    "miss2=miss1[miss1>0]\n",
    "\n",
    "miss2.sort_values(ascending = False)"
   ]
  },
  {
   "cell_type": "code",
   "execution_count": 57,
   "metadata": {
    "execution": {
     "iopub.execute_input": "2021-01-21T15:03:35.366813Z",
     "iopub.status.busy": "2021-01-21T15:03:35.365900Z",
     "iopub.status.idle": "2021-01-21T15:03:35.368765Z",
     "shell.execute_reply": "2021-01-21T15:03:35.369241Z"
    },
    "papermill": {
     "duration": 0.148414,
     "end_time": "2021-01-21T15:03:35.369403",
     "exception": false,
     "start_time": "2021-01-21T15:03:35.220989",
     "status": "completed"
    },
    "tags": []
   },
   "outputs": [],
   "source": [
    "df_train['Electrical'] = df_train['Electrical'].fillna(df_train['Electrical'].mode()[0])"
   ]
  },
  {
   "cell_type": "code",
   "execution_count": 58,
   "metadata": {
    "execution": {
     "iopub.execute_input": "2021-01-21T15:03:35.651933Z",
     "iopub.status.busy": "2021-01-21T15:03:35.651029Z",
     "iopub.status.idle": "2021-01-21T15:03:35.654855Z",
     "shell.execute_reply": "2021-01-21T15:03:35.654020Z"
    },
    "papermill": {
     "duration": 0.148485,
     "end_time": "2021-01-21T15:03:35.654983",
     "exception": false,
     "start_time": "2021-01-21T15:03:35.506498",
     "status": "completed"
    },
    "tags": []
   },
   "outputs": [],
   "source": [
    "df_train['MSZoning'] = df_train['MSZoning'].fillna(df_train['MSZoning'].mode()[0])"
   ]
  },
  {
   "cell_type": "code",
   "execution_count": 59,
   "metadata": {
    "execution": {
     "iopub.execute_input": "2021-01-21T15:03:35.962818Z",
     "iopub.status.busy": "2021-01-21T15:03:35.959933Z",
     "iopub.status.idle": "2021-01-21T15:03:35.967232Z",
     "shell.execute_reply": "2021-01-21T15:03:35.966579Z"
    },
    "papermill": {
     "duration": 0.149514,
     "end_time": "2021-01-21T15:03:35.967385",
     "exception": false,
     "start_time": "2021-01-21T15:03:35.817871",
     "status": "completed"
    },
    "tags": []
   },
   "outputs": [],
   "source": [
    "df_train['Exterior1st'] = df_train['Exterior1st'].fillna(df_train['Exterior1st'].mode()[0])\n",
    "df_train['Exterior2nd'] = df_train['Exterior2nd'].fillna(df_train['Exterior2nd'].mode()[0])"
   ]
  },
  {
   "cell_type": "code",
   "execution_count": 60,
   "metadata": {
    "execution": {
     "iopub.execute_input": "2021-01-21T15:03:36.246133Z",
     "iopub.status.busy": "2021-01-21T15:03:36.245518Z",
     "iopub.status.idle": "2021-01-21T15:03:36.251784Z",
     "shell.execute_reply": "2021-01-21T15:03:36.252280Z"
    },
    "papermill": {
     "duration": 0.148313,
     "end_time": "2021-01-21T15:03:36.252459",
     "exception": false,
     "start_time": "2021-01-21T15:03:36.104146",
     "status": "completed"
    },
    "tags": []
   },
   "outputs": [],
   "source": [
    "df_train['SaleType'] = df_train['SaleType'].fillna(df_train['SaleType'].mode()[0])"
   ]
  },
  {
   "cell_type": "code",
   "execution_count": 61,
   "metadata": {
    "execution": {
     "iopub.execute_input": "2021-01-21T15:03:36.532823Z",
     "iopub.status.busy": "2021-01-21T15:03:36.532099Z",
     "iopub.status.idle": "2021-01-21T15:03:36.538014Z",
     "shell.execute_reply": "2021-01-21T15:03:36.537516Z"
    },
    "papermill": {
     "duration": 0.147704,
     "end_time": "2021-01-21T15:03:36.538119",
     "exception": false,
     "start_time": "2021-01-21T15:03:36.390415",
     "status": "completed"
    },
    "tags": []
   },
   "outputs": [
    {
     "data": {
      "text/plain": [
       "'\\nUtilities : For this categorical feature all records are \"AllPub\", except for one \"NoSeWa\" and 2 NA . \\nSince the house with \\'NoSewa\\' is in the training set, this feature won\\'t help in predictive modelling.\\nWe can then safely remove it.\\n'"
      ]
     },
     "execution_count": 61,
     "metadata": {},
     "output_type": "execute_result"
    }
   ],
   "source": [
    "\"\"\"\n",
    "Utilities : For this categorical feature all records are \"AllPub\", except for one \"NoSeWa\" and 2 NA . \n",
    "Since the house with 'NoSewa' is in the training set, this feature won't help in predictive modelling.\n",
    "We can then safely remove it.\n",
    "\"\"\""
   ]
  },
  {
   "cell_type": "code",
   "execution_count": 62,
   "metadata": {
    "execution": {
     "iopub.execute_input": "2021-01-21T15:03:36.824242Z",
     "iopub.status.busy": "2021-01-21T15:03:36.821835Z",
     "iopub.status.idle": "2021-01-21T15:03:36.828095Z",
     "shell.execute_reply": "2021-01-21T15:03:36.827404Z"
    },
    "papermill": {
     "duration": 0.152495,
     "end_time": "2021-01-21T15:03:36.828208",
     "exception": false,
     "start_time": "2021-01-21T15:03:36.675713",
     "status": "completed"
    },
    "tags": []
   },
   "outputs": [],
   "source": [
    "df_train = df_train.drop(['Utilities'], axis=1)"
   ]
  },
  {
   "cell_type": "code",
   "execution_count": 63,
   "metadata": {
    "execution": {
     "iopub.execute_input": "2021-01-21T15:03:37.116850Z",
     "iopub.status.busy": "2021-01-21T15:03:37.115884Z",
     "iopub.status.idle": "2021-01-21T15:03:37.124815Z",
     "shell.execute_reply": "2021-01-21T15:03:37.125290Z"
    },
    "papermill": {
     "duration": 0.159353,
     "end_time": "2021-01-21T15:03:37.125453",
     "exception": false,
     "start_time": "2021-01-21T15:03:36.966100",
     "status": "completed"
    },
    "tags": []
   },
   "outputs": [
    {
     "data": {
      "text/plain": [
       "Functional     0.000685\n",
       "KitchenQual    0.000343\n",
       "dtype: float64"
      ]
     },
     "execution_count": 63,
     "metadata": {},
     "output_type": "execute_result"
    }
   ],
   "source": [
    "miss1=df_train.isnull().sum()/len(df_train)\n",
    "\n",
    "miss2=miss1[miss1>0]\n",
    "\n",
    "miss2.sort_values(ascending = False)"
   ]
  },
  {
   "cell_type": "code",
   "execution_count": 64,
   "metadata": {
    "execution": {
     "iopub.execute_input": "2021-01-21T15:03:37.410891Z",
     "iopub.status.busy": "2021-01-21T15:03:37.409985Z",
     "iopub.status.idle": "2021-01-21T15:03:37.414561Z",
     "shell.execute_reply": "2021-01-21T15:03:37.413824Z"
    },
    "papermill": {
     "duration": 0.149965,
     "end_time": "2021-01-21T15:03:37.414686",
     "exception": false,
     "start_time": "2021-01-21T15:03:37.264721",
     "status": "completed"
    },
    "tags": []
   },
   "outputs": [
    {
     "name": "stdout",
     "output_type": "stream",
     "text": [
      "0        60\n",
      "1        20\n",
      "2        60\n",
      "3        70\n",
      "4        60\n",
      "       ... \n",
      "2914    160\n",
      "2915    160\n",
      "2916     20\n",
      "2917     85\n",
      "2918     60\n",
      "Name: MSSubClass, Length: 2919, dtype: int64\n"
     ]
    }
   ],
   "source": [
    "print(df_train['MSSubClass'])"
   ]
  },
  {
   "cell_type": "code",
   "execution_count": 65,
   "metadata": {
    "execution": {
     "iopub.execute_input": "2021-01-21T15:03:37.879794Z",
     "iopub.status.busy": "2021-01-21T15:03:37.878655Z",
     "iopub.status.idle": "2021-01-21T15:03:37.890997Z",
     "shell.execute_reply": "2021-01-21T15:03:37.890034Z"
    },
    "papermill": {
     "duration": 0.271331,
     "end_time": "2021-01-21T15:03:37.891147",
     "exception": false,
     "start_time": "2021-01-21T15:03:37.619816",
     "status": "completed"
    },
    "tags": []
   },
   "outputs": [
    {
     "data": {
      "text/plain": [
       "Functional     0.000685\n",
       "KitchenQual    0.000343\n",
       "dtype: float64"
      ]
     },
     "execution_count": 65,
     "metadata": {},
     "output_type": "execute_result"
    }
   ],
   "source": [
    "miss1=df_train.isnull().sum()/len(df_train)\n",
    "\n",
    "miss2=miss1[miss1>0]\n",
    "\n",
    "miss2.sort_values(ascending = False)"
   ]
  },
  {
   "cell_type": "code",
   "execution_count": 66,
   "metadata": {
    "execution": {
     "iopub.execute_input": "2021-01-21T15:03:38.179496Z",
     "iopub.status.busy": "2021-01-21T15:03:38.178591Z",
     "iopub.status.idle": "2021-01-21T15:03:38.186399Z",
     "shell.execute_reply": "2021-01-21T15:03:38.186938Z"
    },
    "papermill": {
     "duration": 0.149986,
     "end_time": "2021-01-21T15:03:38.187070",
     "exception": false,
     "start_time": "2021-01-21T15:03:38.037084",
     "status": "completed"
    },
    "tags": []
   },
   "outputs": [],
   "source": [
    "df_train['KitchenQual'] = df_train['KitchenQual'].fillna(df_train['KitchenQual'].mode()[0])"
   ]
  },
  {
   "cell_type": "code",
   "execution_count": 67,
   "metadata": {
    "execution": {
     "iopub.execute_input": "2021-01-21T15:03:38.477185Z",
     "iopub.status.busy": "2021-01-21T15:03:38.476514Z",
     "iopub.status.idle": "2021-01-21T15:03:38.480707Z",
     "shell.execute_reply": "2021-01-21T15:03:38.481233Z"
    },
    "papermill": {
     "duration": 0.150366,
     "end_time": "2021-01-21T15:03:38.481390",
     "exception": false,
     "start_time": "2021-01-21T15:03:38.331024",
     "status": "completed"
    },
    "tags": []
   },
   "outputs": [],
   "source": [
    "df_train[\"Functional\"] = df_train[\"Functional\"].fillna(\"Typ\")"
   ]
  },
  {
   "cell_type": "code",
   "execution_count": 68,
   "metadata": {
    "execution": {
     "iopub.execute_input": "2021-01-21T15:03:38.823710Z",
     "iopub.status.busy": "2021-01-21T15:03:38.823012Z",
     "iopub.status.idle": "2021-01-21T15:03:38.834180Z",
     "shell.execute_reply": "2021-01-21T15:03:38.833453Z"
    },
    "papermill": {
     "duration": 0.178368,
     "end_time": "2021-01-21T15:03:38.834347",
     "exception": false,
     "start_time": "2021-01-21T15:03:38.655979",
     "status": "completed"
    },
    "tags": []
   },
   "outputs": [
    {
     "data": {
      "text/plain": [
       "Series([], dtype: float64)"
      ]
     },
     "execution_count": 68,
     "metadata": {},
     "output_type": "execute_result"
    }
   ],
   "source": [
    "miss1=df_train.isnull().sum()/len(df_train)\n",
    "\n",
    "miss2=miss1[miss1>0]\n",
    "\n",
    "miss2.sort_values(ascending = False)"
   ]
  },
  {
   "cell_type": "code",
   "execution_count": 69,
   "metadata": {
    "execution": {
     "iopub.execute_input": "2021-01-21T15:03:39.254473Z",
     "iopub.status.busy": "2021-01-21T15:03:39.253017Z",
     "iopub.status.idle": "2021-01-21T15:03:39.258055Z",
     "shell.execute_reply": "2021-01-21T15:03:39.257405Z"
    },
    "papermill": {
     "duration": 0.218238,
     "end_time": "2021-01-21T15:03:39.258166",
     "exception": false,
     "start_time": "2021-01-21T15:03:39.039928",
     "status": "completed"
    },
    "tags": []
   },
   "outputs": [
    {
     "data": {
      "text/plain": [
       "0        856.0\n",
       "1       1262.0\n",
       "2        920.0\n",
       "3        756.0\n",
       "4       1145.0\n",
       "         ...  \n",
       "2914     546.0\n",
       "2915     546.0\n",
       "2916    1224.0\n",
       "2917     912.0\n",
       "2918     996.0\n",
       "Name: TotalBsmtSF, Length: 2919, dtype: float64"
      ]
     },
     "execution_count": 69,
     "metadata": {},
     "output_type": "execute_result"
    }
   ],
   "source": [
    "df_train['TotalBsmtSF']"
   ]
  },
  {
   "cell_type": "code",
   "execution_count": 70,
   "metadata": {
    "execution": {
     "iopub.execute_input": "2021-01-21T15:03:39.844007Z",
     "iopub.status.busy": "2021-01-21T15:03:39.840867Z",
     "iopub.status.idle": "2021-01-21T15:03:39.861532Z",
     "shell.execute_reply": "2021-01-21T15:03:39.862357Z"
    },
    "papermill": {
     "duration": 0.176609,
     "end_time": "2021-01-21T15:03:39.862576",
     "exception": false,
     "start_time": "2021-01-21T15:03:39.685967",
     "status": "completed"
    },
    "tags": []
   },
   "outputs": [
    {
     "name": "stdout",
     "output_type": "stream",
     "text": [
      "0        60\n",
      "1        20\n",
      "2        60\n",
      "3        70\n",
      "4        60\n",
      "       ... \n",
      "2914    160\n",
      "2915    160\n",
      "2916     20\n",
      "2917     85\n",
      "2918     60\n",
      "Name: MSSubClass, Length: 2919, dtype: object\n"
     ]
    }
   ],
   "source": [
    "# Transforming  numerical variable that are categorical variable\n",
    "\n",
    "df_train['MSSubClass']=df_train['MSSubClass'].apply(str)\n",
    "\n",
    "print((df_train['MSSubClass']))\n",
    "\n",
    "df_train.head()\n",
    "\n",
    "df_train['OverallCond'] = df_train['OverallCond'].astype(str)\n",
    "df_train['YrSold'] = df_train['YrSold'].astype(str)\n",
    "df_train['MoSold'] = df_train['MoSold'].astype(str)"
   ]
  },
  {
   "cell_type": "code",
   "execution_count": 71,
   "metadata": {
    "execution": {
     "iopub.execute_input": "2021-01-21T15:03:40.280876Z",
     "iopub.status.busy": "2021-01-21T15:03:40.279877Z",
     "iopub.status.idle": "2021-01-21T15:03:40.285971Z",
     "shell.execute_reply": "2021-01-21T15:03:40.285189Z"
    },
    "papermill": {
     "duration": 0.216273,
     "end_time": "2021-01-21T15:03:40.286143",
     "exception": false,
     "start_time": "2021-01-21T15:03:40.069870",
     "status": "completed"
    },
    "tags": []
   },
   "outputs": [],
   "source": [
    "# Label Encoding some categorical variables that may contain information in their ordering set\n"
   ]
  },
  {
   "cell_type": "code",
   "execution_count": 72,
   "metadata": {
    "execution": {
     "iopub.execute_input": "2021-01-21T15:03:40.716010Z",
     "iopub.status.busy": "2021-01-21T15:03:40.714018Z",
     "iopub.status.idle": "2021-01-21T15:03:40.867116Z",
     "shell.execute_reply": "2021-01-21T15:03:40.868291Z"
    },
    "papermill": {
     "duration": 0.368962,
     "end_time": "2021-01-21T15:03:40.868547",
     "exception": false,
     "start_time": "2021-01-21T15:03:40.499585",
     "status": "completed"
    },
    "tags": []
   },
   "outputs": [
    {
     "name": "stdout",
     "output_type": "stream",
     "text": [
      "Shape all_data: (2919, 78)\n"
     ]
    }
   ],
   "source": [
    "from sklearn.preprocessing import LabelEncoder\n",
    "cols = ('FireplaceQu', 'BsmtQual', 'BsmtCond', 'GarageQual', 'GarageCond', \n",
    "        'ExterQual', 'ExterCond','HeatingQC', 'PoolQC', 'KitchenQual', 'BsmtFinType1', \n",
    "        'BsmtFinType2', 'Functional', 'Fence', 'BsmtExposure', 'GarageFinish', 'LandSlope',\n",
    "        'LotShape', 'PavedDrive', 'Street', 'Alley', 'CentralAir', 'MSSubClass', 'OverallCond', \n",
    "        'YrSold', 'MoSold')\n",
    "# process columns, apply LabelEncoder to categorical features\n",
    "for c in cols:\n",
    "    lbl = LabelEncoder() \n",
    "    lbl.fit(list(df_train[c].values)) \n",
    "    df_train[c] = lbl.transform(list(df_train[c].values))\n",
    "\n",
    "# shape        \n",
    "print('Shape all_data: {}'.format(df_train.shape))"
   ]
  },
  {
   "cell_type": "code",
   "execution_count": 73,
   "metadata": {
    "execution": {
     "iopub.execute_input": "2021-01-21T15:03:41.164803Z",
     "iopub.status.busy": "2021-01-21T15:03:41.164152Z",
     "iopub.status.idle": "2021-01-21T15:03:41.215002Z",
     "shell.execute_reply": "2021-01-21T15:03:41.215567Z"
    },
    "papermill": {
     "duration": 0.199662,
     "end_time": "2021-01-21T15:03:41.215715",
     "exception": false,
     "start_time": "2021-01-21T15:03:41.016053",
     "status": "completed"
    },
    "tags": []
   },
   "outputs": [
    {
     "data": {
      "text/html": [
       "<div>\n",
       "<style scoped>\n",
       "    .dataframe tbody tr th:only-of-type {\n",
       "        vertical-align: middle;\n",
       "    }\n",
       "\n",
       "    .dataframe tbody tr th {\n",
       "        vertical-align: top;\n",
       "    }\n",
       "\n",
       "    .dataframe thead th {\n",
       "        text-align: right;\n",
       "    }\n",
       "</style>\n",
       "<table border=\"1\" class=\"dataframe\">\n",
       "  <thead>\n",
       "    <tr style=\"text-align: right;\">\n",
       "      <th></th>\n",
       "      <th>MSSubClass</th>\n",
       "      <th>MSZoning</th>\n",
       "      <th>LotFrontage</th>\n",
       "      <th>LotArea</th>\n",
       "      <th>Street</th>\n",
       "      <th>Alley</th>\n",
       "      <th>LotShape</th>\n",
       "      <th>LandContour</th>\n",
       "      <th>LotConfig</th>\n",
       "      <th>LandSlope</th>\n",
       "      <th>...</th>\n",
       "      <th>ScreenPorch</th>\n",
       "      <th>PoolArea</th>\n",
       "      <th>PoolQC</th>\n",
       "      <th>Fence</th>\n",
       "      <th>MiscFeature</th>\n",
       "      <th>MiscVal</th>\n",
       "      <th>MoSold</th>\n",
       "      <th>YrSold</th>\n",
       "      <th>SaleType</th>\n",
       "      <th>SaleCondition</th>\n",
       "    </tr>\n",
       "  </thead>\n",
       "  <tbody>\n",
       "    <tr>\n",
       "      <th>0</th>\n",
       "      <td>10</td>\n",
       "      <td>RL</td>\n",
       "      <td>65.0</td>\n",
       "      <td>8450</td>\n",
       "      <td>1</td>\n",
       "      <td>1</td>\n",
       "      <td>3</td>\n",
       "      <td>Lvl</td>\n",
       "      <td>Inside</td>\n",
       "      <td>0</td>\n",
       "      <td>...</td>\n",
       "      <td>0</td>\n",
       "      <td>0</td>\n",
       "      <td>3</td>\n",
       "      <td>4</td>\n",
       "      <td>None</td>\n",
       "      <td>0</td>\n",
       "      <td>4</td>\n",
       "      <td>2</td>\n",
       "      <td>WD</td>\n",
       "      <td>Normal</td>\n",
       "    </tr>\n",
       "    <tr>\n",
       "      <th>1</th>\n",
       "      <td>5</td>\n",
       "      <td>RL</td>\n",
       "      <td>80.0</td>\n",
       "      <td>9600</td>\n",
       "      <td>1</td>\n",
       "      <td>1</td>\n",
       "      <td>3</td>\n",
       "      <td>Lvl</td>\n",
       "      <td>FR2</td>\n",
       "      <td>0</td>\n",
       "      <td>...</td>\n",
       "      <td>0</td>\n",
       "      <td>0</td>\n",
       "      <td>3</td>\n",
       "      <td>4</td>\n",
       "      <td>None</td>\n",
       "      <td>0</td>\n",
       "      <td>7</td>\n",
       "      <td>1</td>\n",
       "      <td>WD</td>\n",
       "      <td>Normal</td>\n",
       "    </tr>\n",
       "    <tr>\n",
       "      <th>2</th>\n",
       "      <td>10</td>\n",
       "      <td>RL</td>\n",
       "      <td>68.0</td>\n",
       "      <td>11250</td>\n",
       "      <td>1</td>\n",
       "      <td>1</td>\n",
       "      <td>0</td>\n",
       "      <td>Lvl</td>\n",
       "      <td>Inside</td>\n",
       "      <td>0</td>\n",
       "      <td>...</td>\n",
       "      <td>0</td>\n",
       "      <td>0</td>\n",
       "      <td>3</td>\n",
       "      <td>4</td>\n",
       "      <td>None</td>\n",
       "      <td>0</td>\n",
       "      <td>11</td>\n",
       "      <td>2</td>\n",
       "      <td>WD</td>\n",
       "      <td>Normal</td>\n",
       "    </tr>\n",
       "    <tr>\n",
       "      <th>3</th>\n",
       "      <td>11</td>\n",
       "      <td>RL</td>\n",
       "      <td>60.0</td>\n",
       "      <td>9550</td>\n",
       "      <td>1</td>\n",
       "      <td>1</td>\n",
       "      <td>0</td>\n",
       "      <td>Lvl</td>\n",
       "      <td>Corner</td>\n",
       "      <td>0</td>\n",
       "      <td>...</td>\n",
       "      <td>0</td>\n",
       "      <td>0</td>\n",
       "      <td>3</td>\n",
       "      <td>4</td>\n",
       "      <td>None</td>\n",
       "      <td>0</td>\n",
       "      <td>4</td>\n",
       "      <td>0</td>\n",
       "      <td>WD</td>\n",
       "      <td>Abnorml</td>\n",
       "    </tr>\n",
       "    <tr>\n",
       "      <th>4</th>\n",
       "      <td>10</td>\n",
       "      <td>RL</td>\n",
       "      <td>84.0</td>\n",
       "      <td>14260</td>\n",
       "      <td>1</td>\n",
       "      <td>1</td>\n",
       "      <td>0</td>\n",
       "      <td>Lvl</td>\n",
       "      <td>FR2</td>\n",
       "      <td>0</td>\n",
       "      <td>...</td>\n",
       "      <td>0</td>\n",
       "      <td>0</td>\n",
       "      <td>3</td>\n",
       "      <td>4</td>\n",
       "      <td>None</td>\n",
       "      <td>0</td>\n",
       "      <td>3</td>\n",
       "      <td>2</td>\n",
       "      <td>WD</td>\n",
       "      <td>Normal</td>\n",
       "    </tr>\n",
       "    <tr>\n",
       "      <th>...</th>\n",
       "      <td>...</td>\n",
       "      <td>...</td>\n",
       "      <td>...</td>\n",
       "      <td>...</td>\n",
       "      <td>...</td>\n",
       "      <td>...</td>\n",
       "      <td>...</td>\n",
       "      <td>...</td>\n",
       "      <td>...</td>\n",
       "      <td>...</td>\n",
       "      <td>...</td>\n",
       "      <td>...</td>\n",
       "      <td>...</td>\n",
       "      <td>...</td>\n",
       "      <td>...</td>\n",
       "      <td>...</td>\n",
       "      <td>...</td>\n",
       "      <td>...</td>\n",
       "      <td>...</td>\n",
       "      <td>...</td>\n",
       "      <td>...</td>\n",
       "    </tr>\n",
       "    <tr>\n",
       "      <th>2914</th>\n",
       "      <td>2</td>\n",
       "      <td>RM</td>\n",
       "      <td>21.0</td>\n",
       "      <td>1936</td>\n",
       "      <td>1</td>\n",
       "      <td>1</td>\n",
       "      <td>3</td>\n",
       "      <td>Lvl</td>\n",
       "      <td>Inside</td>\n",
       "      <td>0</td>\n",
       "      <td>...</td>\n",
       "      <td>0</td>\n",
       "      <td>0</td>\n",
       "      <td>3</td>\n",
       "      <td>4</td>\n",
       "      <td>None</td>\n",
       "      <td>0</td>\n",
       "      <td>8</td>\n",
       "      <td>0</td>\n",
       "      <td>WD</td>\n",
       "      <td>Normal</td>\n",
       "    </tr>\n",
       "    <tr>\n",
       "      <th>2915</th>\n",
       "      <td>2</td>\n",
       "      <td>RM</td>\n",
       "      <td>21.0</td>\n",
       "      <td>1894</td>\n",
       "      <td>1</td>\n",
       "      <td>1</td>\n",
       "      <td>3</td>\n",
       "      <td>Lvl</td>\n",
       "      <td>Inside</td>\n",
       "      <td>0</td>\n",
       "      <td>...</td>\n",
       "      <td>0</td>\n",
       "      <td>0</td>\n",
       "      <td>3</td>\n",
       "      <td>4</td>\n",
       "      <td>None</td>\n",
       "      <td>0</td>\n",
       "      <td>6</td>\n",
       "      <td>0</td>\n",
       "      <td>WD</td>\n",
       "      <td>Abnorml</td>\n",
       "    </tr>\n",
       "    <tr>\n",
       "      <th>2916</th>\n",
       "      <td>5</td>\n",
       "      <td>RL</td>\n",
       "      <td>160.0</td>\n",
       "      <td>20000</td>\n",
       "      <td>1</td>\n",
       "      <td>1</td>\n",
       "      <td>3</td>\n",
       "      <td>Lvl</td>\n",
       "      <td>Inside</td>\n",
       "      <td>0</td>\n",
       "      <td>...</td>\n",
       "      <td>0</td>\n",
       "      <td>0</td>\n",
       "      <td>3</td>\n",
       "      <td>4</td>\n",
       "      <td>None</td>\n",
       "      <td>0</td>\n",
       "      <td>11</td>\n",
       "      <td>0</td>\n",
       "      <td>WD</td>\n",
       "      <td>Abnorml</td>\n",
       "    </tr>\n",
       "    <tr>\n",
       "      <th>2917</th>\n",
       "      <td>14</td>\n",
       "      <td>RL</td>\n",
       "      <td>62.0</td>\n",
       "      <td>10441</td>\n",
       "      <td>1</td>\n",
       "      <td>1</td>\n",
       "      <td>3</td>\n",
       "      <td>Lvl</td>\n",
       "      <td>Inside</td>\n",
       "      <td>0</td>\n",
       "      <td>...</td>\n",
       "      <td>0</td>\n",
       "      <td>0</td>\n",
       "      <td>3</td>\n",
       "      <td>2</td>\n",
       "      <td>Shed</td>\n",
       "      <td>700</td>\n",
       "      <td>9</td>\n",
       "      <td>0</td>\n",
       "      <td>WD</td>\n",
       "      <td>Normal</td>\n",
       "    </tr>\n",
       "    <tr>\n",
       "      <th>2918</th>\n",
       "      <td>10</td>\n",
       "      <td>RL</td>\n",
       "      <td>74.0</td>\n",
       "      <td>9627</td>\n",
       "      <td>1</td>\n",
       "      <td>1</td>\n",
       "      <td>3</td>\n",
       "      <td>Lvl</td>\n",
       "      <td>Inside</td>\n",
       "      <td>1</td>\n",
       "      <td>...</td>\n",
       "      <td>0</td>\n",
       "      <td>0</td>\n",
       "      <td>3</td>\n",
       "      <td>4</td>\n",
       "      <td>None</td>\n",
       "      <td>0</td>\n",
       "      <td>2</td>\n",
       "      <td>0</td>\n",
       "      <td>WD</td>\n",
       "      <td>Normal</td>\n",
       "    </tr>\n",
       "  </tbody>\n",
       "</table>\n",
       "<p>2919 rows × 78 columns</p>\n",
       "</div>"
      ],
      "text/plain": [
       "      MSSubClass MSZoning  LotFrontage  LotArea  Street  Alley  LotShape  \\\n",
       "0             10       RL         65.0     8450       1      1         3   \n",
       "1              5       RL         80.0     9600       1      1         3   \n",
       "2             10       RL         68.0    11250       1      1         0   \n",
       "3             11       RL         60.0     9550       1      1         0   \n",
       "4             10       RL         84.0    14260       1      1         0   \n",
       "...          ...      ...          ...      ...     ...    ...       ...   \n",
       "2914           2       RM         21.0     1936       1      1         3   \n",
       "2915           2       RM         21.0     1894       1      1         3   \n",
       "2916           5       RL        160.0    20000       1      1         3   \n",
       "2917          14       RL         62.0    10441       1      1         3   \n",
       "2918          10       RL         74.0     9627       1      1         3   \n",
       "\n",
       "     LandContour LotConfig  LandSlope  ... ScreenPorch PoolArea PoolQC Fence  \\\n",
       "0            Lvl    Inside          0  ...           0        0      3     4   \n",
       "1            Lvl       FR2          0  ...           0        0      3     4   \n",
       "2            Lvl    Inside          0  ...           0        0      3     4   \n",
       "3            Lvl    Corner          0  ...           0        0      3     4   \n",
       "4            Lvl       FR2          0  ...           0        0      3     4   \n",
       "...          ...       ...        ...  ...         ...      ...    ...   ...   \n",
       "2914         Lvl    Inside          0  ...           0        0      3     4   \n",
       "2915         Lvl    Inside          0  ...           0        0      3     4   \n",
       "2916         Lvl    Inside          0  ...           0        0      3     4   \n",
       "2917         Lvl    Inside          0  ...           0        0      3     2   \n",
       "2918         Lvl    Inside          1  ...           0        0      3     4   \n",
       "\n",
       "     MiscFeature  MiscVal  MoSold  YrSold  SaleType SaleCondition  \n",
       "0           None        0       4       2        WD        Normal  \n",
       "1           None        0       7       1        WD        Normal  \n",
       "2           None        0      11       2        WD        Normal  \n",
       "3           None        0       4       0        WD       Abnorml  \n",
       "4           None        0       3       2        WD        Normal  \n",
       "...          ...      ...     ...     ...       ...           ...  \n",
       "2914        None        0       8       0        WD        Normal  \n",
       "2915        None        0       6       0        WD       Abnorml  \n",
       "2916        None        0      11       0        WD       Abnorml  \n",
       "2917        Shed      700       9       0        WD        Normal  \n",
       "2918        None        0       2       0        WD        Normal  \n",
       "\n",
       "[2919 rows x 78 columns]"
      ]
     },
     "execution_count": 73,
     "metadata": {},
     "output_type": "execute_result"
    }
   ],
   "source": [
    "df_train"
   ]
  },
  {
   "cell_type": "code",
   "execution_count": 74,
   "metadata": {
    "execution": {
     "iopub.execute_input": "2021-01-21T15:03:41.518480Z",
     "iopub.status.busy": "2021-01-21T15:03:41.517430Z",
     "iopub.status.idle": "2021-01-21T15:03:41.521572Z",
     "shell.execute_reply": "2021-01-21T15:03:41.522448Z"
    },
    "papermill": {
     "duration": 0.155967,
     "end_time": "2021-01-21T15:03:41.522646",
     "exception": false,
     "start_time": "2021-01-21T15:03:41.366679",
     "status": "completed"
    },
    "tags": []
   },
   "outputs": [
    {
     "name": "stdout",
     "output_type": "stream",
     "text": [
      "Shape all_data: (2919, 78)\n"
     ]
    }
   ],
   "source": [
    "print('Shape all_data: {}'.format(df_train.shape))"
   ]
  },
  {
   "cell_type": "code",
   "execution_count": 75,
   "metadata": {
    "execution": {
     "iopub.execute_input": "2021-01-21T15:03:41.983861Z",
     "iopub.status.busy": "2021-01-21T15:03:41.982662Z",
     "iopub.status.idle": "2021-01-21T15:03:41.989993Z",
     "shell.execute_reply": "2021-01-21T15:03:41.990733Z"
    },
    "papermill": {
     "duration": 0.254463,
     "end_time": "2021-01-21T15:03:41.990902",
     "exception": false,
     "start_time": "2021-01-21T15:03:41.736439",
     "status": "completed"
    },
    "tags": []
   },
   "outputs": [],
   "source": [
    "df_train['TotalSF'] = (df_train['TotalBsmtSF']) + df_train['1stFlrSF'] + df_train['2ndFlrSF']"
   ]
  },
  {
   "cell_type": "code",
   "execution_count": 76,
   "metadata": {
    "execution": {
     "iopub.execute_input": "2021-01-21T15:03:42.425745Z",
     "iopub.status.busy": "2021-01-21T15:03:42.424632Z",
     "iopub.status.idle": "2021-01-21T15:03:42.432172Z",
     "shell.execute_reply": "2021-01-21T15:03:42.432927Z"
    },
    "papermill": {
     "duration": 0.227,
     "end_time": "2021-01-21T15:03:42.433087",
     "exception": false,
     "start_time": "2021-01-21T15:03:42.206087",
     "status": "completed"
    },
    "tags": []
   },
   "outputs": [
    {
     "data": {
      "text/plain": [
       "0       2566.0\n",
       "1       2524.0\n",
       "2       2706.0\n",
       "3       2473.0\n",
       "4       3343.0\n",
       "         ...  \n",
       "2914    1638.0\n",
       "2915    1638.0\n",
       "2916    2448.0\n",
       "2917    1882.0\n",
       "2918    2996.0\n",
       "Name: TotalSF, Length: 2919, dtype: float64"
      ]
     },
     "execution_count": 76,
     "metadata": {},
     "output_type": "execute_result"
    }
   ],
   "source": [
    "df_train['TotalSF']"
   ]
  },
  {
   "cell_type": "code",
   "execution_count": 77,
   "metadata": {
    "execution": {
     "iopub.execute_input": "2021-01-21T15:03:42.873021Z",
     "iopub.status.busy": "2021-01-21T15:03:42.871861Z",
     "iopub.status.idle": "2021-01-21T15:03:42.917926Z",
     "shell.execute_reply": "2021-01-21T15:03:42.917094Z"
    },
    "papermill": {
     "duration": 0.269239,
     "end_time": "2021-01-21T15:03:42.918056",
     "exception": false,
     "start_time": "2021-01-21T15:03:42.648817",
     "status": "completed"
    },
    "tags": []
   },
   "outputs": [
    {
     "data": {
      "text/html": [
       "<div>\n",
       "<style scoped>\n",
       "    .dataframe tbody tr th:only-of-type {\n",
       "        vertical-align: middle;\n",
       "    }\n",
       "\n",
       "    .dataframe tbody tr th {\n",
       "        vertical-align: top;\n",
       "    }\n",
       "\n",
       "    .dataframe thead th {\n",
       "        text-align: right;\n",
       "    }\n",
       "</style>\n",
       "<table border=\"1\" class=\"dataframe\">\n",
       "  <thead>\n",
       "    <tr style=\"text-align: right;\">\n",
       "      <th></th>\n",
       "      <th>MSSubClass</th>\n",
       "      <th>MSZoning</th>\n",
       "      <th>LotFrontage</th>\n",
       "      <th>LotArea</th>\n",
       "      <th>Street</th>\n",
       "      <th>Alley</th>\n",
       "      <th>LotShape</th>\n",
       "      <th>LandContour</th>\n",
       "      <th>LotConfig</th>\n",
       "      <th>LandSlope</th>\n",
       "      <th>...</th>\n",
       "      <th>PoolArea</th>\n",
       "      <th>PoolQC</th>\n",
       "      <th>Fence</th>\n",
       "      <th>MiscFeature</th>\n",
       "      <th>MiscVal</th>\n",
       "      <th>MoSold</th>\n",
       "      <th>YrSold</th>\n",
       "      <th>SaleType</th>\n",
       "      <th>SaleCondition</th>\n",
       "      <th>TotalSF</th>\n",
       "    </tr>\n",
       "  </thead>\n",
       "  <tbody>\n",
       "    <tr>\n",
       "      <th>0</th>\n",
       "      <td>10</td>\n",
       "      <td>RL</td>\n",
       "      <td>65.0</td>\n",
       "      <td>8450</td>\n",
       "      <td>1</td>\n",
       "      <td>1</td>\n",
       "      <td>3</td>\n",
       "      <td>Lvl</td>\n",
       "      <td>Inside</td>\n",
       "      <td>0</td>\n",
       "      <td>...</td>\n",
       "      <td>0</td>\n",
       "      <td>3</td>\n",
       "      <td>4</td>\n",
       "      <td>None</td>\n",
       "      <td>0</td>\n",
       "      <td>4</td>\n",
       "      <td>2</td>\n",
       "      <td>WD</td>\n",
       "      <td>Normal</td>\n",
       "      <td>2566.0</td>\n",
       "    </tr>\n",
       "    <tr>\n",
       "      <th>1</th>\n",
       "      <td>5</td>\n",
       "      <td>RL</td>\n",
       "      <td>80.0</td>\n",
       "      <td>9600</td>\n",
       "      <td>1</td>\n",
       "      <td>1</td>\n",
       "      <td>3</td>\n",
       "      <td>Lvl</td>\n",
       "      <td>FR2</td>\n",
       "      <td>0</td>\n",
       "      <td>...</td>\n",
       "      <td>0</td>\n",
       "      <td>3</td>\n",
       "      <td>4</td>\n",
       "      <td>None</td>\n",
       "      <td>0</td>\n",
       "      <td>7</td>\n",
       "      <td>1</td>\n",
       "      <td>WD</td>\n",
       "      <td>Normal</td>\n",
       "      <td>2524.0</td>\n",
       "    </tr>\n",
       "    <tr>\n",
       "      <th>2</th>\n",
       "      <td>10</td>\n",
       "      <td>RL</td>\n",
       "      <td>68.0</td>\n",
       "      <td>11250</td>\n",
       "      <td>1</td>\n",
       "      <td>1</td>\n",
       "      <td>0</td>\n",
       "      <td>Lvl</td>\n",
       "      <td>Inside</td>\n",
       "      <td>0</td>\n",
       "      <td>...</td>\n",
       "      <td>0</td>\n",
       "      <td>3</td>\n",
       "      <td>4</td>\n",
       "      <td>None</td>\n",
       "      <td>0</td>\n",
       "      <td>11</td>\n",
       "      <td>2</td>\n",
       "      <td>WD</td>\n",
       "      <td>Normal</td>\n",
       "      <td>2706.0</td>\n",
       "    </tr>\n",
       "    <tr>\n",
       "      <th>3</th>\n",
       "      <td>11</td>\n",
       "      <td>RL</td>\n",
       "      <td>60.0</td>\n",
       "      <td>9550</td>\n",
       "      <td>1</td>\n",
       "      <td>1</td>\n",
       "      <td>0</td>\n",
       "      <td>Lvl</td>\n",
       "      <td>Corner</td>\n",
       "      <td>0</td>\n",
       "      <td>...</td>\n",
       "      <td>0</td>\n",
       "      <td>3</td>\n",
       "      <td>4</td>\n",
       "      <td>None</td>\n",
       "      <td>0</td>\n",
       "      <td>4</td>\n",
       "      <td>0</td>\n",
       "      <td>WD</td>\n",
       "      <td>Abnorml</td>\n",
       "      <td>2473.0</td>\n",
       "    </tr>\n",
       "    <tr>\n",
       "      <th>4</th>\n",
       "      <td>10</td>\n",
       "      <td>RL</td>\n",
       "      <td>84.0</td>\n",
       "      <td>14260</td>\n",
       "      <td>1</td>\n",
       "      <td>1</td>\n",
       "      <td>0</td>\n",
       "      <td>Lvl</td>\n",
       "      <td>FR2</td>\n",
       "      <td>0</td>\n",
       "      <td>...</td>\n",
       "      <td>0</td>\n",
       "      <td>3</td>\n",
       "      <td>4</td>\n",
       "      <td>None</td>\n",
       "      <td>0</td>\n",
       "      <td>3</td>\n",
       "      <td>2</td>\n",
       "      <td>WD</td>\n",
       "      <td>Normal</td>\n",
       "      <td>3343.0</td>\n",
       "    </tr>\n",
       "    <tr>\n",
       "      <th>...</th>\n",
       "      <td>...</td>\n",
       "      <td>...</td>\n",
       "      <td>...</td>\n",
       "      <td>...</td>\n",
       "      <td>...</td>\n",
       "      <td>...</td>\n",
       "      <td>...</td>\n",
       "      <td>...</td>\n",
       "      <td>...</td>\n",
       "      <td>...</td>\n",
       "      <td>...</td>\n",
       "      <td>...</td>\n",
       "      <td>...</td>\n",
       "      <td>...</td>\n",
       "      <td>...</td>\n",
       "      <td>...</td>\n",
       "      <td>...</td>\n",
       "      <td>...</td>\n",
       "      <td>...</td>\n",
       "      <td>...</td>\n",
       "      <td>...</td>\n",
       "    </tr>\n",
       "    <tr>\n",
       "      <th>2914</th>\n",
       "      <td>2</td>\n",
       "      <td>RM</td>\n",
       "      <td>21.0</td>\n",
       "      <td>1936</td>\n",
       "      <td>1</td>\n",
       "      <td>1</td>\n",
       "      <td>3</td>\n",
       "      <td>Lvl</td>\n",
       "      <td>Inside</td>\n",
       "      <td>0</td>\n",
       "      <td>...</td>\n",
       "      <td>0</td>\n",
       "      <td>3</td>\n",
       "      <td>4</td>\n",
       "      <td>None</td>\n",
       "      <td>0</td>\n",
       "      <td>8</td>\n",
       "      <td>0</td>\n",
       "      <td>WD</td>\n",
       "      <td>Normal</td>\n",
       "      <td>1638.0</td>\n",
       "    </tr>\n",
       "    <tr>\n",
       "      <th>2915</th>\n",
       "      <td>2</td>\n",
       "      <td>RM</td>\n",
       "      <td>21.0</td>\n",
       "      <td>1894</td>\n",
       "      <td>1</td>\n",
       "      <td>1</td>\n",
       "      <td>3</td>\n",
       "      <td>Lvl</td>\n",
       "      <td>Inside</td>\n",
       "      <td>0</td>\n",
       "      <td>...</td>\n",
       "      <td>0</td>\n",
       "      <td>3</td>\n",
       "      <td>4</td>\n",
       "      <td>None</td>\n",
       "      <td>0</td>\n",
       "      <td>6</td>\n",
       "      <td>0</td>\n",
       "      <td>WD</td>\n",
       "      <td>Abnorml</td>\n",
       "      <td>1638.0</td>\n",
       "    </tr>\n",
       "    <tr>\n",
       "      <th>2916</th>\n",
       "      <td>5</td>\n",
       "      <td>RL</td>\n",
       "      <td>160.0</td>\n",
       "      <td>20000</td>\n",
       "      <td>1</td>\n",
       "      <td>1</td>\n",
       "      <td>3</td>\n",
       "      <td>Lvl</td>\n",
       "      <td>Inside</td>\n",
       "      <td>0</td>\n",
       "      <td>...</td>\n",
       "      <td>0</td>\n",
       "      <td>3</td>\n",
       "      <td>4</td>\n",
       "      <td>None</td>\n",
       "      <td>0</td>\n",
       "      <td>11</td>\n",
       "      <td>0</td>\n",
       "      <td>WD</td>\n",
       "      <td>Abnorml</td>\n",
       "      <td>2448.0</td>\n",
       "    </tr>\n",
       "    <tr>\n",
       "      <th>2917</th>\n",
       "      <td>14</td>\n",
       "      <td>RL</td>\n",
       "      <td>62.0</td>\n",
       "      <td>10441</td>\n",
       "      <td>1</td>\n",
       "      <td>1</td>\n",
       "      <td>3</td>\n",
       "      <td>Lvl</td>\n",
       "      <td>Inside</td>\n",
       "      <td>0</td>\n",
       "      <td>...</td>\n",
       "      <td>0</td>\n",
       "      <td>3</td>\n",
       "      <td>2</td>\n",
       "      <td>Shed</td>\n",
       "      <td>700</td>\n",
       "      <td>9</td>\n",
       "      <td>0</td>\n",
       "      <td>WD</td>\n",
       "      <td>Normal</td>\n",
       "      <td>1882.0</td>\n",
       "    </tr>\n",
       "    <tr>\n",
       "      <th>2918</th>\n",
       "      <td>10</td>\n",
       "      <td>RL</td>\n",
       "      <td>74.0</td>\n",
       "      <td>9627</td>\n",
       "      <td>1</td>\n",
       "      <td>1</td>\n",
       "      <td>3</td>\n",
       "      <td>Lvl</td>\n",
       "      <td>Inside</td>\n",
       "      <td>1</td>\n",
       "      <td>...</td>\n",
       "      <td>0</td>\n",
       "      <td>3</td>\n",
       "      <td>4</td>\n",
       "      <td>None</td>\n",
       "      <td>0</td>\n",
       "      <td>2</td>\n",
       "      <td>0</td>\n",
       "      <td>WD</td>\n",
       "      <td>Normal</td>\n",
       "      <td>2996.0</td>\n",
       "    </tr>\n",
       "  </tbody>\n",
       "</table>\n",
       "<p>2919 rows × 79 columns</p>\n",
       "</div>"
      ],
      "text/plain": [
       "      MSSubClass MSZoning  LotFrontage  LotArea  Street  Alley  LotShape  \\\n",
       "0             10       RL         65.0     8450       1      1         3   \n",
       "1              5       RL         80.0     9600       1      1         3   \n",
       "2             10       RL         68.0    11250       1      1         0   \n",
       "3             11       RL         60.0     9550       1      1         0   \n",
       "4             10       RL         84.0    14260       1      1         0   \n",
       "...          ...      ...          ...      ...     ...    ...       ...   \n",
       "2914           2       RM         21.0     1936       1      1         3   \n",
       "2915           2       RM         21.0     1894       1      1         3   \n",
       "2916           5       RL        160.0    20000       1      1         3   \n",
       "2917          14       RL         62.0    10441       1      1         3   \n",
       "2918          10       RL         74.0     9627       1      1         3   \n",
       "\n",
       "     LandContour LotConfig  LandSlope  ... PoolArea PoolQC Fence MiscFeature  \\\n",
       "0            Lvl    Inside          0  ...        0      3     4        None   \n",
       "1            Lvl       FR2          0  ...        0      3     4        None   \n",
       "2            Lvl    Inside          0  ...        0      3     4        None   \n",
       "3            Lvl    Corner          0  ...        0      3     4        None   \n",
       "4            Lvl       FR2          0  ...        0      3     4        None   \n",
       "...          ...       ...        ...  ...      ...    ...   ...         ...   \n",
       "2914         Lvl    Inside          0  ...        0      3     4        None   \n",
       "2915         Lvl    Inside          0  ...        0      3     4        None   \n",
       "2916         Lvl    Inside          0  ...        0      3     4        None   \n",
       "2917         Lvl    Inside          0  ...        0      3     2        Shed   \n",
       "2918         Lvl    Inside          1  ...        0      3     4        None   \n",
       "\n",
       "     MiscVal  MoSold  YrSold  SaleType  SaleCondition TotalSF  \n",
       "0          0       4       2        WD         Normal  2566.0  \n",
       "1          0       7       1        WD         Normal  2524.0  \n",
       "2          0      11       2        WD         Normal  2706.0  \n",
       "3          0       4       0        WD        Abnorml  2473.0  \n",
       "4          0       3       2        WD         Normal  3343.0  \n",
       "...      ...     ...     ...       ...            ...     ...  \n",
       "2914       0       8       0        WD         Normal  1638.0  \n",
       "2915       0       6       0        WD        Abnorml  1638.0  \n",
       "2916       0      11       0        WD        Abnorml  2448.0  \n",
       "2917     700       9       0        WD         Normal  1882.0  \n",
       "2918       0       2       0        WD         Normal  2996.0  \n",
       "\n",
       "[2919 rows x 79 columns]"
      ]
     },
     "execution_count": 77,
     "metadata": {},
     "output_type": "execute_result"
    }
   ],
   "source": [
    "df_train"
   ]
  },
  {
   "cell_type": "code",
   "execution_count": 78,
   "metadata": {
    "execution": {
     "iopub.execute_input": "2021-01-21T15:03:43.225792Z",
     "iopub.status.busy": "2021-01-21T15:03:43.224838Z",
     "iopub.status.idle": "2021-01-21T15:03:43.269079Z",
     "shell.execute_reply": "2021-01-21T15:03:43.269628Z"
    },
    "papermill": {
     "duration": 0.19717,
     "end_time": "2021-01-21T15:03:43.269762",
     "exception": false,
     "start_time": "2021-01-21T15:03:43.072592",
     "status": "completed"
    },
    "tags": []
   },
   "outputs": [
    {
     "name": "stdout",
     "output_type": "stream",
     "text": [
      "\n",
      "Skew in numerical features: \n",
      "\n"
     ]
    },
    {
     "data": {
      "text/html": [
       "<div>\n",
       "<style scoped>\n",
       "    .dataframe tbody tr th:only-of-type {\n",
       "        vertical-align: middle;\n",
       "    }\n",
       "\n",
       "    .dataframe tbody tr th {\n",
       "        vertical-align: top;\n",
       "    }\n",
       "\n",
       "    .dataframe thead th {\n",
       "        text-align: right;\n",
       "    }\n",
       "</style>\n",
       "<table border=\"1\" class=\"dataframe\">\n",
       "  <thead>\n",
       "    <tr style=\"text-align: right;\">\n",
       "      <th></th>\n",
       "      <th>Skew</th>\n",
       "    </tr>\n",
       "  </thead>\n",
       "  <tbody>\n",
       "    <tr>\n",
       "      <th>MiscVal</th>\n",
       "      <td>21.947195</td>\n",
       "    </tr>\n",
       "    <tr>\n",
       "      <th>PoolArea</th>\n",
       "      <td>16.898328</td>\n",
       "    </tr>\n",
       "    <tr>\n",
       "      <th>LotArea</th>\n",
       "      <td>12.822431</td>\n",
       "    </tr>\n",
       "    <tr>\n",
       "      <th>LowQualFinSF</th>\n",
       "      <td>12.088761</td>\n",
       "    </tr>\n",
       "    <tr>\n",
       "      <th>3SsnPorch</th>\n",
       "      <td>11.376065</td>\n",
       "    </tr>\n",
       "    <tr>\n",
       "      <th>LandSlope</th>\n",
       "      <td>4.975157</td>\n",
       "    </tr>\n",
       "    <tr>\n",
       "      <th>KitchenAbvGr</th>\n",
       "      <td>4.302254</td>\n",
       "    </tr>\n",
       "    <tr>\n",
       "      <th>BsmtFinSF2</th>\n",
       "      <td>4.146143</td>\n",
       "    </tr>\n",
       "    <tr>\n",
       "      <th>EnclosedPorch</th>\n",
       "      <td>4.003891</td>\n",
       "    </tr>\n",
       "    <tr>\n",
       "      <th>ScreenPorch</th>\n",
       "      <td>3.946694</td>\n",
       "    </tr>\n",
       "  </tbody>\n",
       "</table>\n",
       "</div>"
      ],
      "text/plain": [
       "                    Skew\n",
       "MiscVal        21.947195\n",
       "PoolArea       16.898328\n",
       "LotArea        12.822431\n",
       "LowQualFinSF   12.088761\n",
       "3SsnPorch      11.376065\n",
       "LandSlope       4.975157\n",
       "KitchenAbvGr    4.302254\n",
       "BsmtFinSF2      4.146143\n",
       "EnclosedPorch   4.003891\n",
       "ScreenPorch     3.946694"
      ]
     },
     "execution_count": 78,
     "metadata": {},
     "output_type": "execute_result"
    }
   ],
   "source": [
    "\n",
    "from scipy import stats\n",
    "from scipy.stats import norm, skew \n",
    "#Skewed features\n",
    "numeric_feats = df_train.dtypes[df_train.dtypes != \"object\"].index\n",
    "\n",
    "# Check the skew of all numerical features\n",
    "skewed_feats = df_train[numeric_feats].apply(lambda x: skew(x.dropna())).sort_values(ascending=False)\n",
    "print(\"\\nSkew in numerical features: \\n\")\n",
    "skewness = pd.DataFrame({'Skew' :skewed_feats})\n",
    "skewness.head(10)"
   ]
  },
  {
   "cell_type": "code",
   "execution_count": 79,
   "metadata": {
    "execution": {
     "iopub.execute_input": "2021-01-21T15:03:43.568387Z",
     "iopub.status.busy": "2021-01-21T15:03:43.567726Z",
     "iopub.status.idle": "2021-01-21T15:03:43.570457Z",
     "shell.execute_reply": "2021-01-21T15:03:43.571061Z"
    },
    "papermill": {
     "duration": 0.154778,
     "end_time": "2021-01-21T15:03:43.571204",
     "exception": false,
     "start_time": "2021-01-21T15:03:43.416426",
     "status": "completed"
    },
    "tags": []
   },
   "outputs": [
    {
     "data": {
      "text/plain": [
       "Index(['MSSubClass', 'LotFrontage', 'LotArea', 'Street', 'Alley', 'LotShape',\n",
       "       'LandSlope', 'OverallQual', 'OverallCond', 'YearBuilt', 'YearRemodAdd',\n",
       "       'MasVnrArea', 'ExterQual', 'ExterCond', 'BsmtQual', 'BsmtCond',\n",
       "       'BsmtExposure', 'BsmtFinType1', 'BsmtFinSF1', 'BsmtFinType2',\n",
       "       'BsmtFinSF2', 'BsmtUnfSF', 'TotalBsmtSF', 'HeatingQC', 'CentralAir',\n",
       "       '1stFlrSF', '2ndFlrSF', 'LowQualFinSF', 'GrLivArea', 'BsmtFullBath',\n",
       "       'BsmtHalfBath', 'FullBath', 'HalfBath', 'BedroomAbvGr', 'KitchenAbvGr',\n",
       "       'KitchenQual', 'TotRmsAbvGrd', 'Functional', 'Fireplaces',\n",
       "       'FireplaceQu', 'GarageYrBlt', 'GarageFinish', 'GarageCars',\n",
       "       'GarageArea', 'GarageQual', 'GarageCond', 'PavedDrive', 'WoodDeckSF',\n",
       "       'OpenPorchSF', 'EnclosedPorch', '3SsnPorch', 'ScreenPorch', 'PoolArea',\n",
       "       'PoolQC', 'Fence', 'MiscVal', 'MoSold', 'YrSold', 'TotalSF'],\n",
       "      dtype='object')"
      ]
     },
     "execution_count": 79,
     "metadata": {},
     "output_type": "execute_result"
    }
   ],
   "source": [
    "numeric_feats"
   ]
  },
  {
   "cell_type": "code",
   "execution_count": 80,
   "metadata": {
    "execution": {
     "iopub.execute_input": "2021-01-21T15:03:43.870647Z",
     "iopub.status.busy": "2021-01-21T15:03:43.870013Z",
     "iopub.status.idle": "2021-01-21T15:03:43.878832Z",
     "shell.execute_reply": "2021-01-21T15:03:43.878085Z"
    },
    "papermill": {
     "duration": 0.160454,
     "end_time": "2021-01-21T15:03:43.878975",
     "exception": false,
     "start_time": "2021-01-21T15:03:43.718521",
     "status": "completed"
    },
    "tags": []
   },
   "outputs": [
    {
     "name": "stdout",
     "output_type": "stream",
     "text": [
      "1460\n"
     ]
    }
   ],
   "source": [
    "print(ntrain)"
   ]
  },
  {
   "cell_type": "code",
   "execution_count": 81,
   "metadata": {
    "execution": {
     "iopub.execute_input": "2021-01-21T15:03:44.315529Z",
     "iopub.status.busy": "2021-01-21T15:03:44.314658Z",
     "iopub.status.idle": "2021-01-21T15:03:44.353757Z",
     "shell.execute_reply": "2021-01-21T15:03:44.354492Z"
    },
    "papermill": {
     "duration": 0.258213,
     "end_time": "2021-01-21T15:03:44.354655",
     "exception": false,
     "start_time": "2021-01-21T15:03:44.096442",
     "status": "completed"
    },
    "tags": []
   },
   "outputs": [
    {
     "name": "stdout",
     "output_type": "stream",
     "text": [
      "There are 59 skewed numerical features to Box Cox transform\n"
     ]
    }
   ],
   "source": [
    "skewness = skewness[abs(skewness) > 0.75]\n",
    "print(\"There are {} skewed numerical features to Box Cox transform\".format(skewness.shape[0]))\n",
    "\n",
    "from scipy.special import boxcox1p\n",
    "skewed_features = skewness.index\n",
    "lam = 0.15\n",
    "for feat in skewed_features:\n",
    "    #all_data[feat] += 1\n",
    "    df_train[feat] = boxcox1p(df_train[feat], lam)"
   ]
  },
  {
   "cell_type": "code",
   "execution_count": 82,
   "metadata": {
    "execution": {
     "iopub.execute_input": "2021-01-21T15:03:44.800896Z",
     "iopub.status.busy": "2021-01-21T15:03:44.799909Z",
     "iopub.status.idle": "2021-01-21T15:03:44.808617Z",
     "shell.execute_reply": "2021-01-21T15:03:44.807670Z"
    },
    "papermill": {
     "duration": 0.237581,
     "end_time": "2021-01-21T15:03:44.808807",
     "exception": false,
     "start_time": "2021-01-21T15:03:44.571226",
     "status": "completed"
    },
    "tags": []
   },
   "outputs": [
    {
     "data": {
      "text/plain": [
       "(2919, 79)"
      ]
     },
     "execution_count": 82,
     "metadata": {},
     "output_type": "execute_result"
    }
   ],
   "source": [
    "df_train.shape"
   ]
  },
  {
   "cell_type": "code",
   "execution_count": 83,
   "metadata": {
    "execution": {
     "iopub.execute_input": "2021-01-21T15:03:45.110557Z",
     "iopub.status.busy": "2021-01-21T15:03:45.109918Z",
     "iopub.status.idle": "2021-01-21T15:03:45.113302Z",
     "shell.execute_reply": "2021-01-21T15:03:45.113993Z"
    },
    "papermill": {
     "duration": 0.156451,
     "end_time": "2021-01-21T15:03:45.114170",
     "exception": false,
     "start_time": "2021-01-21T15:03:44.957719",
     "status": "completed"
    },
    "tags": []
   },
   "outputs": [],
   "source": [
    "# Getting dummy categorical features\n"
   ]
  },
  {
   "cell_type": "code",
   "execution_count": 84,
   "metadata": {
    "execution": {
     "iopub.execute_input": "2021-01-21T15:03:45.562874Z",
     "iopub.status.busy": "2021-01-21T15:03:45.561983Z",
     "iopub.status.idle": "2021-01-21T15:03:45.596428Z",
     "shell.execute_reply": "2021-01-21T15:03:45.595733Z"
    },
    "papermill": {
     "duration": 0.261985,
     "end_time": "2021-01-21T15:03:45.596559",
     "exception": false,
     "start_time": "2021-01-21T15:03:45.334574",
     "status": "completed"
    },
    "tags": []
   },
   "outputs": [
    {
     "name": "stdout",
     "output_type": "stream",
     "text": [
      "(2919, 221)\n"
     ]
    }
   ],
   "source": [
    "all_data = pd.get_dummies(df_train)\n",
    "print(all_data.shape)"
   ]
  },
  {
   "cell_type": "code",
   "execution_count": 85,
   "metadata": {
    "execution": {
     "iopub.execute_input": "2021-01-21T15:03:46.043421Z",
     "iopub.status.busy": "2021-01-21T15:03:46.042236Z",
     "iopub.status.idle": "2021-01-21T15:03:46.073109Z",
     "shell.execute_reply": "2021-01-21T15:03:46.072266Z"
    },
    "papermill": {
     "duration": 0.254241,
     "end_time": "2021-01-21T15:03:46.073235",
     "exception": false,
     "start_time": "2021-01-21T15:03:45.818994",
     "status": "completed"
    },
    "tags": []
   },
   "outputs": [
    {
     "data": {
      "text/html": [
       "<div>\n",
       "<style scoped>\n",
       "    .dataframe tbody tr th:only-of-type {\n",
       "        vertical-align: middle;\n",
       "    }\n",
       "\n",
       "    .dataframe tbody tr th {\n",
       "        vertical-align: top;\n",
       "    }\n",
       "\n",
       "    .dataframe thead th {\n",
       "        text-align: right;\n",
       "    }\n",
       "</style>\n",
       "<table border=\"1\" class=\"dataframe\">\n",
       "  <thead>\n",
       "    <tr style=\"text-align: right;\">\n",
       "      <th></th>\n",
       "      <th>MSSubClass</th>\n",
       "      <th>LotFrontage</th>\n",
       "      <th>LotArea</th>\n",
       "      <th>Street</th>\n",
       "      <th>Alley</th>\n",
       "      <th>LotShape</th>\n",
       "      <th>LandSlope</th>\n",
       "      <th>OverallQual</th>\n",
       "      <th>OverallCond</th>\n",
       "      <th>YearBuilt</th>\n",
       "      <th>...</th>\n",
       "      <th>SaleType_ConLw</th>\n",
       "      <th>SaleType_New</th>\n",
       "      <th>SaleType_Oth</th>\n",
       "      <th>SaleType_WD</th>\n",
       "      <th>SaleCondition_Abnorml</th>\n",
       "      <th>SaleCondition_AdjLand</th>\n",
       "      <th>SaleCondition_Alloca</th>\n",
       "      <th>SaleCondition_Family</th>\n",
       "      <th>SaleCondition_Normal</th>\n",
       "      <th>SaleCondition_Partial</th>\n",
       "    </tr>\n",
       "  </thead>\n",
       "  <tbody>\n",
       "    <tr>\n",
       "      <th>0</th>\n",
       "      <td>2.885846</td>\n",
       "      <td>5.831328</td>\n",
       "      <td>19.212182</td>\n",
       "      <td>0.730463</td>\n",
       "      <td>0.730463</td>\n",
       "      <td>1.540963</td>\n",
       "      <td>0.000000</td>\n",
       "      <td>2.440268</td>\n",
       "      <td>1.820334</td>\n",
       "      <td>14.187527</td>\n",
       "      <td>...</td>\n",
       "      <td>0</td>\n",
       "      <td>0</td>\n",
       "      <td>0</td>\n",
       "      <td>1</td>\n",
       "      <td>0</td>\n",
       "      <td>0</td>\n",
       "      <td>0</td>\n",
       "      <td>0</td>\n",
       "      <td>1</td>\n",
       "      <td>0</td>\n",
       "    </tr>\n",
       "    <tr>\n",
       "      <th>1</th>\n",
       "      <td>2.055642</td>\n",
       "      <td>6.221214</td>\n",
       "      <td>19.712205</td>\n",
       "      <td>0.730463</td>\n",
       "      <td>0.730463</td>\n",
       "      <td>1.540963</td>\n",
       "      <td>0.000000</td>\n",
       "      <td>2.259674</td>\n",
       "      <td>2.440268</td>\n",
       "      <td>14.145138</td>\n",
       "      <td>...</td>\n",
       "      <td>0</td>\n",
       "      <td>0</td>\n",
       "      <td>0</td>\n",
       "      <td>1</td>\n",
       "      <td>0</td>\n",
       "      <td>0</td>\n",
       "      <td>0</td>\n",
       "      <td>0</td>\n",
       "      <td>1</td>\n",
       "      <td>0</td>\n",
       "    </tr>\n",
       "    <tr>\n",
       "      <th>2</th>\n",
       "      <td>2.885846</td>\n",
       "      <td>5.914940</td>\n",
       "      <td>20.347241</td>\n",
       "      <td>0.730463</td>\n",
       "      <td>0.730463</td>\n",
       "      <td>0.000000</td>\n",
       "      <td>0.000000</td>\n",
       "      <td>2.440268</td>\n",
       "      <td>1.820334</td>\n",
       "      <td>14.184404</td>\n",
       "      <td>...</td>\n",
       "      <td>0</td>\n",
       "      <td>0</td>\n",
       "      <td>0</td>\n",
       "      <td>1</td>\n",
       "      <td>0</td>\n",
       "      <td>0</td>\n",
       "      <td>0</td>\n",
       "      <td>0</td>\n",
       "      <td>1</td>\n",
       "      <td>0</td>\n",
       "    </tr>\n",
       "    <tr>\n",
       "      <th>3</th>\n",
       "      <td>3.011340</td>\n",
       "      <td>5.684507</td>\n",
       "      <td>19.691553</td>\n",
       "      <td>0.730463</td>\n",
       "      <td>0.730463</td>\n",
       "      <td>0.000000</td>\n",
       "      <td>0.000000</td>\n",
       "      <td>2.440268</td>\n",
       "      <td>1.820334</td>\n",
       "      <td>14.047529</td>\n",
       "      <td>...</td>\n",
       "      <td>0</td>\n",
       "      <td>0</td>\n",
       "      <td>0</td>\n",
       "      <td>1</td>\n",
       "      <td>1</td>\n",
       "      <td>0</td>\n",
       "      <td>0</td>\n",
       "      <td>0</td>\n",
       "      <td>0</td>\n",
       "      <td>0</td>\n",
       "    </tr>\n",
       "    <tr>\n",
       "      <th>4</th>\n",
       "      <td>2.885846</td>\n",
       "      <td>6.314735</td>\n",
       "      <td>21.325160</td>\n",
       "      <td>0.730463</td>\n",
       "      <td>0.730463</td>\n",
       "      <td>0.000000</td>\n",
       "      <td>0.000000</td>\n",
       "      <td>2.602594</td>\n",
       "      <td>1.820334</td>\n",
       "      <td>14.182841</td>\n",
       "      <td>...</td>\n",
       "      <td>0</td>\n",
       "      <td>0</td>\n",
       "      <td>0</td>\n",
       "      <td>1</td>\n",
       "      <td>0</td>\n",
       "      <td>0</td>\n",
       "      <td>0</td>\n",
       "      <td>0</td>\n",
       "      <td>1</td>\n",
       "      <td>0</td>\n",
       "    </tr>\n",
       "    <tr>\n",
       "      <th>...</th>\n",
       "      <td>...</td>\n",
       "      <td>...</td>\n",
       "      <td>...</td>\n",
       "      <td>...</td>\n",
       "      <td>...</td>\n",
       "      <td>...</td>\n",
       "      <td>...</td>\n",
       "      <td>...</td>\n",
       "      <td>...</td>\n",
       "      <td>...</td>\n",
       "      <td>...</td>\n",
       "      <td>...</td>\n",
       "      <td>...</td>\n",
       "      <td>...</td>\n",
       "      <td>...</td>\n",
       "      <td>...</td>\n",
       "      <td>...</td>\n",
       "      <td>...</td>\n",
       "      <td>...</td>\n",
       "      <td>...</td>\n",
       "      <td>...</td>\n",
       "    </tr>\n",
       "    <tr>\n",
       "      <th>2914</th>\n",
       "      <td>1.194318</td>\n",
       "      <td>3.932510</td>\n",
       "      <td>14.081426</td>\n",
       "      <td>0.730463</td>\n",
       "      <td>0.730463</td>\n",
       "      <td>1.540963</td>\n",
       "      <td>0.000000</td>\n",
       "      <td>1.820334</td>\n",
       "      <td>2.259674</td>\n",
       "      <td>14.135652</td>\n",
       "      <td>...</td>\n",
       "      <td>0</td>\n",
       "      <td>0</td>\n",
       "      <td>0</td>\n",
       "      <td>1</td>\n",
       "      <td>0</td>\n",
       "      <td>0</td>\n",
       "      <td>0</td>\n",
       "      <td>0</td>\n",
       "      <td>1</td>\n",
       "      <td>0</td>\n",
       "    </tr>\n",
       "    <tr>\n",
       "      <th>2915</th>\n",
       "      <td>1.194318</td>\n",
       "      <td>3.932510</td>\n",
       "      <td>14.013314</td>\n",
       "      <td>0.730463</td>\n",
       "      <td>0.730463</td>\n",
       "      <td>1.540963</td>\n",
       "      <td>0.000000</td>\n",
       "      <td>1.820334</td>\n",
       "      <td>1.820334</td>\n",
       "      <td>14.135652</td>\n",
       "      <td>...</td>\n",
       "      <td>0</td>\n",
       "      <td>0</td>\n",
       "      <td>0</td>\n",
       "      <td>1</td>\n",
       "      <td>1</td>\n",
       "      <td>0</td>\n",
       "      <td>0</td>\n",
       "      <td>0</td>\n",
       "      <td>0</td>\n",
       "      <td>0</td>\n",
       "    </tr>\n",
       "    <tr>\n",
       "      <th>2916</th>\n",
       "      <td>2.055642</td>\n",
       "      <td>7.620056</td>\n",
       "      <td>22.782058</td>\n",
       "      <td>0.730463</td>\n",
       "      <td>0.730463</td>\n",
       "      <td>1.540963</td>\n",
       "      <td>0.000000</td>\n",
       "      <td>2.055642</td>\n",
       "      <td>2.259674</td>\n",
       "      <td>14.119786</td>\n",
       "      <td>...</td>\n",
       "      <td>0</td>\n",
       "      <td>0</td>\n",
       "      <td>0</td>\n",
       "      <td>1</td>\n",
       "      <td>1</td>\n",
       "      <td>0</td>\n",
       "      <td>0</td>\n",
       "      <td>0</td>\n",
       "      <td>0</td>\n",
       "      <td>0</td>\n",
       "    </tr>\n",
       "    <tr>\n",
       "      <th>2917</th>\n",
       "      <td>3.340760</td>\n",
       "      <td>5.744420</td>\n",
       "      <td>20.046557</td>\n",
       "      <td>0.730463</td>\n",
       "      <td>0.730463</td>\n",
       "      <td>1.540963</td>\n",
       "      <td>0.000000</td>\n",
       "      <td>2.055642</td>\n",
       "      <td>1.820334</td>\n",
       "      <td>14.170316</td>\n",
       "      <td>...</td>\n",
       "      <td>0</td>\n",
       "      <td>0</td>\n",
       "      <td>0</td>\n",
       "      <td>1</td>\n",
       "      <td>0</td>\n",
       "      <td>0</td>\n",
       "      <td>0</td>\n",
       "      <td>0</td>\n",
       "      <td>1</td>\n",
       "      <td>0</td>\n",
       "    </tr>\n",
       "    <tr>\n",
       "      <th>2918</th>\n",
       "      <td>2.885846</td>\n",
       "      <td>6.073289</td>\n",
       "      <td>19.723319</td>\n",
       "      <td>0.730463</td>\n",
       "      <td>0.730463</td>\n",
       "      <td>1.540963</td>\n",
       "      <td>0.730463</td>\n",
       "      <td>2.440268</td>\n",
       "      <td>1.820334</td>\n",
       "      <td>14.171884</td>\n",
       "      <td>...</td>\n",
       "      <td>0</td>\n",
       "      <td>0</td>\n",
       "      <td>0</td>\n",
       "      <td>1</td>\n",
       "      <td>0</td>\n",
       "      <td>0</td>\n",
       "      <td>0</td>\n",
       "      <td>0</td>\n",
       "      <td>1</td>\n",
       "      <td>0</td>\n",
       "    </tr>\n",
       "  </tbody>\n",
       "</table>\n",
       "<p>2919 rows × 221 columns</p>\n",
       "</div>"
      ],
      "text/plain": [
       "      MSSubClass  LotFrontage    LotArea    Street     Alley  LotShape  \\\n",
       "0       2.885846     5.831328  19.212182  0.730463  0.730463  1.540963   \n",
       "1       2.055642     6.221214  19.712205  0.730463  0.730463  1.540963   \n",
       "2       2.885846     5.914940  20.347241  0.730463  0.730463  0.000000   \n",
       "3       3.011340     5.684507  19.691553  0.730463  0.730463  0.000000   \n",
       "4       2.885846     6.314735  21.325160  0.730463  0.730463  0.000000   \n",
       "...          ...          ...        ...       ...       ...       ...   \n",
       "2914    1.194318     3.932510  14.081426  0.730463  0.730463  1.540963   \n",
       "2915    1.194318     3.932510  14.013314  0.730463  0.730463  1.540963   \n",
       "2916    2.055642     7.620056  22.782058  0.730463  0.730463  1.540963   \n",
       "2917    3.340760     5.744420  20.046557  0.730463  0.730463  1.540963   \n",
       "2918    2.885846     6.073289  19.723319  0.730463  0.730463  1.540963   \n",
       "\n",
       "      LandSlope  OverallQual  OverallCond  YearBuilt  ...  SaleType_ConLw  \\\n",
       "0      0.000000     2.440268     1.820334  14.187527  ...               0   \n",
       "1      0.000000     2.259674     2.440268  14.145138  ...               0   \n",
       "2      0.000000     2.440268     1.820334  14.184404  ...               0   \n",
       "3      0.000000     2.440268     1.820334  14.047529  ...               0   \n",
       "4      0.000000     2.602594     1.820334  14.182841  ...               0   \n",
       "...         ...          ...          ...        ...  ...             ...   \n",
       "2914   0.000000     1.820334     2.259674  14.135652  ...               0   \n",
       "2915   0.000000     1.820334     1.820334  14.135652  ...               0   \n",
       "2916   0.000000     2.055642     2.259674  14.119786  ...               0   \n",
       "2917   0.000000     2.055642     1.820334  14.170316  ...               0   \n",
       "2918   0.730463     2.440268     1.820334  14.171884  ...               0   \n",
       "\n",
       "      SaleType_New  SaleType_Oth  SaleType_WD  SaleCondition_Abnorml  \\\n",
       "0                0             0            1                      0   \n",
       "1                0             0            1                      0   \n",
       "2                0             0            1                      0   \n",
       "3                0             0            1                      1   \n",
       "4                0             0            1                      0   \n",
       "...            ...           ...          ...                    ...   \n",
       "2914             0             0            1                      0   \n",
       "2915             0             0            1                      1   \n",
       "2916             0             0            1                      1   \n",
       "2917             0             0            1                      0   \n",
       "2918             0             0            1                      0   \n",
       "\n",
       "      SaleCondition_AdjLand  SaleCondition_Alloca  SaleCondition_Family  \\\n",
       "0                         0                     0                     0   \n",
       "1                         0                     0                     0   \n",
       "2                         0                     0                     0   \n",
       "3                         0                     0                     0   \n",
       "4                         0                     0                     0   \n",
       "...                     ...                   ...                   ...   \n",
       "2914                      0                     0                     0   \n",
       "2915                      0                     0                     0   \n",
       "2916                      0                     0                     0   \n",
       "2917                      0                     0                     0   \n",
       "2918                      0                     0                     0   \n",
       "\n",
       "      SaleCondition_Normal  SaleCondition_Partial  \n",
       "0                        1                      0  \n",
       "1                        1                      0  \n",
       "2                        1                      0  \n",
       "3                        0                      0  \n",
       "4                        1                      0  \n",
       "...                    ...                    ...  \n",
       "2914                     1                      0  \n",
       "2915                     0                      0  \n",
       "2916                     0                      0  \n",
       "2917                     1                      0  \n",
       "2918                     1                      0  \n",
       "\n",
       "[2919 rows x 221 columns]"
      ]
     },
     "execution_count": 85,
     "metadata": {},
     "output_type": "execute_result"
    }
   ],
   "source": [
    "all_data"
   ]
  },
  {
   "cell_type": "code",
   "execution_count": 86,
   "metadata": {
    "execution": {
     "iopub.execute_input": "2021-01-21T15:03:46.524810Z",
     "iopub.status.busy": "2021-01-21T15:03:46.523791Z",
     "iopub.status.idle": "2021-01-21T15:03:46.838931Z",
     "shell.execute_reply": "2021-01-21T15:03:46.838202Z"
    },
    "papermill": {
     "duration": 0.542777,
     "end_time": "2021-01-21T15:03:46.839043",
     "exception": false,
     "start_time": "2021-01-21T15:03:46.296266",
     "status": "completed"
    },
    "tags": []
   },
   "outputs": [],
   "source": [
    "from sklearn.linear_model import ElasticNet, Lasso,  BayesianRidge, LassoLarsIC\n",
    "from sklearn.ensemble import RandomForestRegressor,  GradientBoostingRegressor\n",
    "from sklearn.kernel_ridge import KernelRidge"
   ]
  },
  {
   "cell_type": "code",
   "execution_count": 87,
   "metadata": {
    "execution": {
     "iopub.execute_input": "2021-01-21T15:03:47.147298Z",
     "iopub.status.busy": "2021-01-21T15:03:47.146554Z",
     "iopub.status.idle": "2021-01-21T15:03:47.151489Z",
     "shell.execute_reply": "2021-01-21T15:03:47.152050Z"
    },
    "papermill": {
     "duration": 0.161657,
     "end_time": "2021-01-21T15:03:47.152203",
     "exception": false,
     "start_time": "2021-01-21T15:03:46.990546",
     "status": "completed"
    },
    "tags": []
   },
   "outputs": [
    {
     "data": {
      "text/plain": [
       "\"  LASSO Regression :\\n\\nThis model may be very sensitive to outliers. So we need to made it more robust on them. For that we use the sklearn's Robustscaler() method on pipeline\\n\""
      ]
     },
     "execution_count": 87,
     "metadata": {},
     "output_type": "execute_result"
    }
   ],
   "source": [
    "\"\"\"  LASSO Regression :\n",
    "\n",
    "This model may be very sensitive to outliers. So we need to made it more robust on them. For that we use the sklearn's Robustscaler() method on pipeline\n",
    "\"\"\""
   ]
  },
  {
   "cell_type": "code",
   "execution_count": 88,
   "metadata": {
    "execution": {
     "iopub.execute_input": "2021-01-21T15:03:47.465901Z",
     "iopub.status.busy": "2021-01-21T15:03:47.465017Z",
     "iopub.status.idle": "2021-01-21T15:03:47.471924Z",
     "shell.execute_reply": "2021-01-21T15:03:47.471143Z"
    },
    "papermill": {
     "duration": 0.166276,
     "end_time": "2021-01-21T15:03:47.472061",
     "exception": false,
     "start_time": "2021-01-21T15:03:47.305785",
     "status": "completed"
    },
    "tags": []
   },
   "outputs": [],
   "source": [
    "from sklearn.pipeline import make_pipeline"
   ]
  },
  {
   "cell_type": "code",
   "execution_count": 89,
   "metadata": {
    "execution": {
     "iopub.execute_input": "2021-01-21T15:03:47.918640Z",
     "iopub.status.busy": "2021-01-21T15:03:47.917975Z",
     "iopub.status.idle": "2021-01-21T15:03:47.922697Z",
     "shell.execute_reply": "2021-01-21T15:03:47.922129Z"
    },
    "papermill": {
     "duration": 0.230098,
     "end_time": "2021-01-21T15:03:47.922815",
     "exception": false,
     "start_time": "2021-01-21T15:03:47.692717",
     "status": "completed"
    },
    "tags": []
   },
   "outputs": [],
   "source": [
    "from sklearn.preprocessing import RobustScaler"
   ]
  },
  {
   "cell_type": "code",
   "execution_count": 90,
   "metadata": {
    "execution": {
     "iopub.execute_input": "2021-01-21T15:03:48.228104Z",
     "iopub.status.busy": "2021-01-21T15:03:48.227513Z",
     "iopub.status.idle": "2021-01-21T15:03:48.232980Z",
     "shell.execute_reply": "2021-01-21T15:03:48.232122Z"
    },
    "papermill": {
     "duration": 0.160848,
     "end_time": "2021-01-21T15:03:48.233108",
     "exception": false,
     "start_time": "2021-01-21T15:03:48.072260",
     "status": "completed"
    },
    "tags": []
   },
   "outputs": [],
   "source": [
    "lasso = make_pipeline(RobustScaler(), Lasso(alpha =0.0005, random_state=1))"
   ]
  },
  {
   "cell_type": "code",
   "execution_count": 91,
   "metadata": {
    "execution": {
     "iopub.execute_input": "2021-01-21T15:03:48.719919Z",
     "iopub.status.busy": "2021-01-21T15:03:48.718802Z",
     "iopub.status.idle": "2021-01-21T15:03:48.730701Z",
     "shell.execute_reply": "2021-01-21T15:03:48.730078Z"
    },
    "papermill": {
     "duration": 0.269256,
     "end_time": "2021-01-21T15:03:48.730816",
     "exception": false,
     "start_time": "2021-01-21T15:03:48.461560",
     "status": "completed"
    },
    "tags": []
   },
   "outputs": [
    {
     "data": {
      "text/plain": [
       "Pipeline(steps=[('robustscaler', RobustScaler()),\n",
       "                ('lasso', Lasso(alpha=0.0005, random_state=1))])"
      ]
     },
     "execution_count": 91,
     "metadata": {},
     "output_type": "execute_result"
    }
   ],
   "source": [
    "lasso"
   ]
  },
  {
   "cell_type": "code",
   "execution_count": 92,
   "metadata": {
    "execution": {
     "iopub.execute_input": "2021-01-21T15:03:49.056880Z",
     "iopub.status.busy": "2021-01-21T15:03:49.055834Z",
     "iopub.status.idle": "2021-01-21T15:03:49.059512Z",
     "shell.execute_reply": "2021-01-21T15:03:49.058738Z"
    },
    "papermill": {
     "duration": 0.16515,
     "end_time": "2021-01-21T15:03:49.059649",
     "exception": false,
     "start_time": "2021-01-21T15:03:48.894499",
     "status": "completed"
    },
    "tags": []
   },
   "outputs": [],
   "source": [
    "\n",
    "\"\"\" Elastic Net Regression :\n",
    "again made robust to outliers\"\"\"\n",
    "ENet = make_pipeline(RobustScaler(), ElasticNet(alpha=0.0005, l1_ratio=.9, random_state=3))\n",
    "\n"
   ]
  },
  {
   "cell_type": "code",
   "execution_count": 93,
   "metadata": {
    "execution": {
     "iopub.execute_input": "2021-01-21T15:03:49.517695Z",
     "iopub.status.busy": "2021-01-21T15:03:49.516802Z",
     "iopub.status.idle": "2021-01-21T15:03:49.521015Z",
     "shell.execute_reply": "2021-01-21T15:03:49.520455Z"
    },
    "papermill": {
     "duration": 0.233841,
     "end_time": "2021-01-21T15:03:49.521132",
     "exception": false,
     "start_time": "2021-01-21T15:03:49.287291",
     "status": "completed"
    },
    "tags": []
   },
   "outputs": [],
   "source": [
    "\"\"\"Kernel Ridge Regression :\"\"\" \n",
    "\n",
    "KRR = KernelRidge(alpha=0.6, kernel='polynomial', degree=2, coef0=2.5)\n",
    "\n"
   ]
  },
  {
   "cell_type": "code",
   "execution_count": 94,
   "metadata": {
    "execution": {
     "iopub.execute_input": "2021-01-21T15:03:49.829602Z",
     "iopub.status.busy": "2021-01-21T15:03:49.828683Z",
     "iopub.status.idle": "2021-01-21T15:03:49.835036Z",
     "shell.execute_reply": "2021-01-21T15:03:49.834449Z"
    },
    "papermill": {
     "duration": 0.164025,
     "end_time": "2021-01-21T15:03:49.835255",
     "exception": false,
     "start_time": "2021-01-21T15:03:49.671230",
     "status": "completed"
    },
    "tags": []
   },
   "outputs": [
    {
     "data": {
      "text/plain": [
       "' Gradient Boosting Regression :\\nWith huber loss that makes it robust to outliers\\n'"
      ]
     },
     "execution_count": 94,
     "metadata": {},
     "output_type": "execute_result"
    }
   ],
   "source": [
    "\"\"\" Gradient Boosting Regression :\n",
    "With huber loss that makes it robust to outliers\n",
    "\"\"\""
   ]
  },
  {
   "cell_type": "code",
   "execution_count": 95,
   "metadata": {
    "execution": {
     "iopub.execute_input": "2021-01-21T15:03:50.144907Z",
     "iopub.status.busy": "2021-01-21T15:03:50.144055Z",
     "iopub.status.idle": "2021-01-21T15:03:50.148558Z",
     "shell.execute_reply": "2021-01-21T15:03:50.147949Z"
    },
    "papermill": {
     "duration": 0.16261,
     "end_time": "2021-01-21T15:03:50.148672",
     "exception": false,
     "start_time": "2021-01-21T15:03:49.986062",
     "status": "completed"
    },
    "tags": []
   },
   "outputs": [],
   "source": [
    "GBoost = GradientBoostingRegressor(n_estimators=3000, learning_rate=0.05,\n",
    "                                   max_depth=4, max_features='sqrt',\n",
    "                                   min_samples_leaf=15, min_samples_split=10, \n",
    "                                   loss='huber', random_state =5)"
   ]
  },
  {
   "cell_type": "code",
   "execution_count": 96,
   "metadata": {
    "execution": {
     "iopub.execute_input": "2021-01-21T15:03:50.458318Z",
     "iopub.status.busy": "2021-01-21T15:03:50.457690Z",
     "iopub.status.idle": "2021-01-21T15:03:51.317422Z",
     "shell.execute_reply": "2021-01-21T15:03:51.316699Z"
    },
    "papermill": {
     "duration": 1.017112,
     "end_time": "2021-01-21T15:03:51.317540",
     "exception": false,
     "start_time": "2021-01-21T15:03:50.300428",
     "status": "completed"
    },
    "tags": []
   },
   "outputs": [],
   "source": [
    "#XGBoost \n",
    "import xgboost as xgb\n",
    "import lightgbm as lgb\n",
    "model_xgb = xgb.XGBRegressor(colsample_bytree=0.4603, gamma=0.0468, \n",
    "                             learning_rate=0.05, max_depth=3, \n",
    "                             min_child_weight=1.7817, n_estimators=2200,\n",
    "                             reg_alpha=0.4640, reg_lambda=0.8571,\n",
    "                             subsample=0.5213, silent=1,\n",
    "                             random_state =7, nthread = -1)"
   ]
  },
  {
   "cell_type": "code",
   "execution_count": 97,
   "metadata": {
    "execution": {
     "iopub.execute_input": "2021-01-21T15:03:51.635087Z",
     "iopub.status.busy": "2021-01-21T15:03:51.634173Z",
     "iopub.status.idle": "2021-01-21T15:03:51.640283Z",
     "shell.execute_reply": "2021-01-21T15:03:51.639662Z"
    },
    "papermill": {
     "duration": 0.16753,
     "end_time": "2021-01-21T15:03:51.640426",
     "exception": false,
     "start_time": "2021-01-21T15:03:51.472896",
     "status": "completed"
    },
    "tags": []
   },
   "outputs": [
    {
     "data": {
      "text/plain": [
       "XGBRegressor(base_score=None, booster=None, colsample_bylevel=None,\n",
       "             colsample_bynode=None, colsample_bytree=0.4603, gamma=0.0468,\n",
       "             gpu_id=None, importance_type='gain', interaction_constraints=None,\n",
       "             learning_rate=0.05, max_delta_step=None, max_depth=3,\n",
       "             min_child_weight=1.7817, missing=nan, monotone_constraints=None,\n",
       "             n_estimators=2200, n_jobs=None, nthread=-1, num_parallel_tree=None,\n",
       "             random_state=7, reg_alpha=0.464, reg_lambda=0.8571,\n",
       "             scale_pos_weight=None, silent=1, subsample=0.5213,\n",
       "             tree_method=None, validate_parameters=None, verbosity=None)"
      ]
     },
     "execution_count": 97,
     "metadata": {},
     "output_type": "execute_result"
    }
   ],
   "source": [
    "model_xgb\n"
   ]
  },
  {
   "cell_type": "code",
   "execution_count": 98,
   "metadata": {
    "execution": {
     "iopub.execute_input": "2021-01-21T15:03:51.962945Z",
     "iopub.status.busy": "2021-01-21T15:03:51.962098Z",
     "iopub.status.idle": "2021-01-21T15:03:51.965200Z",
     "shell.execute_reply": "2021-01-21T15:03:51.964661Z"
    },
    "papermill": {
     "duration": 0.16386,
     "end_time": "2021-01-21T15:03:51.965312",
     "exception": false,
     "start_time": "2021-01-21T15:03:51.801452",
     "status": "completed"
    },
    "tags": []
   },
   "outputs": [],
   "source": [
    "model_lgb = lgb.LGBMRegressor(objective='regression',num_leaves=5,\n",
    "                              learning_rate=0.05, n_estimators=720,\n",
    "                              max_bin = 55, bagging_fraction = 0.8,\n",
    "                              bagging_freq = 5, feature_fraction = 0.2319,\n",
    "                              feature_fraction_seed=9, bagging_seed=9,\n",
    "                              min_data_in_leaf =6, min_sum_hessian_in_leaf = 11)"
   ]
  },
  {
   "cell_type": "code",
   "execution_count": 99,
   "metadata": {
    "execution": {
     "iopub.execute_input": "2021-01-21T15:03:52.303026Z",
     "iopub.status.busy": "2021-01-21T15:03:52.302049Z",
     "iopub.status.idle": "2021-01-21T15:03:52.304388Z",
     "shell.execute_reply": "2021-01-21T15:03:52.305201Z"
    },
    "papermill": {
     "duration": 0.185469,
     "end_time": "2021-01-21T15:03:52.305473",
     "exception": false,
     "start_time": "2021-01-21T15:03:52.120004",
     "status": "completed"
    },
    "tags": []
   },
   "outputs": [],
   "source": [
    "from sklearn.model_selection import KFold, cross_val_score, train_test_split"
   ]
  },
  {
   "cell_type": "code",
   "execution_count": 100,
   "metadata": {
    "execution": {
     "iopub.execute_input": "2021-01-21T15:03:52.632233Z",
     "iopub.status.busy": "2021-01-21T15:03:52.630367Z",
     "iopub.status.idle": "2021-01-21T15:03:52.639472Z",
     "shell.execute_reply": "2021-01-21T15:03:52.638705Z"
    },
    "papermill": {
     "duration": 0.165576,
     "end_time": "2021-01-21T15:03:52.639636",
     "exception": false,
     "start_time": "2021-01-21T15:03:52.474060",
     "status": "completed"
    },
    "tags": []
   },
   "outputs": [
    {
     "data": {
      "text/plain": [
       "'\\n use the cross_val_score function of Sklearn. However this function has not a shuffle attribut, we add then one line of code, in order to shuffle the dataset prior to cross-validation\\n'"
      ]
     },
     "execution_count": 100,
     "metadata": {},
     "output_type": "execute_result"
    }
   ],
   "source": [
    "\"\"\"\n",
    " use the cross_val_score function of Sklearn. However this function has not a shuffle attribut, we add then one line of code, in order to shuffle the dataset prior to cross-validation\n",
    "\"\"\""
   ]
  },
  {
   "cell_type": "code",
   "execution_count": 101,
   "metadata": {
    "execution": {
     "iopub.execute_input": "2021-01-21T15:03:53.097319Z",
     "iopub.status.busy": "2021-01-21T15:03:53.096524Z",
     "iopub.status.idle": "2021-01-21T15:03:53.102626Z",
     "shell.execute_reply": "2021-01-21T15:03:53.103262Z"
    },
    "papermill": {
     "duration": 0.23471,
     "end_time": "2021-01-21T15:03:53.103453",
     "exception": false,
     "start_time": "2021-01-21T15:03:52.868743",
     "status": "completed"
    },
    "tags": []
   },
   "outputs": [],
   "source": [
    "train = all_data[:ntrain]\n",
    "test = all_data[ntrain:]"
   ]
  },
  {
   "cell_type": "code",
   "execution_count": 102,
   "metadata": {
    "execution": {
     "iopub.execute_input": "2021-01-21T15:03:53.564295Z",
     "iopub.status.busy": "2021-01-21T15:03:53.563501Z",
     "iopub.status.idle": "2021-01-21T15:03:53.571012Z",
     "shell.execute_reply": "2021-01-21T15:03:53.570440Z"
    },
    "papermill": {
     "duration": 0.239547,
     "end_time": "2021-01-21T15:03:53.571126",
     "exception": false,
     "start_time": "2021-01-21T15:03:53.331579",
     "status": "completed"
    },
    "tags": []
   },
   "outputs": [],
   "source": [
    "n_folds = 5\n",
    "\n",
    "def rmsle_cv(model):\n",
    "    kf = KFold(n_folds, shuffle=True, random_state=42).get_n_splits(train.values)\n",
    "    rmse= np.sqrt(-cross_val_score(model, train.values, y_train, scoring=\"neg_mean_squared_error\", cv = kf))\n",
    "    return(rmse)"
   ]
  },
  {
   "cell_type": "code",
   "execution_count": null,
   "metadata": {
    "papermill": {
     "duration": 0.152837,
     "end_time": "2021-01-21T15:03:53.877074",
     "exception": false,
     "start_time": "2021-01-21T15:03:53.724237",
     "status": "completed"
    },
    "tags": []
   },
   "outputs": [],
   "source": []
  },
  {
   "cell_type": "code",
   "execution_count": 103,
   "metadata": {
    "execution": {
     "iopub.execute_input": "2021-01-21T15:03:54.185523Z",
     "iopub.status.busy": "2021-01-21T15:03:54.184824Z",
     "iopub.status.idle": "2021-01-21T15:03:55.831896Z",
     "shell.execute_reply": "2021-01-21T15:03:55.832947Z"
    },
    "papermill": {
     "duration": 1.804384,
     "end_time": "2021-01-21T15:03:55.833160",
     "exception": false,
     "start_time": "2021-01-21T15:03:54.028776",
     "status": "completed"
    },
    "tags": []
   },
   "outputs": [
    {
     "name": "stderr",
     "output_type": "stream",
     "text": [
      "/opt/conda/lib/python3.7/site-packages/sklearn/linear_model/_coordinate_descent.py:531: ConvergenceWarning: Objective did not converge. You might want to increase the number of iterations. Duality gap: 344364368978.73114, tolerance: 759214014.2531198\n",
      "  positive)\n",
      "/opt/conda/lib/python3.7/site-packages/sklearn/linear_model/_coordinate_descent.py:531: ConvergenceWarning: Objective did not converge. You might want to increase the number of iterations. Duality gap: 314115901175.0898, tolerance: 728773513.025937\n",
      "  positive)\n",
      "/opt/conda/lib/python3.7/site-packages/sklearn/linear_model/_coordinate_descent.py:531: ConvergenceWarning: Objective did not converge. You might want to increase the number of iterations. Duality gap: 289139362814.1956, tolerance: 699031751.5199751\n",
      "  positive)\n",
      "/opt/conda/lib/python3.7/site-packages/sklearn/linear_model/_coordinate_descent.py:531: ConvergenceWarning: Objective did not converge. You might want to increase the number of iterations. Duality gap: 334270992492.0578, tolerance: 770619031.1834061\n",
      "  positive)\n"
     ]
    },
    {
     "name": "stdout",
     "output_type": "stream",
     "text": [
      "\n",
      "Lasso score: 33653.0968 (5159.2740)\n",
      "\n"
     ]
    },
    {
     "name": "stderr",
     "output_type": "stream",
     "text": [
      "/opt/conda/lib/python3.7/site-packages/sklearn/linear_model/_coordinate_descent.py:531: ConvergenceWarning: Objective did not converge. You might want to increase the number of iterations. Duality gap: 312059454271.8011, tolerance: 724930391.3116124\n",
      "  positive)\n"
     ]
    }
   ],
   "source": [
    "#Base models scores¶\n",
    "score = rmsle_cv(lasso)\n",
    "print(\"\\nLasso score: {:.4f} ({:.4f})\\n\".format(score.mean(), score.std()))"
   ]
  },
  {
   "cell_type": "code",
   "execution_count": 104,
   "metadata": {
    "execution": {
     "iopub.execute_input": "2021-01-21T15:03:56.303887Z",
     "iopub.status.busy": "2021-01-21T15:03:56.302902Z",
     "iopub.status.idle": "2021-01-21T15:03:57.908955Z",
     "shell.execute_reply": "2021-01-21T15:03:57.909554Z"
    },
    "papermill": {
     "duration": 1.846423,
     "end_time": "2021-01-21T15:03:57.909689",
     "exception": false,
     "start_time": "2021-01-21T15:03:56.063266",
     "status": "completed"
    },
    "tags": []
   },
   "outputs": [
    {
     "name": "stderr",
     "output_type": "stream",
     "text": [
      "/opt/conda/lib/python3.7/site-packages/sklearn/linear_model/_coordinate_descent.py:531: ConvergenceWarning: Objective did not converge. You might want to increase the number of iterations. Duality gap: 351505224487.71655, tolerance: 759214014.2531198\n",
      "  positive)\n",
      "/opt/conda/lib/python3.7/site-packages/sklearn/linear_model/_coordinate_descent.py:531: ConvergenceWarning: Objective did not converge. You might want to increase the number of iterations. Duality gap: 320355716936.1738, tolerance: 728773513.025937\n",
      "  positive)\n",
      "/opt/conda/lib/python3.7/site-packages/sklearn/linear_model/_coordinate_descent.py:531: ConvergenceWarning: Objective did not converge. You might want to increase the number of iterations. Duality gap: 296700403867.6588, tolerance: 699031751.5199751\n",
      "  positive)\n",
      "/opt/conda/lib/python3.7/site-packages/sklearn/linear_model/_coordinate_descent.py:531: ConvergenceWarning: Objective did not converge. You might want to increase the number of iterations. Duality gap: 340354667577.4817, tolerance: 770619031.1834061\n",
      "  positive)\n"
     ]
    },
    {
     "name": "stdout",
     "output_type": "stream",
     "text": [
      "ElasticNet score: 33497.1390 (4920.9113)\n",
      "\n"
     ]
    },
    {
     "name": "stderr",
     "output_type": "stream",
     "text": [
      "/opt/conda/lib/python3.7/site-packages/sklearn/linear_model/_coordinate_descent.py:531: ConvergenceWarning: Objective did not converge. You might want to increase the number of iterations. Duality gap: 313922625032.0766, tolerance: 724930391.3116124\n",
      "  positive)\n"
     ]
    }
   ],
   "source": [
    "score = rmsle_cv(ENet)\n",
    "print(\"ElasticNet score: {:.4f} ({:.4f})\\n\".format(score.mean(), score.std()))"
   ]
  },
  {
   "cell_type": "code",
   "execution_count": 105,
   "metadata": {
    "execution": {
     "iopub.execute_input": "2021-01-21T15:03:58.229140Z",
     "iopub.status.busy": "2021-01-21T15:03:58.228539Z",
     "iopub.status.idle": "2021-01-21T15:03:58.536637Z",
     "shell.execute_reply": "2021-01-21T15:03:58.535725Z"
    },
    "papermill": {
     "duration": 0.469272,
     "end_time": "2021-01-21T15:03:58.536824",
     "exception": false,
     "start_time": "2021-01-21T15:03:58.067552",
     "status": "completed"
    },
    "tags": []
   },
   "outputs": [
    {
     "name": "stdout",
     "output_type": "stream",
     "text": [
      "Kernel Ridge score: 30924.2003 (6322.3783)\n",
      "\n"
     ]
    }
   ],
   "source": [
    "score = rmsle_cv(KRR)\n",
    "print(\"Kernel Ridge score: {:.4f} ({:.4f})\\n\".format(score.mean(), score.std()))"
   ]
  },
  {
   "cell_type": "code",
   "execution_count": 106,
   "metadata": {
    "execution": {
     "iopub.execute_input": "2021-01-21T15:03:59.015461Z",
     "iopub.status.busy": "2021-01-21T15:03:59.014222Z",
     "iopub.status.idle": "2021-01-21T15:04:51.690137Z",
     "shell.execute_reply": "2021-01-21T15:04:51.690945Z"
    },
    "papermill": {
     "duration": 52.918291,
     "end_time": "2021-01-21T15:04:51.691148",
     "exception": false,
     "start_time": "2021-01-21T15:03:58.772857",
     "status": "completed"
    },
    "tags": []
   },
   "outputs": [
    {
     "name": "stdout",
     "output_type": "stream",
     "text": [
      "Gradient Boosting score: 27243.8070 (5576.2974)\n",
      "\n"
     ]
    }
   ],
   "source": [
    "\n",
    "\n",
    "score = rmsle_cv(GBoost)\n",
    "print(\"Gradient Boosting score: {:.4f} ({:.4f})\\n\".format(score.mean(), score.std()))\n",
    "\n"
   ]
  },
  {
   "cell_type": "code",
   "execution_count": 107,
   "metadata": {
    "execution": {
     "iopub.execute_input": "2021-01-21T15:04:52.032654Z",
     "iopub.status.busy": "2021-01-21T15:04:52.031932Z",
     "iopub.status.idle": "2021-01-21T15:05:58.433220Z",
     "shell.execute_reply": "2021-01-21T15:05:58.432503Z"
    },
    "papermill": {
     "duration": 66.57321,
     "end_time": "2021-01-21T15:05:58.433374",
     "exception": false,
     "start_time": "2021-01-21T15:04:51.860164",
     "status": "completed"
    },
    "tags": []
   },
   "outputs": [
    {
     "name": "stdout",
     "output_type": "stream",
     "text": [
      "[15:04:52] WARNING: ../src/learner.cc:516: \n",
      "Parameters: { silent } might not be used.\n",
      "\n",
      "  This may not be accurate due to some parameters are only used in language bindings but\n",
      "  passed down to XGBoost core.  Or some parameters are not used but slip through this\n",
      "  verification. Please open an issue if you find above cases.\n",
      "\n",
      "\n",
      "[15:05:05] WARNING: ../src/learner.cc:516: \n",
      "Parameters: { silent } might not be used.\n",
      "\n",
      "  This may not be accurate due to some parameters are only used in language bindings but\n",
      "  passed down to XGBoost core.  Or some parameters are not used but slip through this\n",
      "  verification. Please open an issue if you find above cases.\n",
      "\n",
      "\n",
      "[15:05:18] WARNING: ../src/learner.cc:516: \n",
      "Parameters: { silent } might not be used.\n",
      "\n",
      "  This may not be accurate due to some parameters are only used in language bindings but\n",
      "  passed down to XGBoost core.  Or some parameters are not used but slip through this\n",
      "  verification. Please open an issue if you find above cases.\n",
      "\n",
      "\n",
      "[15:05:31] WARNING: ../src/learner.cc:516: \n",
      "Parameters: { silent } might not be used.\n",
      "\n",
      "  This may not be accurate due to some parameters are only used in language bindings but\n",
      "  passed down to XGBoost core.  Or some parameters are not used but slip through this\n",
      "  verification. Please open an issue if you find above cases.\n",
      "\n",
      "\n",
      "[15:05:44] WARNING: ../src/learner.cc:516: \n",
      "Parameters: { silent } might not be used.\n",
      "\n",
      "  This may not be accurate due to some parameters are only used in language bindings but\n",
      "  passed down to XGBoost core.  Or some parameters are not used but slip through this\n",
      "  verification. Please open an issue if you find above cases.\n",
      "\n",
      "\n",
      "Xgboost score: 25795.9156 (2971.5444)\n",
      "\n"
     ]
    }
   ],
   "source": [
    "score = rmsle_cv(model_xgb)\n",
    "print(\"Xgboost score: {:.4f} ({:.4f})\\n\".format(score.mean(), score.std()))"
   ]
  },
  {
   "cell_type": "code",
   "execution_count": 108,
   "metadata": {
    "execution": {
     "iopub.execute_input": "2021-01-21T15:05:58.764084Z",
     "iopub.status.busy": "2021-01-21T15:05:58.763222Z",
     "iopub.status.idle": "2021-01-21T15:06:00.291265Z",
     "shell.execute_reply": "2021-01-21T15:06:00.290391Z"
    },
    "papermill": {
     "duration": 1.695489,
     "end_time": "2021-01-21T15:06:00.291424",
     "exception": false,
     "start_time": "2021-01-21T15:05:58.595935",
     "status": "completed"
    },
    "tags": []
   },
   "outputs": [
    {
     "name": "stdout",
     "output_type": "stream",
     "text": [
      "LGBM score: 26791.8693 (4353.0222)\n",
      "\n"
     ]
    }
   ],
   "source": [
    "score = rmsle_cv(model_lgb)\n",
    "print(\"LGBM score: {:.4f} ({:.4f})\\n\" .format(score.mean(), score.std()))"
   ]
  },
  {
   "cell_type": "code",
   "execution_count": 109,
   "metadata": {
    "execution": {
     "iopub.execute_input": "2021-01-21T15:06:00.777782Z",
     "iopub.status.busy": "2021-01-21T15:06:00.777079Z",
     "iopub.status.idle": "2021-01-21T15:06:00.781010Z",
     "shell.execute_reply": "2021-01-21T15:06:00.780363Z"
    },
    "papermill": {
     "duration": 0.250489,
     "end_time": "2021-01-21T15:06:00.781120",
     "exception": false,
     "start_time": "2021-01-21T15:06:00.530631",
     "status": "completed"
    },
    "tags": []
   },
   "outputs": [],
   "source": [
    "#Stacking models\n"
   ]
  },
  {
   "cell_type": "code",
   "execution_count": 110,
   "metadata": {
    "execution": {
     "iopub.execute_input": "2021-01-21T15:06:01.108948Z",
     "iopub.status.busy": "2021-01-21T15:06:01.108283Z",
     "iopub.status.idle": "2021-01-21T15:06:01.113361Z",
     "shell.execute_reply": "2021-01-21T15:06:01.112746Z"
    },
    "papermill": {
     "duration": 0.169359,
     "end_time": "2021-01-21T15:06:01.113480",
     "exception": false,
     "start_time": "2021-01-21T15:06:00.944121",
     "status": "completed"
    },
    "tags": []
   },
   "outputs": [],
   "source": [
    "# Averaged base models class\n"
   ]
  },
  {
   "cell_type": "code",
   "execution_count": 111,
   "metadata": {
    "execution": {
     "iopub.execute_input": "2021-01-21T15:06:01.449563Z",
     "iopub.status.busy": "2021-01-21T15:06:01.448568Z",
     "iopub.status.idle": "2021-01-21T15:06:01.452961Z",
     "shell.execute_reply": "2021-01-21T15:06:01.452449Z"
    },
    "papermill": {
     "duration": 0.175072,
     "end_time": "2021-01-21T15:06:01.453082",
     "exception": false,
     "start_time": "2021-01-21T15:06:01.278010",
     "status": "completed"
    },
    "tags": []
   },
   "outputs": [],
   "source": [
    "from sklearn.base import BaseEstimator, TransformerMixin, RegressorMixin, clone"
   ]
  },
  {
   "cell_type": "code",
   "execution_count": 112,
   "metadata": {
    "execution": {
     "iopub.execute_input": "2021-01-21T15:06:01.788226Z",
     "iopub.status.busy": "2021-01-21T15:06:01.787563Z",
     "iopub.status.idle": "2021-01-21T15:06:01.790977Z",
     "shell.execute_reply": "2021-01-21T15:06:01.791476Z"
    },
    "papermill": {
     "duration": 0.174813,
     "end_time": "2021-01-21T15:06:01.791631",
     "exception": false,
     "start_time": "2021-01-21T15:06:01.616818",
     "status": "completed"
    },
    "tags": []
   },
   "outputs": [],
   "source": [
    "class AveragingModels(BaseEstimator, RegressorMixin, TransformerMixin):\n",
    "    def __init__(self, models):\n",
    "        self.models = models\n",
    "    def fit(self, X, y):\n",
    "        self.models_ = [clone(x) for x in self.models]\n",
    "        for model in self.models_:\n",
    "            model.fit(X, y)\n",
    "        return self\n",
    "    def predict(self, X):\n",
    "        predictions = np.column_stack([\n",
    "            model.predict(X) for model in self.models_])\n",
    "        return np.mean(predictions, axis=1)"
   ]
  },
  {
   "cell_type": "code",
   "execution_count": 113,
   "metadata": {
    "execution": {
     "iopub.execute_input": "2021-01-21T15:06:02.121061Z",
     "iopub.status.busy": "2021-01-21T15:06:02.120440Z",
     "iopub.status.idle": "2021-01-21T15:06:57.623471Z",
     "shell.execute_reply": "2021-01-21T15:06:57.624394Z"
    },
    "papermill": {
     "duration": 55.669418,
     "end_time": "2021-01-21T15:06:57.624581",
     "exception": false,
     "start_time": "2021-01-21T15:06:01.955163",
     "status": "completed"
    },
    "tags": []
   },
   "outputs": [
    {
     "name": "stderr",
     "output_type": "stream",
     "text": [
      "/opt/conda/lib/python3.7/site-packages/sklearn/linear_model/_coordinate_descent.py:531: ConvergenceWarning: Objective did not converge. You might want to increase the number of iterations. Duality gap: 351505224487.71655, tolerance: 759214014.2531198\n",
      "  positive)\n",
      "/opt/conda/lib/python3.7/site-packages/sklearn/linear_model/_coordinate_descent.py:531: ConvergenceWarning: Objective did not converge. You might want to increase the number of iterations. Duality gap: 344364368978.73114, tolerance: 759214014.2531198\n",
      "  positive)\n",
      "/opt/conda/lib/python3.7/site-packages/sklearn/linear_model/_coordinate_descent.py:531: ConvergenceWarning: Objective did not converge. You might want to increase the number of iterations. Duality gap: 320355716936.1738, tolerance: 728773513.025937\n",
      "  positive)\n",
      "/opt/conda/lib/python3.7/site-packages/sklearn/linear_model/_coordinate_descent.py:531: ConvergenceWarning: Objective did not converge. You might want to increase the number of iterations. Duality gap: 314115901175.0898, tolerance: 728773513.025937\n",
      "  positive)\n",
      "/opt/conda/lib/python3.7/site-packages/sklearn/linear_model/_coordinate_descent.py:531: ConvergenceWarning: Objective did not converge. You might want to increase the number of iterations. Duality gap: 296700403867.6588, tolerance: 699031751.5199751\n",
      "  positive)\n",
      "/opt/conda/lib/python3.7/site-packages/sklearn/linear_model/_coordinate_descent.py:531: ConvergenceWarning: Objective did not converge. You might want to increase the number of iterations. Duality gap: 289139362814.1956, tolerance: 699031751.5199751\n",
      "  positive)\n",
      "/opt/conda/lib/python3.7/site-packages/sklearn/linear_model/_coordinate_descent.py:531: ConvergenceWarning: Objective did not converge. You might want to increase the number of iterations. Duality gap: 340354667577.4817, tolerance: 770619031.1834061\n",
      "  positive)\n",
      "/opt/conda/lib/python3.7/site-packages/sklearn/linear_model/_coordinate_descent.py:531: ConvergenceWarning: Objective did not converge. You might want to increase the number of iterations. Duality gap: 334270992492.0578, tolerance: 770619031.1834061\n",
      "  positive)\n",
      "/opt/conda/lib/python3.7/site-packages/sklearn/linear_model/_coordinate_descent.py:531: ConvergenceWarning: Objective did not converge. You might want to increase the number of iterations. Duality gap: 313922625032.0766, tolerance: 724930391.3116124\n",
      "  positive)\n"
     ]
    },
    {
     "name": "stdout",
     "output_type": "stream",
     "text": [
      " Averaged base models score: 29515.5318 (5658.6357)\n",
      "\n"
     ]
    },
    {
     "name": "stderr",
     "output_type": "stream",
     "text": [
      "/opt/conda/lib/python3.7/site-packages/sklearn/linear_model/_coordinate_descent.py:531: ConvergenceWarning: Objective did not converge. You might want to increase the number of iterations. Duality gap: 312059454271.8011, tolerance: 724930391.3116124\n",
      "  positive)\n"
     ]
    }
   ],
   "source": [
    "averaged_models = AveragingModels(models = (ENet, GBoost, KRR, lasso))\n",
    "\n",
    "score = rmsle_cv(averaged_models)\n",
    "print(\" Averaged base models score: {:.4f} ({:.4f})\\n\".format(score.mean(), score.std()))"
   ]
  },
  {
   "cell_type": "code",
   "execution_count": 114,
   "metadata": {
    "execution": {
     "iopub.execute_input": "2021-01-21T15:06:58.119065Z",
     "iopub.status.busy": "2021-01-21T15:06:58.118414Z",
     "iopub.status.idle": "2021-01-21T15:06:58.122458Z",
     "shell.execute_reply": "2021-01-21T15:06:58.121821Z"
    },
    "papermill": {
     "duration": 0.253357,
     "end_time": "2021-01-21T15:06:58.122571",
     "exception": false,
     "start_time": "2021-01-21T15:06:57.869214",
     "status": "completed"
    },
    "tags": []
   },
   "outputs": [],
   "source": [
    "# Less simple Stacking : Adding a Meta-model"
   ]
  },
  {
   "cell_type": "code",
   "execution_count": 115,
   "metadata": {
    "execution": {
     "iopub.execute_input": "2021-01-21T15:06:58.466665Z",
     "iopub.status.busy": "2021-01-21T15:06:58.465605Z",
     "iopub.status.idle": "2021-01-21T15:06:58.470001Z",
     "shell.execute_reply": "2021-01-21T15:06:58.470898Z"
    },
    "papermill": {
     "duration": 0.181967,
     "end_time": "2021-01-21T15:06:58.471053",
     "exception": false,
     "start_time": "2021-01-21T15:06:58.289086",
     "status": "completed"
    },
    "tags": []
   },
   "outputs": [],
   "source": [
    "# In this approach, we add a meta-model on averaged base models and use the out-of-folds predictions of these base models to train our meta-model.\n"
   ]
  },
  {
   "cell_type": "code",
   "execution_count": 116,
   "metadata": {
    "execution": {
     "iopub.execute_input": "2021-01-21T15:06:58.835778Z",
     "iopub.status.busy": "2021-01-21T15:06:58.834793Z",
     "iopub.status.idle": "2021-01-21T15:06:58.848140Z",
     "shell.execute_reply": "2021-01-21T15:06:58.848698Z"
    },
    "papermill": {
     "duration": 0.198865,
     "end_time": "2021-01-21T15:06:58.848834",
     "exception": false,
     "start_time": "2021-01-21T15:06:58.649969",
     "status": "completed"
    },
    "tags": []
   },
   "outputs": [],
   "source": [
    "class StackingAveragedModels(BaseEstimator, RegressorMixin, TransformerMixin):\n",
    "    def __init__(self, base_models, meta_model, n_folds=5):\n",
    "        self.base_models = base_models\n",
    "        self.meta_model = meta_model\n",
    "        self.n_folds = n_folds\n",
    "   \n",
    "    # We again fit the data on clones of the original models\n",
    "    def fit(self, X, y):\n",
    "        self.base_models_ = [list() for x in self.base_models]\n",
    "        self.meta_model_ = clone(self.meta_model)\n",
    "        kfold = KFold(n_splits=self.n_folds, shuffle=True, random_state=156)\n",
    "        \n",
    "        # Train cloned base models then create out-of-fold predictions\n",
    "        # that are needed to train the cloned meta-model\n",
    "        out_of_fold_predictions = np.zeros((X.shape[0], len(self.base_models)))\n",
    "        for i, model in enumerate(self.base_models):\n",
    "            for train_index, holdout_index in kfold.split(X, y):\n",
    "                instance = clone(model)\n",
    "                self.base_models_[i].append(instance)\n",
    "                instance.fit(X[train_index], y[train_index])\n",
    "                y_pred = instance.predict(X[holdout_index])\n",
    "                out_of_fold_predictions[holdout_index, i] = y_pred\n",
    "                \n",
    "        # Now train the cloned  meta-model using the out-of-fold predictions as new feature\n",
    "        self.meta_model_.fit(out_of_fold_predictions, y)\n",
    "        return self\n",
    "   \n",
    "    #Do the predictions of all base models on the test data and use the averaged predictions as \n",
    "    #meta-features for the final prediction which is done by the meta-model\n",
    "    def predict(self, X):\n",
    "        meta_features = np.column_stack([\n",
    "            np.column_stack([model.predict(X) for model in base_models]).mean(axis=1)\n",
    "            for base_models in self.base_models_ ])\n",
    "        return self.meta_model_.predict(meta_features)"
   ]
  },
  {
   "cell_type": "code",
   "execution_count": 117,
   "metadata": {
    "execution": {
     "iopub.execute_input": "2021-01-21T15:06:59.191515Z",
     "iopub.status.busy": "2021-01-21T15:06:59.190403Z",
     "iopub.status.idle": "2021-01-21T15:11:05.839098Z",
     "shell.execute_reply": "2021-01-21T15:11:05.839857Z"
    },
    "papermill": {
     "duration": 246.823253,
     "end_time": "2021-01-21T15:11:05.840047",
     "exception": false,
     "start_time": "2021-01-21T15:06:59.016794",
     "status": "completed"
    },
    "tags": []
   },
   "outputs": [
    {
     "name": "stderr",
     "output_type": "stream",
     "text": [
      "/opt/conda/lib/python3.7/site-packages/sklearn/linear_model/_coordinate_descent.py:531: ConvergenceWarning: Objective did not converge. You might want to increase the number of iterations. Duality gap: 284294454805.23596, tolerance: 628852322.1855334\n",
      "  positive)\n",
      "/opt/conda/lib/python3.7/site-packages/sklearn/linear_model/_coordinate_descent.py:531: ConvergenceWarning: Objective did not converge. You might want to increase the number of iterations. Duality gap: 269484758757.4435, tolerance: 592930673.2297534\n",
      "  positive)\n",
      "/opt/conda/lib/python3.7/site-packages/sklearn/linear_model/_coordinate_descent.py:531: ConvergenceWarning: Objective did not converge. You might want to increase the number of iterations. Duality gap: 269729644583.3315, tolerance: 622318955.9288151\n",
      "  positive)\n",
      "/opt/conda/lib/python3.7/site-packages/sklearn/linear_model/_coordinate_descent.py:531: ConvergenceWarning: Objective did not converge. You might want to increase the number of iterations. Duality gap: 221431461159.86374, tolerance: 582829095.2341373\n",
      "  positive)\n",
      "/opt/conda/lib/python3.7/site-packages/sklearn/linear_model/_coordinate_descent.py:531: ConvergenceWarning: Objective did not converge. You might want to increase the number of iterations. Duality gap: 248839683749.01996, tolerance: 609219265.7050477\n",
      "  positive)\n",
      "/opt/conda/lib/python3.7/site-packages/sklearn/linear_model/_coordinate_descent.py:531: ConvergenceWarning: Objective did not converge. You might want to increase the number of iterations. Duality gap: 251622196351.29434, tolerance: 600459412.5179697\n",
      "  positive)\n",
      "/opt/conda/lib/python3.7/site-packages/sklearn/linear_model/_coordinate_descent.py:531: ConvergenceWarning: Objective did not converge. You might want to increase the number of iterations. Duality gap: 236051381892.02664, tolerance: 571285355.0982476\n",
      "  positive)\n",
      "/opt/conda/lib/python3.7/site-packages/sklearn/linear_model/_coordinate_descent.py:531: ConvergenceWarning: Objective did not converge. You might want to increase the number of iterations. Duality gap: 253004986187.61118, tolerance: 602830732.5526459\n",
      "  positive)\n",
      "/opt/conda/lib/python3.7/site-packages/sklearn/linear_model/_coordinate_descent.py:531: ConvergenceWarning: Objective did not converge. You might want to increase the number of iterations. Duality gap: 211667760891.60135, tolerance: 547565166.000129\n",
      "  positive)\n",
      "/opt/conda/lib/python3.7/site-packages/sklearn/linear_model/_coordinate_descent.py:531: ConvergenceWarning: Objective did not converge. You might want to increase the number of iterations. Duality gap: 230113424624.34717, tolerance: 592919454.422122\n",
      "  positive)\n",
      "/opt/conda/lib/python3.7/site-packages/sklearn/linear_model/_coordinate_descent.py:531: ConvergenceWarning: Objective did not converge. You might want to increase the number of iterations. Duality gap: 235892830040.87598, tolerance: 567050352.2977726\n",
      "  positive)\n",
      "/opt/conda/lib/python3.7/site-packages/sklearn/linear_model/_coordinate_descent.py:531: ConvergenceWarning: Objective did not converge. You might want to increase the number of iterations. Duality gap: 222130993069.1917, tolerance: 563009045.8353832\n",
      "  positive)\n",
      "/opt/conda/lib/python3.7/site-packages/sklearn/linear_model/_coordinate_descent.py:531: ConvergenceWarning: Objective did not converge. You might want to increase the number of iterations. Duality gap: 231009042515.54462, tolerance: 573677007.9109085\n",
      "  positive)\n",
      "/opt/conda/lib/python3.7/site-packages/sklearn/linear_model/_coordinate_descent.py:531: ConvergenceWarning: Objective did not converge. You might want to increase the number of iterations. Duality gap: 209221774086.9426, tolerance: 546286349.9654809\n",
      "  positive)\n",
      "/opt/conda/lib/python3.7/site-packages/sklearn/linear_model/_coordinate_descent.py:531: ConvergenceWarning: Objective did not converge. You might want to increase the number of iterations. Duality gap: 205851855977.01065, tolerance: 546072646.2943751\n",
      "  positive)\n",
      "/opt/conda/lib/python3.7/site-packages/sklearn/linear_model/_coordinate_descent.py:531: ConvergenceWarning: Objective did not converge. You might want to increase the number of iterations. Duality gap: 279854107947.91016, tolerance: 635194586.9594857\n",
      "  positive)\n",
      "/opt/conda/lib/python3.7/site-packages/sklearn/linear_model/_coordinate_descent.py:531: ConvergenceWarning: Objective did not converge. You might want to increase the number of iterations. Duality gap: 262168385869.3722, tolerance: 643302598.3821088\n",
      "  positive)\n",
      "/opt/conda/lib/python3.7/site-packages/sklearn/linear_model/_coordinate_descent.py:531: ConvergenceWarning: Objective did not converge. You might want to increase the number of iterations. Duality gap: 247123888171.93292, tolerance: 633352145.374791\n",
      "  positive)\n",
      "/opt/conda/lib/python3.7/site-packages/sklearn/linear_model/_coordinate_descent.py:531: ConvergenceWarning: Objective did not converge. You might want to increase the number of iterations. Duality gap: 226902655013.62067, tolerance: 581937964.36482\n",
      "  positive)\n",
      "/opt/conda/lib/python3.7/site-packages/sklearn/linear_model/_coordinate_descent.py:531: ConvergenceWarning: Objective did not converge. You might want to increase the number of iterations. Duality gap: 221286560761.03317, tolerance: 588637378.8661608\n",
      "  positive)\n",
      "/opt/conda/lib/python3.7/site-packages/sklearn/linear_model/_coordinate_descent.py:531: ConvergenceWarning: Objective did not converge. You might want to increase the number of iterations. Duality gap: 256741191610.08264, tolerance: 579047195.2746998\n",
      "  positive)\n",
      "/opt/conda/lib/python3.7/site-packages/sklearn/linear_model/_coordinate_descent.py:531: ConvergenceWarning: Objective did not converge. You might want to increase the number of iterations. Duality gap: 261648681251.9178, tolerance: 623154649.1773999\n",
      "  positive)\n",
      "/opt/conda/lib/python3.7/site-packages/sklearn/linear_model/_coordinate_descent.py:531: ConvergenceWarning: Objective did not converge. You might want to increase the number of iterations. Duality gap: 206556300759.18512, tolerance: 577079899.5442821\n",
      "  positive)\n",
      "/opt/conda/lib/python3.7/site-packages/sklearn/linear_model/_coordinate_descent.py:531: ConvergenceWarning: Objective did not converge. You might want to increase the number of iterations. Duality gap: 206473689452.93134, tolerance: 543875880.698036\n",
      "  positive)\n",
      "/opt/conda/lib/python3.7/site-packages/sklearn/linear_model/_coordinate_descent.py:531: ConvergenceWarning: Objective did not converge. You might want to increase the number of iterations. Duality gap: 230189792039.35626, tolerance: 576109556.9927726\n",
      "  positive)\n"
     ]
    },
    {
     "name": "stdout",
     "output_type": "stream",
     "text": [
      "Stacking Averaged models score: 27005.9502 (5837.4944)\n"
     ]
    }
   ],
   "source": [
    "stacked_averaged_models = StackingAveragedModels(base_models = (ENet, GBoost, KRR),\n",
    "                                                 meta_model = lasso)\n",
    "\n",
    "score = rmsle_cv(stacked_averaged_models)\n",
    "print(\"Stacking Averaged models score: {:.4f} ({:.4f})\".format(score.mean(), score.std()))"
   ]
  },
  {
   "cell_type": "code",
   "execution_count": 118,
   "metadata": {
    "execution": {
     "iopub.execute_input": "2021-01-21T15:11:06.199671Z",
     "iopub.status.busy": "2021-01-21T15:11:06.198967Z",
     "iopub.status.idle": "2021-01-21T15:11:06.202161Z",
     "shell.execute_reply": "2021-01-21T15:11:06.202730Z"
    },
    "papermill": {
     "duration": 0.185288,
     "end_time": "2021-01-21T15:11:06.202872",
     "exception": false,
     "start_time": "2021-01-21T15:11:06.017584",
     "status": "completed"
    },
    "tags": []
   },
   "outputs": [],
   "source": [
    "def rmsle(y, y_pred):\n",
    "    return np.sqrt(mean_squared_error(y, y_pred))"
   ]
  },
  {
   "cell_type": "code",
   "execution_count": 119,
   "metadata": {
    "execution": {
     "iopub.execute_input": "2021-01-21T15:11:06.598830Z",
     "iopub.status.busy": "2021-01-21T15:11:06.598153Z",
     "iopub.status.idle": "2021-01-21T15:11:06.602756Z",
     "shell.execute_reply": "2021-01-21T15:11:06.602019Z"
    },
    "papermill": {
     "duration": 0.220724,
     "end_time": "2021-01-21T15:11:06.602889",
     "exception": false,
     "start_time": "2021-01-21T15:11:06.382165",
     "status": "completed"
    },
    "tags": []
   },
   "outputs": [],
   "source": [
    "from sklearn.metrics import mean_squared_error"
   ]
  },
  {
   "cell_type": "code",
   "execution_count": 120,
   "metadata": {
    "execution": {
     "iopub.execute_input": "2021-01-21T15:11:07.135445Z",
     "iopub.status.busy": "2021-01-21T15:11:07.134750Z",
     "iopub.status.idle": "2021-01-21T15:12:06.138002Z",
     "shell.execute_reply": "2021-01-21T15:12:06.137451Z"
    },
    "papermill": {
     "duration": 59.272073,
     "end_time": "2021-01-21T15:12:06.138106",
     "exception": false,
     "start_time": "2021-01-21T15:11:06.866033",
     "status": "completed"
    },
    "tags": []
   },
   "outputs": [
    {
     "name": "stderr",
     "output_type": "stream",
     "text": [
      "/opt/conda/lib/python3.7/site-packages/sklearn/linear_model/_coordinate_descent.py:531: ConvergenceWarning: Objective did not converge. You might want to increase the number of iterations. Duality gap: 313773555570.0094, tolerance: 724013764.6007947\n",
      "  positive)\n",
      "/opt/conda/lib/python3.7/site-packages/sklearn/linear_model/_coordinate_descent.py:531: ConvergenceWarning: Objective did not converge. You might want to increase the number of iterations. Duality gap: 338046604526.81793, tolerance: 740459574.5039067\n",
      "  positive)\n",
      "/opt/conda/lib/python3.7/site-packages/sklearn/linear_model/_coordinate_descent.py:531: ConvergenceWarning: Objective did not converge. You might want to increase the number of iterations. Duality gap: 373166029668.7822, tolerance: 786224914.7680945\n",
      "  positive)\n",
      "/opt/conda/lib/python3.7/site-packages/sklearn/linear_model/_coordinate_descent.py:531: ConvergenceWarning: Objective did not converge. You might want to increase the number of iterations. Duality gap: 308333122230.366, tolerance: 744312281.4444711\n",
      "  positive)\n",
      "/opt/conda/lib/python3.7/site-packages/sklearn/linear_model/_coordinate_descent.py:531: ConvergenceWarning: Objective did not converge. You might want to increase the number of iterations. Duality gap: 286704771597.5557, tolerance: 687442364.0742595\n",
      "  positive)\n"
     ]
    },
    {
     "name": "stdout",
     "output_type": "stream",
     "text": [
      "15002.719293544433\n"
     ]
    },
    {
     "name": "stderr",
     "output_type": "stream",
     "text": [
      "/opt/conda/lib/python3.7/site-packages/ipykernel_launcher.py:4: RuntimeWarning: overflow encountered in expm1\n",
      "  after removing the cwd from sys.path.\n"
     ]
    }
   ],
   "source": [
    "# StackedRegressor\n",
    "stacked_averaged_models.fit(train.values, y_train)\n",
    "stacked_train_pred = stacked_averaged_models.predict(train.values)\n",
    "stacked_pred = np.expm1(stacked_averaged_models.predict(test.values))\n",
    "print(rmsle(y_train, stacked_train_pred))"
   ]
  },
  {
   "cell_type": "code",
   "execution_count": 121,
   "metadata": {
    "execution": {
     "iopub.execute_input": "2021-01-21T15:12:06.520245Z",
     "iopub.status.busy": "2021-01-21T15:12:06.519645Z",
     "iopub.status.idle": "2021-01-21T15:12:23.286668Z",
     "shell.execute_reply": "2021-01-21T15:12:23.285961Z"
    },
    "papermill": {
     "duration": 16.962088,
     "end_time": "2021-01-21T15:12:23.286779",
     "exception": false,
     "start_time": "2021-01-21T15:12:06.324691",
     "status": "completed"
    },
    "tags": []
   },
   "outputs": [
    {
     "name": "stdout",
     "output_type": "stream",
     "text": [
      "[15:12:06] WARNING: ../src/learner.cc:516: \n",
      "Parameters: { silent } might not be used.\n",
      "\n",
      "  This may not be accurate due to some parameters are only used in language bindings but\n",
      "  passed down to XGBoost core.  Or some parameters are not used but slip through this\n",
      "  verification. Please open an issue if you find above cases.\n",
      "\n",
      "\n",
      "3601.0480777813696\n"
     ]
    },
    {
     "name": "stderr",
     "output_type": "stream",
     "text": [
      "/opt/conda/lib/python3.7/site-packages/ipykernel_launcher.py:3: RuntimeWarning: overflow encountered in expm1\n",
      "  This is separate from the ipykernel package so we can avoid doing imports until\n"
     ]
    }
   ],
   "source": [
    "model_xgb.fit(train, y_train)\n",
    "xgb_train_pred = model_xgb.predict(train)\n",
    "xgb_pred = np.expm1(model_xgb.predict(test))\n",
    "print(rmsle(y_train, xgb_train_pred))"
   ]
  },
  {
   "cell_type": "code",
   "execution_count": 122,
   "metadata": {
    "execution": {
     "iopub.execute_input": "2021-01-21T15:12:23.659646Z",
     "iopub.status.busy": "2021-01-21T15:12:23.654936Z",
     "iopub.status.idle": "2021-01-21T15:12:24.101190Z",
     "shell.execute_reply": "2021-01-21T15:12:24.100597Z"
    },
    "papermill": {
     "duration": 0.631229,
     "end_time": "2021-01-21T15:12:24.101308",
     "exception": false,
     "start_time": "2021-01-21T15:12:23.470079",
     "status": "completed"
    },
    "tags": []
   },
   "outputs": [
    {
     "name": "stdout",
     "output_type": "stream",
     "text": [
      "13289.712348777472\n"
     ]
    },
    {
     "name": "stderr",
     "output_type": "stream",
     "text": [
      "/opt/conda/lib/python3.7/site-packages/ipykernel_launcher.py:3: RuntimeWarning: overflow encountered in expm1\n",
      "  This is separate from the ipykernel package so we can avoid doing imports until\n"
     ]
    }
   ],
   "source": [
    "model_lgb.fit(train, y_train)\n",
    "lgb_train_pred = model_lgb.predict(train)\n",
    "lgb_pred = np.expm1(model_lgb.predict(test.values))\n",
    "print(rmsle(y_train, lgb_train_pred))"
   ]
  },
  {
   "cell_type": "code",
   "execution_count": 123,
   "metadata": {
    "execution": {
     "iopub.execute_input": "2021-01-21T15:12:24.475769Z",
     "iopub.status.busy": "2021-01-21T15:12:24.474763Z",
     "iopub.status.idle": "2021-01-21T15:12:24.480113Z",
     "shell.execute_reply": "2021-01-21T15:12:24.479142Z"
    },
    "papermill": {
     "duration": 0.194372,
     "end_time": "2021-01-21T15:12:24.480237",
     "exception": false,
     "start_time": "2021-01-21T15:12:24.285865",
     "status": "completed"
    },
    "tags": []
   },
   "outputs": [
    {
     "name": "stdout",
     "output_type": "stream",
     "text": [
      "RMSLE score on train data:\n",
      "12150.69540387214\n"
     ]
    }
   ],
   "source": [
    "print('RMSLE score on train data:')\n",
    "print(rmsle(y_train,stacked_train_pred*0.70 +\n",
    "               xgb_train_pred*0.15 + lgb_train_pred*0.15 ))"
   ]
  },
  {
   "cell_type": "code",
   "execution_count": null,
   "metadata": {
    "papermill": {
     "duration": 0.182822,
     "end_time": "2021-01-21T15:12:25.225624",
     "exception": false,
     "start_time": "2021-01-21T15:12:25.042802",
     "status": "completed"
    },
    "tags": []
   },
   "outputs": [],
   "source": []
  },
  {
   "cell_type": "code",
   "execution_count": null,
   "metadata": {
    "papermill": {
     "duration": 0.18315,
     "end_time": "2021-01-21T15:12:25.588621",
     "exception": false,
     "start_time": "2021-01-21T15:12:25.405471",
     "status": "completed"
    },
    "tags": []
   },
   "outputs": [],
   "source": []
  },
  {
   "cell_type": "code",
   "execution_count": null,
   "metadata": {
    "papermill": {
     "duration": 0.180461,
     "end_time": "2021-01-21T15:12:25.950163",
     "exception": false,
     "start_time": "2021-01-21T15:12:25.769702",
     "status": "completed"
    },
    "tags": []
   },
   "outputs": [],
   "source": []
  },
  {
   "cell_type": "code",
   "execution_count": null,
   "metadata": {
    "papermill": {
     "duration": 0.190804,
     "end_time": "2021-01-21T15:12:26.320637",
     "exception": false,
     "start_time": "2021-01-21T15:12:26.129833",
     "status": "completed"
    },
    "tags": []
   },
   "outputs": [],
   "source": []
  },
  {
   "cell_type": "code",
   "execution_count": null,
   "metadata": {
    "papermill": {
     "duration": 0.181559,
     "end_time": "2021-01-21T15:12:26.684664",
     "exception": false,
     "start_time": "2021-01-21T15:12:26.503105",
     "status": "completed"
    },
    "tags": []
   },
   "outputs": [],
   "source": []
  },
  {
   "cell_type": "code",
   "execution_count": null,
   "metadata": {
    "papermill": {
     "duration": 0.183504,
     "end_time": "2021-01-21T15:12:27.048598",
     "exception": false,
     "start_time": "2021-01-21T15:12:26.865094",
     "status": "completed"
    },
    "tags": []
   },
   "outputs": [],
   "source": []
  },
  {
   "cell_type": "code",
   "execution_count": null,
   "metadata": {
    "papermill": {
     "duration": 0.182407,
     "end_time": "2021-01-21T15:12:27.414948",
     "exception": false,
     "start_time": "2021-01-21T15:12:27.232541",
     "status": "completed"
    },
    "tags": []
   },
   "outputs": [],
   "source": []
  },
  {
   "cell_type": "code",
   "execution_count": null,
   "metadata": {
    "papermill": {
     "duration": 0.181751,
     "end_time": "2021-01-21T15:12:28.511114",
     "exception": false,
     "start_time": "2021-01-21T15:12:28.329363",
     "status": "completed"
    },
    "tags": []
   },
   "outputs": [],
   "source": []
  },
  {
   "cell_type": "code",
   "execution_count": null,
   "metadata": {
    "papermill": {
     "duration": 0.177402,
     "end_time": "2021-01-21T15:12:28.870107",
     "exception": false,
     "start_time": "2021-01-21T15:12:28.692705",
     "status": "completed"
    },
    "tags": []
   },
   "outputs": [],
   "source": []
  },
  {
   "cell_type": "code",
   "execution_count": null,
   "metadata": {
    "papermill": {
     "duration": 0.229057,
     "end_time": "2021-01-21T15:12:29.277503",
     "exception": false,
     "start_time": "2021-01-21T15:12:29.048446",
     "status": "completed"
    },
    "tags": []
   },
   "outputs": [],
   "source": []
  },
  {
   "cell_type": "code",
   "execution_count": null,
   "metadata": {
    "papermill": {
     "duration": 0.266173,
     "end_time": "2021-01-21T15:12:29.830146",
     "exception": false,
     "start_time": "2021-01-21T15:12:29.563973",
     "status": "completed"
    },
    "tags": []
   },
   "outputs": [],
   "source": []
  },
  {
   "cell_type": "code",
   "execution_count": null,
   "metadata": {
    "papermill": {
     "duration": 0.274905,
     "end_time": "2021-01-21T15:12:30.375192",
     "exception": false,
     "start_time": "2021-01-21T15:12:30.100287",
     "status": "completed"
    },
    "tags": []
   },
   "outputs": [],
   "source": []
  },
  {
   "cell_type": "code",
   "execution_count": null,
   "metadata": {
    "papermill": {
     "duration": 0.267752,
     "end_time": "2021-01-21T15:12:30.911640",
     "exception": false,
     "start_time": "2021-01-21T15:12:30.643888",
     "status": "completed"
    },
    "tags": []
   },
   "outputs": [],
   "source": []
  },
  {
   "cell_type": "code",
   "execution_count": null,
   "metadata": {
    "papermill": {
     "duration": 0.268166,
     "end_time": "2021-01-21T15:12:31.449239",
     "exception": false,
     "start_time": "2021-01-21T15:12:31.181073",
     "status": "completed"
    },
    "tags": []
   },
   "outputs": [],
   "source": []
  },
  {
   "cell_type": "code",
   "execution_count": null,
   "metadata": {
    "papermill": {
     "duration": 0.268131,
     "end_time": "2021-01-21T15:12:31.988483",
     "exception": false,
     "start_time": "2021-01-21T15:12:31.720352",
     "status": "completed"
    },
    "tags": []
   },
   "outputs": [],
   "source": []
  },
  {
   "cell_type": "code",
   "execution_count": null,
   "metadata": {
    "papermill": {
     "duration": 0.269725,
     "end_time": "2021-01-21T15:12:32.529273",
     "exception": false,
     "start_time": "2021-01-21T15:12:32.259548",
     "status": "completed"
    },
    "tags": []
   },
   "outputs": [],
   "source": []
  },
  {
   "cell_type": "code",
   "execution_count": null,
   "metadata": {
    "papermill": {
     "duration": 0.268589,
     "end_time": "2021-01-21T15:12:33.068602",
     "exception": false,
     "start_time": "2021-01-21T15:12:32.800013",
     "status": "completed"
    },
    "tags": []
   },
   "outputs": [],
   "source": []
  },
  {
   "cell_type": "code",
   "execution_count": null,
   "metadata": {
    "papermill": {
     "duration": 0.182212,
     "end_time": "2021-01-21T15:12:33.991907",
     "exception": false,
     "start_time": "2021-01-21T15:12:33.809695",
     "status": "completed"
    },
    "tags": []
   },
   "outputs": [],
   "source": []
  },
  {
   "cell_type": "code",
   "execution_count": null,
   "metadata": {
    "papermill": {
     "duration": 0.181877,
     "end_time": "2021-01-21T15:12:34.357170",
     "exception": false,
     "start_time": "2021-01-21T15:12:34.175293",
     "status": "completed"
    },
    "tags": []
   },
   "outputs": [],
   "source": []
  },
  {
   "cell_type": "code",
   "execution_count": null,
   "metadata": {
    "papermill": {
     "duration": 0.181957,
     "end_time": "2021-01-21T15:12:34.722084",
     "exception": false,
     "start_time": "2021-01-21T15:12:34.540127",
     "status": "completed"
    },
    "tags": []
   },
   "outputs": [],
   "source": []
  },
  {
   "cell_type": "code",
   "execution_count": null,
   "metadata": {
    "papermill": {
     "duration": 0.179611,
     "end_time": "2021-01-21T15:12:35.081927",
     "exception": false,
     "start_time": "2021-01-21T15:12:34.902316",
     "status": "completed"
    },
    "tags": []
   },
   "outputs": [],
   "source": []
  },
  {
   "cell_type": "code",
   "execution_count": null,
   "metadata": {
    "papermill": {
     "duration": 0.268877,
     "end_time": "2021-01-21T15:12:35.575605",
     "exception": false,
     "start_time": "2021-01-21T15:12:35.306728",
     "status": "completed"
    },
    "tags": []
   },
   "outputs": [],
   "source": []
  },
  {
   "cell_type": "code",
   "execution_count": null,
   "metadata": {
    "papermill": {
     "duration": 0.26961,
     "end_time": "2021-01-21T15:12:36.117055",
     "exception": false,
     "start_time": "2021-01-21T15:12:35.847445",
     "status": "completed"
    },
    "tags": []
   },
   "outputs": [],
   "source": []
  }
 ],
 "metadata": {
  "kernelspec": {
   "display_name": "Python 3",
   "language": "python",
   "name": "python3"
  },
  "language_info": {
   "codemirror_mode": {
    "name": "ipython",
    "version": 3
   },
   "file_extension": ".py",
   "mimetype": "text/x-python",
   "name": "python",
   "nbconvert_exporter": "python",
   "pygments_lexer": "ipython3",
   "version": "3.8.5"
  },
  "papermill": {
   "duration": 576.020676,
   "end_time": "2021-01-21T15:12:36.501030",
   "environment_variables": {},
   "exception": null,
   "input_path": "__notebook__.ipynb",
   "output_path": "__notebook__.ipynb",
   "parameters": {},
   "start_time": "2021-01-21T15:03:00.480354",
   "version": "2.1.0"
  }
 },
 "nbformat": 4,
 "nbformat_minor": 4
}
